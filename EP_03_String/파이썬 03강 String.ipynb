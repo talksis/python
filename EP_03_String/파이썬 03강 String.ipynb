{
 "cells": [
  {
   "cell_type": "markdown",
   "metadata": {},
   "source": [
    "# 문자열 다루기 - 1\n",
    "이번 강좌에서는 문자열에 대해서 알아봅시다.\n",
    "문자열은 우리의 데이터를 표현하기 위해서 필수적으로 필요하며, 다른 사람 혹은 다름 프로그램과 소통하기 위해서 반드시 필요합니다.  \n",
    "파이썬에서 문자열은 표현하기가 매우 쉽습니다. 하지만 다른 언어와 다른점이 있으니 잘 살펴보시길 바라며, 왜 그렇게 제작되었는지 생각해 보는 시간이 되었으면 합니다.  \n",
    "\n",
    "본 강좌는 다음과 같은 순서로 진행됩니다.\n",
    "\n",
    "1. 문자열 생성하기\n",
    "2. 문자열 프린트하기\n",
    "3. 문자열 인덱싱과 슬라이싱\n",
    "4. 문자열의 수정 불가능(Immutable)\n",
    "5. 문자열 메소드"
   ]
  },
  {
   "cell_type": "markdown",
   "metadata": {},
   "source": [
    "## 1. 문자열 생성하기\n",
    "파이썬의 특징 중 하나는 문자만을 저장하는 변수는 존재하지 않습니다. 다른 언어의 경우에는 문자의 변수에서 출발해서 문자열은 문자들을 모아놓은 것으로 만들어 갑니다. 하지만 파이썬은 이와는 다르게 아얘 모든 문자들을 문자열의 형태로 저장합니다.   \n",
    "문자열 생성 기호는 다음과 같은 기호를 사용합니다.\n",
    "\n",
    "```python\n",
    "'   ' #(작은 따옴표, Single quotes)\n",
    "\"   \" #(큰 따옴표, Double quotes)\n",
    "```\n",
    "\n",
    "또한 여러 행의 문자열을 만들기 위해서는 다음과 같은 기호를 사용합니다. \n",
    "```python\n",
    "\n",
    "''' 여러 \n",
    "줄의 문자열을\n",
    "이렇게 넣을 수 있습니다.'''\n",
    "\n",
    "\"\"\"마찬가지로\n",
    "큰 따옴표를 써서\n",
    "이렇게 여러줄에 문자열을 넣을 수 있습니다.\"\"\"\n",
    "\n",
    "```\n",
    "위의 기호를 사용하면, 기호 안에 있는 자료들은 문자열로 저장됩니다.  이 때 __반드시 지켜야할 규칙은 문자열을 생성하는 기호는 짝이 맞아야 합니다.__ 따라서 반드시 열었다면, 닫아야 한다는 것입니다. 즉, 어떤 문자열이던 기호는 짝수개가 등장하게 됩니다.\n"
   ]
  },
  {
   "cell_type": "markdown",
   "metadata": {},
   "source": [
    "### 문자열 생성, 작은 따옴표"
   ]
  },
  {
   "cell_type": "code",
   "execution_count": 1,
   "metadata": {},
   "outputs": [
    {
     "data": {
      "text/plain": [
       "'Hello'"
      ]
     },
     "execution_count": 1,
     "metadata": {},
     "output_type": "execute_result"
    }
   ],
   "source": [
    "'Hello'"
   ]
  },
  {
   "cell_type": "code",
   "execution_count": 2,
   "metadata": {},
   "outputs": [
    {
     "data": {
      "text/plain": [
       "'Hello Python3! I am a newbie in python world.'"
      ]
     },
     "execution_count": 2,
     "metadata": {},
     "output_type": "execute_result"
    }
   ],
   "source": [
    "'Hello Python3! I am a newbie in python world.'"
   ]
  },
  {
   "cell_type": "code",
   "execution_count": 3,
   "metadata": {},
   "outputs": [
    {
     "ename": "SyntaxError",
     "evalue": "EOL while scanning string literal (<ipython-input-3-6532e816292d>, line 2)",
     "output_type": "error",
     "traceback": [
      "\u001b[1;36m  File \u001b[1;32m\"<ipython-input-3-6532e816292d>\"\u001b[1;36m, line \u001b[1;32m2\u001b[0m\n\u001b[1;33m    'Hello Python!.\u001b[0m\n\u001b[1;37m                    ^\u001b[0m\n\u001b[1;31mSyntaxError\u001b[0m\u001b[1;31m:\u001b[0m EOL while scanning string literal\n"
     ]
    }
   ],
   "source": [
    "#만약 문자열의 기호에 짝을 맞추지 않는다면 에러가 발생\n",
    "'Hello Python!. "
   ]
  },
  {
   "cell_type": "code",
   "execution_count": 4,
   "metadata": {},
   "outputs": [
    {
     "data": {
      "text/plain": [
       "' 여러 줄은 다음과 같이 생성할 수 있습니다. \\n작은 따옴표 3개 보이시나요?\\n이렇게 3개로 묶은 후 엔터를 통하여 줄을 개행하면서 \\n사용할 수 있습니다.'"
      ]
     },
     "execution_count": 4,
     "metadata": {},
     "output_type": "execute_result"
    }
   ],
   "source": [
    "''' 여러 줄은 다음과 같이 생성할 수 있습니다. \n",
    "작은 따옴표 3개 보이시나요?\n",
    "이렇게 3개로 묶은 후 엔터를 통하여 줄을 개행하면서 \n",
    "사용할 수 있습니다.'''"
   ]
  },
  {
   "cell_type": "markdown",
   "metadata": {},
   "source": [
    "### 문자열 생성. 큰 따옴표\n",
    "문자열을 생성할 때에는 자료를 큰 따옴표 안에 넣어 표현할 수 있습니다."
   ]
  },
  {
   "cell_type": "code",
   "execution_count": 5,
   "metadata": {},
   "outputs": [
    {
     "data": {
      "text/plain": [
       "'Hello'"
      ]
     },
     "execution_count": 5,
     "metadata": {},
     "output_type": "execute_result"
    }
   ],
   "source": [
    "\"Hello\""
   ]
  },
  {
   "cell_type": "code",
   "execution_count": 6,
   "metadata": {},
   "outputs": [
    {
     "data": {
      "text/plain": [
       "'안녕하세요 파이썬의 문자열 생성을 배우는 학생 여러분!'"
      ]
     },
     "execution_count": 6,
     "metadata": {},
     "output_type": "execute_result"
    }
   ],
   "source": [
    "\"안녕하세요 파이썬의 문자열 생성을 배우는 학생 여러분!\""
   ]
  },
  {
   "cell_type": "code",
   "execution_count": 7,
   "metadata": {},
   "outputs": [
    {
     "data": {
      "text/plain": [
       "'큰 따옴표로 여러 줄의 문자열을 생성할 수  있습니다.\\n작은 따옴표와 똑같은 방법으로 \\n줄을 개행하면서 사용할 수 있죠'"
      ]
     },
     "execution_count": 7,
     "metadata": {},
     "output_type": "execute_result"
    }
   ],
   "source": [
    "\"\"\"큰 따옴표로 여러 줄의 문자열을 생성할 수  있습니다.\n",
    "작은 따옴표와 똑같은 방법으로 \n",
    "줄을 개행하면서 사용할 수 있죠\"\"\""
   ]
  },
  {
   "cell_type": "markdown",
   "metadata": {},
   "source": [
    "### 문자열 생성, 기호를 사용해야 하는 경우\n",
    "문자열을 생성하는 기호가 2개가 있다는 것인 이상하지 않으신가요? 우리가 여러 가지 기호를 사용하다보면 필수적으로 기호를 사용해야 하는 경우가 있습니다. 다음과 같은 경우를 생각해 봅시다. __'I am'__ 을 줄여서 __I'm__ 으로 사용할 수 있습니다. 그런데 이러한 경우 문자열을ㄹ 작은 따옴표 기호를 사용한다면 짝이 맞아야 한다는 문자열 생성 규칙에 위배됩니다. 따라서 이러한 경우에는 ' 가 문자열 안쪽에 쓰이기 때문에 큰 따옴표를 사용하여 묶을 수 있습니다.  \n",
    "반대의 경우도 마찬가지 입니다. 만약 인용문을 사용하는 경우를 생각해 봅시다. 인용문을 사용하는 경우 큰 따옴표를 사용하게 됩니다. 따라서 이러한 경우 작은 따옴표로 묶어서 사용할 수 있습니다."
   ]
  },
  {
   "cell_type": "code",
   "execution_count": 8,
   "metadata": {},
   "outputs": [
    {
     "ename": "SyntaxError",
     "evalue": "invalid syntax (<ipython-input-8-a1d832d9651f>, line 1)",
     "output_type": "error",
     "traceback": [
      "\u001b[1;36m  File \u001b[1;32m\"<ipython-input-8-a1d832d9651f>\"\u001b[1;36m, line \u001b[1;32m1\u001b[0m\n\u001b[1;33m    'Hello Python! I'm a newbie!\u001b[0m\n\u001b[1;37m                     ^\u001b[0m\n\u001b[1;31mSyntaxError\u001b[0m\u001b[1;31m:\u001b[0m invalid syntax\n"
     ]
    }
   ],
   "source": [
    "'Hello Python! I'm a newbie!"
   ]
  },
  {
   "cell_type": "code",
   "execution_count": 9,
   "metadata": {},
   "outputs": [
    {
     "data": {
      "text/plain": [
       "\"Hello Python! I'm newbie!\""
      ]
     },
     "execution_count": 9,
     "metadata": {},
     "output_type": "execute_result"
    }
   ],
   "source": [
    "\"Hello Python! I'm newbie!\""
   ]
  },
  {
   "cell_type": "code",
   "execution_count": 10,
   "metadata": {},
   "outputs": [
    {
     "data": {
      "text/plain": [
       "'강사가 이렇게 말했어요. \"문자열의 기호는 짝이 맞아야 한다!\"라고 말이죠.'"
      ]
     },
     "execution_count": 10,
     "metadata": {},
     "output_type": "execute_result"
    }
   ],
   "source": [
    "'강사가 이렇게 말했어요. \"문자열의 기호는 짝이 맞아야 한다!\"라고 말이죠.'"
   ]
  },
  {
   "cell_type": "markdown",
   "metadata": {},
   "source": [
    "만약 한 문자열에 작은 따옴표와 큰 따옴표를 모두 써야하는 경우를 생각해 봅시다. 이러한 경우에는 위에서 알게 된 규칙을 사용할 수 없게 됩니다. 따라서 이러한 경우에는 특수한 방법으로 큰 따옴표를 문자로 인식시킬 수 있습니다."
   ]
  },
  {
   "cell_type": "code",
   "execution_count": 11,
   "metadata": {},
   "outputs": [
    {
     "data": {
      "text/plain": [
       "'He says, \"I\\'m newbie in Python world!\"'"
      ]
     },
     "execution_count": 11,
     "metadata": {},
     "output_type": "execute_result"
    }
   ],
   "source": [
    "\"He says, \\\"I'm newbie in Python world!\\\"\""
   ]
  },
  {
   "cell_type": "markdown",
   "metadata": {},
   "source": [
    "## 2. 문자열 프린트 하기\n",
    "문자열을 콘솔창에 출력하기 위해서는 함수를 사용해야 합니다. 함수는 입력과 출력이 있으며, 중간에 처리과정을 거치게 되는 것을 말합니다. 이 부분에 대해서는 차후 좀 더 자세하게 설명하도록 하겠습니다. 일단 우리는 콘솔창에 출력을 하는 함수를 사용해 보도록 하겠습니다. 그 함수는 다음과 같은 방법으로 사용할 수 있습니다.\n",
    "```python\n",
    "print('Hello Python3!')\n",
    "\n",
    "```\n",
    "print 함수를 사용합니다. 프린트 함수는 __print( 데이터 )__ 와 같은 방법으로 사용할 수 있습니다. 참고로 파이썬2에서는 __print 데이터__ 와 같은 방법으로 사용하였습니다만, 파이썬3 버전에서는 print가 함수가 되었습니다.\n",
    "```python\n",
    "print 'Hello Python2' #파이썬 3에서는 에러가 발생\n",
    "print('Hello Python3')\n",
    "```"
   ]
  },
  {
   "cell_type": "code",
   "execution_count": 12,
   "metadata": {},
   "outputs": [
    {
     "ename": "SyntaxError",
     "evalue": "Missing parentheses in call to 'print' (<ipython-input-12-8109a3ea870b>, line 1)",
     "output_type": "error",
     "traceback": [
      "\u001b[1;36m  File \u001b[1;32m\"<ipython-input-12-8109a3ea870b>\"\u001b[1;36m, line \u001b[1;32m1\u001b[0m\n\u001b[1;33m    print 'Hello Python2'\u001b[0m\n\u001b[1;37m                        ^\u001b[0m\n\u001b[1;31mSyntaxError\u001b[0m\u001b[1;31m:\u001b[0m Missing parentheses in call to 'print'\n"
     ]
    }
   ],
   "source": [
    "print 'Hello Python2'"
   ]
  },
  {
   "cell_type": "code",
   "execution_count": 13,
   "metadata": {},
   "outputs": [
    {
     "name": "stdout",
     "output_type": "stream",
     "text": [
      "Hello Python3\n"
     ]
    }
   ],
   "source": [
    "print('Hello Python3')"
   ]
  },
  {
   "cell_type": "code",
   "execution_count": 14,
   "metadata": {},
   "outputs": [
    {
     "name": "stdout",
     "output_type": "stream",
     "text": [
      "Hello Python3\n"
     ]
    }
   ],
   "source": [
    "#변수에 문자열을 대입한 후 변수를 통하여 출력하기\n",
    "my_string = 'Hello Python3'\n",
    "print(my_string)"
   ]
  },
  {
   "cell_type": "code",
   "execution_count": 15,
   "metadata": {},
   "outputs": [
    {
     "name": "stdout",
     "output_type": "stream",
     "text": [
      "여러 줄을 생성해서 문자열에 대입할 수 있습니다.\n",
      "마찬가지로 조금은 이상해 보일 수 있지만, 파이썬 인터프리터가\n",
      "정말 잘 파악하고 문자열로 전환하여 저장하게 되죠. \n",
      "작은 따옴표로도 문자열을 여러 줄로 생성할 수 있다는 사실\n",
      "기억하고 계신가요?\n",
      "이렇게 쓸 수 있어요.\n"
     ]
    }
   ],
   "source": [
    "my_string = \"\"\"여러 줄을 생성해서 문자열에 대입할 수 있습니다.\n",
    "마찬가지로 조금은 이상해 보일 수 있지만, 파이썬 인터프리터가\n",
    "정말 잘 파악하고 문자열로 전환하여 저장하게 되죠. \"\"\"\n",
    "print(my_string)\n",
    "my_string = '''작은 따옴표로도 문자열을 여러 줄로 생성할 수 있다는 사실\n",
    "기억하고 계신가요?\n",
    "이렇게 쓸 수 있어요.'''\n",
    "print(my_string)"
   ]
  },
  {
   "cell_type": "code",
   "execution_count": 16,
   "metadata": {},
   "outputs": [
    {
     "name": "stdout",
     "output_type": "stream",
     "text": [
      "물론 따옴표 한 쌍만 사용하여 여러 줄의 문자열을 생성할 수 있어요 \\n을 사용하면 되는데요. \n",
      " 역슬래시 n을 문자열에 보내는 방법도 응용가능 하겠죠?\n"
     ]
    }
   ],
   "source": [
    "my_string = '물론 따옴표 한 쌍만 사용하여 여러 줄의 문자열을 생성할 수 있어요 \\\\n을 사용하면 되는데요. \\n 역슬래시 n을 문자열에 보내는 방법도 응용가능 하겠죠?'\n",
    "print(my_string)"
   ]
  },
  {
   "cell_type": "markdown",
   "metadata": {},
   "source": [
    "## 3. 문자열 인덱싱과 슬라이싱\n",
    "### 문자열 인덱싱\n",
    "문자열은 다양한 문자들의 집합입니다. 따라서 문자열 안에 있는 특정 문자에 접근할 수 있는 방법이 필요합니다.\n",
    "따라서 문자열의 특정 문자에 접근하는 방법을 알아보겠습니다.\n",
    "먼저 문자열은 순서를 가지고 있습니다. 아래의 예를 살펴봅시다. \n",
    "\n",
    "|H|e|l|l|o| |W|o|r|l|d|\n",
    "|:----:|:----:|:----:|:----:|:----:|:----:|:----:|:----:|:----:|:----:|:----:|\n",
    "|0|1|2|3|4|5|6|7|8|9|10|\n",
    "|-11|-10|-9|-8|-7|-6|-5|-4|-3|-2|-1|  \n",
    "\n",
    "\n",
    "\n",
    "이처럼 문자열은 선형의 구조를 가지고 있기 때문에 각각의 문자에 대해서 숫자값을 대입할 수 있게 됩니다. 이를 이용하여 각 문자에 접근할 수 있게 됩니다. 이때 각 번호를 일반적으로 인덱스 라고 말합니다. 이를 우리말로 나타내면 __색인, 또는 순화해서 찾아보기__ 정도의 뜻입니다. 이렇게 특정 문자를 찾아내는 작업을 indexing,인덱싱 이라고 합니다.\n",
    "\n",
    "\n",
    "한 가지 주의해야 할 점은 첫번째 순서를 1번이라고 생각하지만, 컴퓨터과학엑서는 0부터가 일반적입니다. 따라서 첫번째 문자인 H가 0인 것을 확인하시기 바랍니다. 또한 공백 역시도 하나의 문자입니다. 따라서 o와 W 사이의 공백에도 순서가 정해져 있습니다.  \n",
    "\n",
    "그리고 파이썬에서는 조금 특이하게 역방향의 순서까지도 쓸 수 있습니다. 맨 뒤에서 부터 -1 번호를 주어 거꾸로 셀 수 있습니다. \n",
    "\n",
    "파이썬에서 특정 문자를 찾는 방법은 순서를 쓰는 것입니다. 이때 특정 순서를 위한 기호는 __[  ]__ 입니다. 이 기호 안에 순서를 기입하면 그 문자가 반환됩니다."
   ]
  },
  {
   "cell_type": "code",
   "execution_count": 17,
   "metadata": {},
   "outputs": [
    {
     "data": {
      "text/plain": [
       "'Hello World'"
      ]
     },
     "execution_count": 17,
     "metadata": {},
     "output_type": "execute_result"
    }
   ],
   "source": [
    "index_string = 'Hello World'\n",
    "index_string"
   ]
  },
  {
   "cell_type": "code",
   "execution_count": 18,
   "metadata": {},
   "outputs": [
    {
     "data": {
      "text/plain": [
       "'H'"
      ]
     },
     "execution_count": 18,
     "metadata": {},
     "output_type": "execute_result"
    }
   ],
   "source": [
    "index_string[0] "
   ]
  },
  {
   "cell_type": "code",
   "execution_count": 19,
   "metadata": {},
   "outputs": [
    {
     "data": {
      "text/plain": [
       "'o'"
      ]
     },
     "execution_count": 19,
     "metadata": {},
     "output_type": "execute_result"
    }
   ],
   "source": [
    "index_string[4]"
   ]
  },
  {
   "cell_type": "code",
   "execution_count": 20,
   "metadata": {},
   "outputs": [
    {
     "data": {
      "text/plain": [
       "' '"
      ]
     },
     "execution_count": 20,
     "metadata": {},
     "output_type": "execute_result"
    }
   ],
   "source": [
    "index_string[5] #공백이 출력된다."
   ]
  },
  {
   "cell_type": "code",
   "execution_count": 21,
   "metadata": {},
   "outputs": [
    {
     "data": {
      "text/plain": [
       "' '"
      ]
     },
     "execution_count": 21,
     "metadata": {},
     "output_type": "execute_result"
    }
   ],
   "source": [
    "index_string[-6] #공백이 출력된다."
   ]
  },
  {
   "cell_type": "code",
   "execution_count": 22,
   "metadata": {},
   "outputs": [
    {
     "data": {
      "text/plain": [
       "'H'"
      ]
     },
     "execution_count": 22,
     "metadata": {},
     "output_type": "execute_result"
    }
   ],
   "source": [
    "index_string[-0] #-0 이라는 수는 사실 0 이기 때문에 음의 방향의 인덱싱의 경우 -1부터 시작하게 됩니다."
   ]
  },
  {
   "cell_type": "code",
   "execution_count": 23,
   "metadata": {},
   "outputs": [
    {
     "ename": "IndexError",
     "evalue": "string index out of range",
     "output_type": "error",
     "traceback": [
      "\u001b[1;31m---------------------------------------------------------------------------\u001b[0m",
      "\u001b[1;31mIndexError\u001b[0m                                Traceback (most recent call last)",
      "\u001b[1;32m<ipython-input-23-fe175622777a>\u001b[0m in \u001b[0;36m<module>\u001b[1;34m()\u001b[0m\n\u001b[1;32m----> 1\u001b[1;33m \u001b[0mindex_string\u001b[0m\u001b[1;33m[\u001b[0m\u001b[1;36m11\u001b[0m\u001b[1;33m]\u001b[0m\u001b[1;33m\u001b[0m\u001b[0m\n\u001b[0m",
      "\u001b[1;31mIndexError\u001b[0m: string index out of range"
     ]
    }
   ],
   "source": [
    "index_string[11]"
   ]
  },
  {
   "cell_type": "markdown",
   "metadata": {},
   "source": [
    "### 문자열 슬라이싱\n",
    "\n",
    "문자열에서 특정 문자에 접근하는 인덱싱이 있지만, 우리가 문자열의 부분의 문자열에 접근해야 하는 경우도 있습니다. 물론 문자인덱싱을 여러번 하여 새로운 문자열을 만들어도 되지만, 이를 한번에 하는 방법도 있습니다. 바로 슬라이싱 입니다. slice의 뜻은 얇은 조각이라는 뜻인데요, 문자열을 작은 조각으로 자르는 작업이기 때문에 이를 슬라이싱이라고 합니다.\n",
    "\n",
    "슬라이싱을 위해서는 인덱싱과 같은 기호를 사용하지만 사용방법이 다릅니다. 인덱싱은 순서만 넣으면 되었다면, 슬라이싱에는 기본적으로 필요한 2가지가 있습니다. 시작위치와 끝 위치겠죠. 따라서 2개의 인자는 반드시 들어간다는 표시를 해주게되면 슬라이싱이 됩니다.\n",
    "\n",
    "__[시작위치:끝위치]__\n",
    "\n",
    "이 방법이 기본적인 방법입니다. 그런데 우리가 항상 1씩 이동하며 세어보는 것은 아니기 때문에 인자 하나를 더 추가할 수 있습니다.\n",
    "\n",
    "__[시작위치:끝위치:스텝]__\n",
    "\n",
    "스텝을 적지 않으면 기본으로 1이 들어가게 되며, 만약 음의 방향으로 탐색하는 경우에는 -1이 됩니다. \n",
    "스텝을 높여주면 그 스텝만큼 이동하면서 읽게 됩니다.\n"
   ]
  },
  {
   "cell_type": "code",
   "execution_count": 24,
   "metadata": {},
   "outputs": [
    {
     "data": {
      "text/plain": [
       "'Hello World'"
      ]
     },
     "execution_count": 24,
     "metadata": {},
     "output_type": "execute_result"
    }
   ],
   "source": [
    "slice_string = 'Hello World'\n",
    "slice_string"
   ]
  },
  {
   "cell_type": "code",
   "execution_count": 25,
   "metadata": {},
   "outputs": [
    {
     "data": {
      "text/plain": [
       "'Hello World'"
      ]
     },
     "execution_count": 25,
     "metadata": {},
     "output_type": "execute_result"
    }
   ],
   "source": [
    "slice_string[:] #시작위치 기본값, 끝위치 기본값"
   ]
  },
  {
   "cell_type": "code",
   "execution_count": 26,
   "metadata": {},
   "outputs": [
    {
     "data": {
      "text/plain": [
       "'Hello Worl'"
      ]
     },
     "execution_count": 26,
     "metadata": {},
     "output_type": "execute_result"
    }
   ],
   "source": [
    "slice_string[0:10] \n",
    "#끝 위치가 10인 경우 d가 나오지 않는다."
   ]
  },
  {
   "cell_type": "code",
   "execution_count": 27,
   "metadata": {},
   "outputs": [
    {
     "data": {
      "text/plain": [
       "'Hello World'"
      ]
     },
     "execution_count": 27,
     "metadata": {},
     "output_type": "execute_result"
    }
   ],
   "source": [
    "slice_string[0:11]\n",
    "#끝 위치가 11인 경우 d까지 출력된다. 따라서 마지막 문자열을 포함하기 위해서는 1개 더 크게"
   ]
  },
  {
   "cell_type": "code",
   "execution_count": 28,
   "metadata": {},
   "outputs": [
    {
     "data": {
      "text/plain": [
       "'o World'"
      ]
     },
     "execution_count": 28,
     "metadata": {},
     "output_type": "execute_result"
    }
   ],
   "source": [
    "slice_string[4:] #시작위치 index 4 끝위치 기본값(끝까지)"
   ]
  },
  {
   "cell_type": "code",
   "execution_count": 29,
   "metadata": {},
   "outputs": [
    {
     "data": {
      "text/plain": [
       "'Hell'"
      ]
     },
     "execution_count": 29,
     "metadata": {},
     "output_type": "execute_result"
    }
   ],
   "source": [
    "slice_string[:4] #시작위치 기본값(시작), 끝위치 index 4 전까지(0부터 3까지 출력, 4는 제외)"
   ]
  },
  {
   "cell_type": "code",
   "execution_count": 30,
   "metadata": {},
   "outputs": [
    {
     "data": {
      "text/plain": [
       "''"
      ]
     },
     "execution_count": 30,
     "metadata": {},
     "output_type": "execute_result"
    }
   ],
   "source": [
    "slice_string[1:1]"
   ]
  },
  {
   "cell_type": "code",
   "execution_count": 31,
   "metadata": {},
   "outputs": [
    {
     "data": {
      "text/plain": [
       "'ld'"
      ]
     },
     "execution_count": 31,
     "metadata": {},
     "output_type": "execute_result"
    }
   ],
   "source": [
    "slice_string[-2:] \n",
    "#다음과 같은 경우에는 -2부터 시작해서 문자열의 마지막을 포함한다. \n",
    "#따라서 2글자만 출력\n",
    "#만약 5글자를 출력하고 싶다면 -5 부터 출력하면 된다."
   ]
  },
  {
   "cell_type": "code",
   "execution_count": 32,
   "metadata": {},
   "outputs": [
    {
     "data": {
      "text/plain": [
       "''"
      ]
     },
     "execution_count": 32,
     "metadata": {},
     "output_type": "execute_result"
    }
   ],
   "source": [
    "slice_string[-1:-11]\n",
    "#기본 스텝은 양수 1임으로 위의 조건에선 해당하는 문자열이 없다."
   ]
  },
  {
   "cell_type": "code",
   "execution_count": 33,
   "metadata": {},
   "outputs": [
    {
     "data": {
      "text/plain": [
       "'World'"
      ]
     },
     "execution_count": 33,
     "metadata": {},
     "output_type": "execute_result"
    }
   ],
   "source": [
    "slice_string[-5:]"
   ]
  },
  {
   "cell_type": "code",
   "execution_count": 34,
   "metadata": {},
   "outputs": [
    {
     "data": {
      "text/plain": [
       "'HloWrd'"
      ]
     },
     "execution_count": 34,
     "metadata": {},
     "output_type": "execute_result"
    }
   ],
   "source": [
    "slice_string[::2]\n",
    "#스텝을 2로 정하면 2칸씩 띄어가며 읽는다, 0번 2, 4... 이런 방식이다."
   ]
  },
  {
   "cell_type": "code",
   "execution_count": 35,
   "metadata": {},
   "outputs": [
    {
     "data": {
      "text/plain": [
       "'dlroW olleH'"
      ]
     },
     "execution_count": 35,
     "metadata": {},
     "output_type": "execute_result"
    }
   ],
   "source": [
    "slice_string[::-1] \n",
    "#만약 음의 방향 스텝이 된다면, 시작위치와 끝위치가 역이 된다."
   ]
  },
  {
   "cell_type": "code",
   "execution_count": 36,
   "metadata": {},
   "outputs": [
    {
     "data": {
      "text/plain": [
       "''"
      ]
     },
     "execution_count": 36,
     "metadata": {},
     "output_type": "execute_result"
    }
   ],
   "source": [
    "slice_string[1:10:-1]\n",
    "#음의 방향으로 세는데 시작 위치와 끝 위치가 양의 방향이라면 아무것도 반환되지 않는다."
   ]
  },
  {
   "cell_type": "markdown",
   "metadata": {},
   "source": [
    "### 참고 한글은 어떻게 될까?\n",
    "한글을 기본적으로 일반 알파벳 혹은 특수문자에 비해서 더 많은 자료공간을 요구합니다. 따라서 다른 언어의 경우에는 이를 이용하기가 매우 복잡합니다. \n",
    "하지만 파이썬에서의 한글은 매우 간단한데요. 어떻게 처리되는지 살펴봅시다."
   ]
  },
  {
   "cell_type": "code",
   "execution_count": 37,
   "metadata": {},
   "outputs": [
    {
     "data": {
      "text/plain": [
       "'세종대왕이 창제한 한글은 우수한 문자입니다.'"
      ]
     },
     "execution_count": 37,
     "metadata": {},
     "output_type": "execute_result"
    }
   ],
   "source": [
    "korean_string = '세종대왕이 창제한 한글은 우수한 문자입니다.'\n",
    "korean_string"
   ]
  },
  {
   "cell_type": "code",
   "execution_count": 38,
   "metadata": {},
   "outputs": [
    {
     "data": {
      "text/plain": [
       "'세'"
      ]
     },
     "execution_count": 38,
     "metadata": {},
     "output_type": "execute_result"
    }
   ],
   "source": [
    "korean_string[0]"
   ]
  },
  {
   "cell_type": "code",
   "execution_count": 39,
   "metadata": {},
   "outputs": [
    {
     "data": {
      "text/plain": [
       "'.'"
      ]
     },
     "execution_count": 39,
     "metadata": {},
     "output_type": "execute_result"
    }
   ],
   "source": [
    "korean_string[-1]"
   ]
  },
  {
   "cell_type": "code",
   "execution_count": 40,
   "metadata": {},
   "outputs": [
    {
     "data": {
      "text/plain": [
       "'세종대왕이'"
      ]
     },
     "execution_count": 40,
     "metadata": {},
     "output_type": "execute_result"
    }
   ],
   "source": [
    "korean_string[0:5]"
   ]
  },
  {
   "cell_type": "code",
   "execution_count": 41,
   "metadata": {},
   "outputs": [
    {
     "data": {
      "text/plain": [
       "'세종대왕'"
      ]
     },
     "execution_count": 41,
     "metadata": {},
     "output_type": "execute_result"
    }
   ],
   "source": [
    "korean_string[0:4]"
   ]
  },
  {
   "cell_type": "code",
   "execution_count": 42,
   "metadata": {},
   "outputs": [
    {
     "data": {
      "text/plain": [
       "''"
      ]
     },
     "execution_count": 42,
     "metadata": {},
     "output_type": "execute_result"
    }
   ],
   "source": [
    "korean_string[-4:-9]"
   ]
  },
  {
   "cell_type": "code",
   "execution_count": 43,
   "metadata": {},
   "outputs": [
    {
     "data": {
      "text/plain": [
       "'수한 문자'"
      ]
     },
     "execution_count": 43,
     "metadata": {},
     "output_type": "execute_result"
    }
   ],
   "source": [
    "korean_string[-9:-4]"
   ]
  },
  {
   "cell_type": "code",
   "execution_count": 44,
   "metadata": {},
   "outputs": [
    {
     "data": {
      "text/plain": [
       "'한 문자입'"
      ]
     },
     "execution_count": 44,
     "metadata": {},
     "output_type": "execute_result"
    }
   ],
   "source": [
    "korean_string[-8:-3]"
   ]
  },
  {
   "cell_type": "markdown",
   "metadata": {},
   "source": [
    "### 참고 파이썬에서의 주석처리\n",
    "파이썬에서 주석처리는 단행일 경우에는 앞에 __#__ 기호를 붙여주면 코드로 인식하지 않습니다. 그런데 여러줄의 주석은 어떻게 처리할까요? 파이썬에서 여러 줄의 주석을 따로 처리하는 데코레이터는 없습니다. 여러 줄을 처리할 경우에는 그냥 문자열로 처리해 버리면 됩니다."
   ]
  },
  {
   "cell_type": "code",
   "execution_count": 45,
   "metadata": {},
   "outputs": [],
   "source": [
    "#한 줄 주석은 이렇게 처리합니다."
   ]
  },
  {
   "cell_type": "code",
   "execution_count": 46,
   "metadata": {},
   "outputs": [
    {
     "data": {
      "text/plain": [
       "'이렇게 문자열 처럼\\n주석을 처리해 됩니다.'"
      ]
     },
     "execution_count": 46,
     "metadata": {},
     "output_type": "execute_result"
    }
   ],
   "source": [
    "#두 줄 이상의 경우는 이렇게\n",
    "#각 줄을 주석처리해도 되고\n",
    "\n",
    "'''이렇게 문자열 처럼\n",
    "주석을 처리해 됩니다.'''"
   ]
  },
  {
   "cell_type": "markdown",
   "metadata": {},
   "source": [
    "## 4. 문자열의 수정 불가능 (immutable)\n",
    "\n",
    "다른 언어와는 다르게 파이썬의 문자열은 수정 불가능 객체라고 합니다. 이를 Immutalbe 이라고 합니다. 만약 문자열을 수정하게 된다면, 그것은 수정이 아니라 새로운 문자열을 만드는 것이 됩니다. 다음의 코드를 확인해 봅시다.\n",
    "    "
   ]
  },
  {
   "cell_type": "code",
   "execution_count": 47,
   "metadata": {},
   "outputs": [
    {
     "data": {
      "text/plain": [
       "'l'"
      ]
     },
     "execution_count": 47,
     "metadata": {},
     "output_type": "execute_result"
    }
   ],
   "source": [
    "my_string = 'Hello World'\n",
    "my_string[3]"
   ]
  },
  {
   "cell_type": "code",
   "execution_count": 48,
   "metadata": {},
   "outputs": [
    {
     "ename": "TypeError",
     "evalue": "'str' object does not support item assignment",
     "output_type": "error",
     "traceback": [
      "\u001b[1;31m---------------------------------------------------------------------------\u001b[0m",
      "\u001b[1;31mTypeError\u001b[0m                                 Traceback (most recent call last)",
      "\u001b[1;32m<ipython-input-48-36bfe6da2cb8>\u001b[0m in \u001b[0;36m<module>\u001b[1;34m()\u001b[0m\n\u001b[1;32m----> 1\u001b[1;33m \u001b[0mmy_string\u001b[0m\u001b[1;33m[\u001b[0m\u001b[1;36m3\u001b[0m\u001b[1;33m]\u001b[0m\u001b[1;33m=\u001b[0m\u001b[1;34m'h'\u001b[0m \u001b[1;31m#에러\u001b[0m\u001b[1;33m\u001b[0m\u001b[0m\n\u001b[0m",
      "\u001b[1;31mTypeError\u001b[0m: 'str' object does not support item assignment"
     ]
    }
   ],
   "source": [
    "my_string[3]='h' #에러"
   ]
  },
  {
   "cell_type": "code",
   "execution_count": 49,
   "metadata": {},
   "outputs": [],
   "source": [
    "#문자열을 수정하려면 새로운 객체가 된다는 것은 다음의 코드를 통해 확인할 수 있습니다. \n",
    "string1 = 'Hello World'\n",
    "string2 = string1\n",
    "string1 = 'Hello New World!'"
   ]
  },
  {
   "cell_type": "code",
   "execution_count": 50,
   "metadata": {},
   "outputs": [
    {
     "name": "stdout",
     "output_type": "stream",
     "text": [
      "Hello New World!\n"
     ]
    }
   ],
   "source": [
    "print(string1)"
   ]
  },
  {
   "cell_type": "code",
   "execution_count": 51,
   "metadata": {},
   "outputs": [
    {
     "name": "stdout",
     "output_type": "stream",
     "text": [
      "Hello World\n"
     ]
    }
   ],
   "source": [
    "print(string2)"
   ]
  },
  {
   "cell_type": "markdown",
   "metadata": {},
   "source": [
    "문자열의 수정은 슬라이싱을 통해 새롭게 만들 수 있습니다. 내가 기존의 문자열에서 쓰고 싶은 부분만을 뜯어내고 만들 수 있습니다. 또한 string에서 기본적으로 제공하는 것을 사용하여 만들 수 있습니다. \n",
    "\n",
    "Hello World 라는 문자열에서 o를 제외한 나머지만을 가지고 문자열을 만들어 보겠습니다.\n"
   ]
  },
  {
   "cell_type": "code",
   "execution_count": 52,
   "metadata": {},
   "outputs": [
    {
     "name": "stdout",
     "output_type": "stream",
     "text": [
      "Hell World\n"
     ]
    }
   ],
   "source": [
    "new_string = 'Hello World'[0:4]+'Hello World'[5:]\n",
    "print(new_string)"
   ]
  }
 ],
 "metadata": {
  "kernelspec": {
   "display_name": "Python 3",
   "language": "python",
   "name": "python3"
  },
  "language_info": {
   "codemirror_mode": {
    "name": "ipython",
    "version": 3
   },
   "file_extension": ".py",
   "mimetype": "text/x-python",
   "name": "python",
   "nbconvert_exporter": "python",
   "pygments_lexer": "ipython3",
   "version": "3.6.2"
  }
 },
 "nbformat": 4,
 "nbformat_minor": 2
}
