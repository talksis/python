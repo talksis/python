{
 "cells": [
  {
   "cell_type": "markdown",
   "metadata": {},
   "source": [
    "#문자열 다루기\n",
    "이번 강좌에서는 문자열에 대해서 알아봅시다.\n",
    "문자열은 우리의 데이터를 표현하기 위해서 필수적으로 필요하며, 다른 사람 혹은 다름 프로그램과 소통하기 위해서 반드시 필요합니다.  \n",
    "파이썬에서 문자열은 표현하기가 매우 쉽습니다. 하지만 다른 언어와 다른점이 있으니 잘 살펴보시길 바라며, 왜 그렇게 제작되었는지 생각해 보는 시간이 되었으면 합니다.  \n",
    "\n",
    "본 강좌는 다음과 같은 순서로 진행됩니다.\n",
    "\n",
    "1. 문자열 생성하기\n",
    "2. 문자열 프린트하기\n",
    "3. 문자열 인덱싱과 슬라이싱\n",
    "4. 문자열의 수정 불가능(Immutable)\n",
    "5. 문자열 메소드"
   ]
  },
  {
   "cell_type": "markdown",
   "metadata": {},
   "source": [
    "## 1. 문자열 생성하기\n",
    "파이썬의 특징 중 하나는 문자만을 저장하는 변수는 존재하지 않습니다. 다른 언어의 경우에는 문자의 변수에서 출발해서 문자열은 문자들을 모아놓은 것으로 만들어 갑니다. 하지만 파이썬은 이와는 다르게 아얘 모든 문자들을 문자열의 형태로 저장합니다.   \n",
    "문자열 생성 기호는 다음과 같은 기호를 사용합니다.\n",
    "\n",
    "```python\n",
    "'   ' #(작은 따옴표, Single quotes)\n",
    "\"   \" #(큰 따옴표, Double quotes)\n",
    "```\n",
    "\n",
    "또한 여러 행의 문자열을 만들기 위해서는 다음과 같은 기호를 사용합니다. \n",
    "```python\n",
    "\n",
    "''' 여러 \n",
    "줄의 문자열을\n",
    "이렇게 넣을 수 있습니다.'''\n",
    "\n",
    "\"\"\"마찬가지로\n",
    "큰 따옴표를 써서\n",
    "이렇게 여러줄에 문자열을 넣을 수 있습니다.\"\"\"\n",
    "\n",
    "```\n",
    "위의 기호를 사용하면, 기호 안에 있는 자료들은 문자열로 저장됩니다.  이 때 __반드시 지켜야할 규칙은 문자열을 생성하는 기호는 짝이 맞아야 합니다.__ 따라서 반드시 열었다면, 닫아야 한다는 것입니다. 즉, 어떤 문자열이던 기호는 짝수개가 등장하게 됩니다.\n"
   ]
  },
  {
   "cell_type": "markdown",
   "metadata": {},
   "source": [
    "### 문자열 생성, 작은 따옴표"
   ]
  },
  {
   "cell_type": "code",
   "execution_count": 1,
   "metadata": {},
   "outputs": [
    {
     "data": {
      "text/plain": [
       "'Hello'"
      ]
     },
     "execution_count": 1,
     "metadata": {},
     "output_type": "execute_result"
    }
   ],
   "source": [
    "'Hello'"
   ]
  },
  {
   "cell_type": "code",
   "execution_count": 7,
   "metadata": {},
   "outputs": [
    {
     "data": {
      "text/plain": [
       "'Hello Python3! I am a newbie in python world.'"
      ]
     },
     "execution_count": 7,
     "metadata": {},
     "output_type": "execute_result"
    }
   ],
   "source": [
    "'Hello Python3! I am a newbie in python world.'"
   ]
  },
  {
   "cell_type": "code",
   "execution_count": 20,
   "metadata": {},
   "outputs": [
    {
     "ename": "SyntaxError",
     "evalue": "EOL while scanning string literal (<ipython-input-20-ef49ebcdfc40>, line 2)",
     "output_type": "error",
     "traceback": [
      "\u001b[1;36m  File \u001b[1;32m\"<ipython-input-20-ef49ebcdfc40>\"\u001b[1;36m, line \u001b[1;32m2\u001b[0m\n\u001b[1;33m    'Hello Python!.\u001b[0m\n\u001b[1;37m                    ^\u001b[0m\n\u001b[1;31mSyntaxError\u001b[0m\u001b[1;31m:\u001b[0m EOL while scanning string literal\n"
     ]
    }
   ],
   "source": [
    "#만약 문자열의 기호에 짝을 맞추지 않는다면\n",
    "'Hello Python!. "
   ]
  },
  {
   "cell_type": "code",
   "execution_count": 21,
   "metadata": {},
   "outputs": [
    {
     "data": {
      "text/plain": [
       "' 여러 줄은 다음과 같이 생성할 수 있습니다. \\n작은 따옴표 3개 보이시나요?\\n이렇게 3개로 묶은 후 엔터를 통하여 줄을 개행하면서 \\n사용할 수 있습니다.'"
      ]
     },
     "execution_count": 21,
     "metadata": {},
     "output_type": "execute_result"
    }
   ],
   "source": [
    "''' 여러 줄은 다음과 같이 생성할 수 있습니다. \n",
    "작은 따옴표 3개 보이시나요?\n",
    "이렇게 3개로 묶은 후 엔터를 통하여 줄을 개행하면서 \n",
    "사용할 수 있습니다.'''"
   ]
  },
  {
   "cell_type": "markdown",
   "metadata": {},
   "source": [
    "### 문자열 생성. 큰 따옴표\n",
    "문자열을 생성할 때에는 자료를 큰 따옴표 안에 넣어 표현할 수 있습니다."
   ]
  },
  {
   "cell_type": "code",
   "execution_count": 4,
   "metadata": {},
   "outputs": [
    {
     "data": {
      "text/plain": [
       "'Hello'"
      ]
     },
     "execution_count": 4,
     "metadata": {},
     "output_type": "execute_result"
    }
   ],
   "source": [
    "\"Hello\""
   ]
  },
  {
   "cell_type": "code",
   "execution_count": 22,
   "metadata": {},
   "outputs": [
    {
     "data": {
      "text/plain": [
       "'안녕하세요 파이썬의 문자열 생성을 배우는 학생 여러분!'"
      ]
     },
     "execution_count": 22,
     "metadata": {},
     "output_type": "execute_result"
    }
   ],
   "source": [
    "\"안녕하세요 파이썬의 문자열 생성을 배우는 학생 여러분!\""
   ]
  },
  {
   "cell_type": "code",
   "execution_count": 23,
   "metadata": {},
   "outputs": [
    {
     "data": {
      "text/plain": [
       "'큰 따옴표로 여러 줄의 문자열을 생성할 수  있습니다.\\n작은 따옴표와 똑같은 방법으로 \\n줄을 개행하면서 사용할 수 있죠'"
      ]
     },
     "execution_count": 23,
     "metadata": {},
     "output_type": "execute_result"
    }
   ],
   "source": [
    "\"\"\"큰 따옴표로 여러 줄의 문자열을 생성할 수  있습니다.\n",
    "작은 따옴표와 똑같은 방법으로 \n",
    "줄을 개행하면서 사용할 수 있죠\"\"\""
   ]
  },
  {
   "cell_type": "markdown",
   "metadata": {},
   "source": [
    "### 문자열 생성, 기호를 사용해야 하는 경우\n",
    "문자열을 생성하는 기호가 2개가 있다는 것인 이상하지 않으신가요? 우리가 여러 가지 기호를 사용하다보면 필수적으로 기호를 사용해야 하는 경우가 있습니다. 다음과 같은 경우를 생각해 봅시다. __'I am'__ 을 줄여서 __I'm__ 으로 사용할 수 있습니다. 그런데 이러한 경우 문자열을ㄹ 작은 따옴표 기호를 사용한다면 짝이 맞아야 한다는 문자열 생성 규칙에 위배됩니다. 따라서 이러한 경우에는 ' 가 문자열 안쪽에 쓰이기 때문에 큰 따옴표를 사용하여 묶을 수 있습니다.  \n",
    "반대의 경우도 마찬가지 입니다. 만약 인용문을 사용하는 경우를 생각해 봅시다. 인용문을 사용하는 경우 큰 따옴표를 사용하게 됩니다. 따라서 이러한 경우 작은 따옴표로 묶어서 사용할 수 있습니다."
   ]
  },
  {
   "cell_type": "code",
   "execution_count": 10,
   "metadata": {},
   "outputs": [
    {
     "ename": "SyntaxError",
     "evalue": "invalid syntax (<ipython-input-10-a1d832d9651f>, line 1)",
     "output_type": "error",
     "traceback": [
      "\u001b[1;36m  File \u001b[1;32m\"<ipython-input-10-a1d832d9651f>\"\u001b[1;36m, line \u001b[1;32m1\u001b[0m\n\u001b[1;33m    'Hello Python! I'm a newbie!\u001b[0m\n\u001b[1;37m                     ^\u001b[0m\n\u001b[1;31mSyntaxError\u001b[0m\u001b[1;31m:\u001b[0m invalid syntax\n"
     ]
    }
   ],
   "source": [
    "'Hello Python! I'm a newbie!"
   ]
  },
  {
   "cell_type": "code",
   "execution_count": 12,
   "metadata": {},
   "outputs": [
    {
     "data": {
      "text/plain": [
       "\"Hello Python! I'm newbie!\""
      ]
     },
     "execution_count": 12,
     "metadata": {},
     "output_type": "execute_result"
    }
   ],
   "source": [
    "\"Hello Python! I'm newbie!\""
   ]
  },
  {
   "cell_type": "code",
   "execution_count": 14,
   "metadata": {},
   "outputs": [
    {
     "data": {
      "text/plain": [
       "'강사가 이렇게 말했어요. \"문자열의 기호는 짝이 맞아야 한다!\"라고 말이죠.'"
      ]
     },
     "execution_count": 14,
     "metadata": {},
     "output_type": "execute_result"
    }
   ],
   "source": [
    "'강사가 이렇게 말했어요. \"문자열의 기호는 짝이 맞아야 한다!\"라고 말이죠.'"
   ]
  },
  {
   "cell_type": "markdown",
   "metadata": {},
   "source": [
    "만약 한 문자열에 작은 따옴표와 큰 따옴표를 모두 써야하는 경우를 생각해 봅시다. 이러한 경우에는 위에서 알게 된 규칙을 사용할 수 없게 됩니다. 따라서 이러한 경우에는 특수한 방법으로 큰 따옴표를 문자로 인식시킬 수 있습니다."
   ]
  },
  {
   "cell_type": "code",
   "execution_count": 16,
   "metadata": {},
   "outputs": [
    {
     "data": {
      "text/plain": [
       "'He says, \"I\\'m newbie in Python world!\"'"
      ]
     },
     "execution_count": 16,
     "metadata": {},
     "output_type": "execute_result"
    }
   ],
   "source": [
    "\"He says, \\\"I'm newbie in Python world!\\\"\""
   ]
  },
  {
   "cell_type": "markdown",
   "metadata": {},
   "source": [
    "## 2. 문자열 프린트 하기\n",
    "문자열을 콘솔창에 출력하기 위해서는 함수를 사용해야 합니다. 함수는 입력과 출력이 있으며, 중간에 처리과정을 거치게 되는 것을 말합니다. 이 부분에 대해서는 차후 좀 더 자세하게 설명하도록 하겠습니다. 일단 우리는 콘솔창에 출력을 하는 함수를 사용해 보도록 하겠습니다. 그 함수는 다음과 같은 방법으로 사용할 수 있습니다.\n",
    "\n",
    "```python\n",
    "\n",
    "print('Hello Python3!')\n",
    "\n",
    "```\n",
    "print 함수를 사용합니다. 프린트 함수는 __print( 데이터 )__ 와 같은 방법으로 사용할 수 있습니다. 참고로 파이썬2에서는 __print 데이터__ 와 같은 방법으로 사용하였습니다만, 파이썬3 버전에서는 print가 함수가 되었습니다.\n",
    "```python\n",
    "print 'Hello Python2' #파이썬 3에서는 에러가 발생\n",
    "print('Hello Python3')\n",
    "```"
   ]
  },
  {
   "cell_type": "code",
   "execution_count": 17,
   "metadata": {},
   "outputs": [
    {
     "ename": "SyntaxError",
     "evalue": "Missing parentheses in call to 'print' (<ipython-input-17-8109a3ea870b>, line 1)",
     "output_type": "error",
     "traceback": [
      "\u001b[1;36m  File \u001b[1;32m\"<ipython-input-17-8109a3ea870b>\"\u001b[1;36m, line \u001b[1;32m1\u001b[0m\n\u001b[1;33m    print 'Hello Python2'\u001b[0m\n\u001b[1;37m                        ^\u001b[0m\n\u001b[1;31mSyntaxError\u001b[0m\u001b[1;31m:\u001b[0m Missing parentheses in call to 'print'\n"
     ]
    }
   ],
   "source": [
    "print 'Hello Python2'"
   ]
  },
  {
   "cell_type": "code",
   "execution_count": 19,
   "metadata": {},
   "outputs": [
    {
     "name": "stdout",
     "output_type": "stream",
     "text": [
      "Hello Python3\n"
     ]
    }
   ],
   "source": [
    "print('Hello Python3')"
   ]
  },
  {
   "cell_type": "code",
   "execution_count": 25,
   "metadata": {},
   "outputs": [
    {
     "name": "stdout",
     "output_type": "stream",
     "text": [
      "Hello Python3\n"
     ]
    }
   ],
   "source": [
    "#변수에 문자열을 대입한 후 변수를 통하여 출력하기\n",
    "my_string = 'Hello Python3'\n",
    "print(my_string)"
   ]
  },
  {
   "cell_type": "code",
   "execution_count": 32,
   "metadata": {},
   "outputs": [
    {
     "name": "stdout",
     "output_type": "stream",
     "text": [
      "여러 줄을 생성해서 문자열에 대입할 수 있습니다.\n",
      "마찬가지로 조금은 이상해 보일 수 있지만, 파이썬 인터프리터가\n",
      "정말 잘 파악하고 문자열로 전환하여 저장하게 되죠. \n",
      "작은 따옴표로도 문자열을 여러 줄로 생성할 수 있다는 사실\n",
      "기억하고 계신가요?\n",
      "이렇게 쓸 수 있어요.\n"
     ]
    }
   ],
   "source": [
    "my_string = \"\"\"여러 줄을 생성해서 문자열에 대입할 수 있습니다.\n",
    "마찬가지로 조금은 이상해 보일 수 있지만, 파이썬 인터프리터가\n",
    "정말 잘 파악하고 문자열로 전환하여 저장하게 되죠. \"\"\"\n",
    "print(my_string)\n",
    "my_string = '''작은 따옴표로도 문자열을 여러 줄로 생성할 수 있다는 사실\n",
    "기억하고 계신가요?\n",
    "이렇게 쓸 수 있어요.'''\n",
    "print(my_string)"
   ]
  },
  {
   "cell_type": "code",
   "execution_count": 35,
   "metadata": {},
   "outputs": [
    {
     "name": "stdout",
     "output_type": "stream",
     "text": [
      "물론 따옴표 한 쌍만 사용하여 여러 줄의 문자열을 생성할 수 있어요 \\n을 사용하면 되는데요. \n",
      " 역슬래시 n을 문자열에 보내는 방법도 응용가능 하겠죠?\n"
     ]
    }
   ],
   "source": [
    "my_string = '물론 따옴표 한 쌍만 사용하여 여러 줄의 문자열을 생성할 수 있어요 \\\\n을 사용하면 되는데요. \\n 역슬래시 n을 문자열에 보내는 방법도 응용가능 하겠죠?'\n",
    "print(my_string)"
   ]
  },
  {
   "cell_type": "code",
   "execution_count": null,
   "metadata": {},
   "outputs": [],
   "source": []
  }
 ],
 "metadata": {
  "kernelspec": {
   "display_name": "Python 3",
   "language": "python",
   "name": "python3"
  },
  "language_info": {
   "codemirror_mode": {
    "name": "ipython",
    "version": 3
   },
   "file_extension": ".py",
   "mimetype": "text/x-python",
   "name": "python",
   "nbconvert_exporter": "python",
   "pygments_lexer": "ipython3",
   "version": "3.6.2"
  }
 },
 "nbformat": 4,
 "nbformat_minor": 2
}
