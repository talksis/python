{
 "cells": [
  {
   "cell_type": "markdown",
   "metadata": {},
   "source": [
    "# selenium\n",
    "웹을 크롤링 하다보면 웹 브라우저만을 통해서 얻게되는 자료들이 존재합니다.  \n",
    "혹은 자신이 웹에서하는 반복적인 동작들을 자동화할 필요가 있습니다. 이러한 경우 selenium을 통하여 웹을 자동화 할 수 있습니다.\n",
    "\n",
    "```\n",
    "pip install selenium\n",
    "```\n",
    "\n",
    "또한 selenium을 통하여 브라우저를 컨트롤하는 경우 webdriver가 필요합니다. \n",
    "사실 가장 selenium과 좋은 궁합은 firefox이지만... 우리 인터넷 환경에서 activeX를 때어놓을 수 없습니다. 따라서 본 과정에서는 explorer(IE)를 제어해 보도록 하겠습니다.  \n",
    "[IE driver 다운로드]http://docs.seleniumhq.org/download/ \n",
    "혹은 activex를 사용하지 않거나 exec 계열(activex를 걷어낸다면서 만든 쓰레기들)을 사용하신다면 다른 driver를 사용하셔요.\n",
    "\n",
    "[모든 드라이버 모음]http://www.seleniumhq.org/projects/webdriver/\n",
    "\n",
    "\n"
   ]
  },
  {
   "cell_type": "code",
   "execution_count": 3,
   "metadata": {},
   "outputs": [],
   "source": [
    "from selenium import webdriver  #모듈을 불러온다.\n",
    "from selenium.webdriver.common.keys import Keys #Key와 관련된 모듈 불러오기\n",
    "\n",
    "# driver = webdriver.Ie()\n",
    "# driver.get(\"http://www.python.org\")\n",
    "# assert \"Python\" in driver.title\n",
    "# elem = driver.find_element_by_name(\"q\")\n",
    "# elem.clear()\n",
    "# elem.send_keys(\"pycon\")\n",
    "# elem.send_keys(Keys.RETURN)\n",
    "# assert \"No results found.\" not in driver.page_source\n",
    "# driver.close()"
   ]
  },
  {
   "cell_type": "code",
   "execution_count": 5,
   "metadata": {},
   "outputs": [],
   "source": [
    "driver = webdriver.Ie(\"IEDriverServer.exe\") ##IE 드라이버를 불러온다."
   ]
  },
  {
   "cell_type": "code",
   "execution_count": 14,
   "metadata": {},
   "outputs": [],
   "source": [
    "driver.get(\"http://www.danjae.go.kr/index.go\")"
   ]
  },
  {
   "cell_type": "code",
   "execution_count": 7,
   "metadata": {},
   "outputs": [
    {
     "data": {
      "text/plain": [
       "'충청북도단재교육연수원'"
      ]
     },
     "execution_count": 7,
     "metadata": {},
     "output_type": "execute_result"
    }
   ],
   "source": [
    "driver.title"
   ]
  },
  {
   "cell_type": "code",
   "execution_count": 15,
   "metadata": {},
   "outputs": [],
   "source": [
    "#driver.switch_to_frame()\n",
    "elem = driver.find_element_by_name(\"username\")"
   ]
  },
  {
   "cell_type": "code",
   "execution_count": 25,
   "metadata": {},
   "outputs": [],
   "source": [
    "elem.clear()\n",
    "elem.send_keys('ggg')\n",
    "driver.save_screenshot(filename='tset1.png')\n",
    "driver.refresh()"
   ]
  },
  {
   "cell_type": "code",
   "execution_count": null,
   "metadata": {},
   "outputs": [],
   "source": []
  },
  {
   "cell_type": "code",
   "execution_count": null,
   "metadata": {},
   "outputs": [],
   "source": []
  },
  {
   "cell_type": "code",
   "execution_count": null,
   "metadata": {},
   "outputs": [],
   "source": []
  },
  {
   "cell_type": "code",
   "execution_count": null,
   "metadata": {},
   "outputs": [],
   "source": []
  },
  {
   "cell_type": "code",
   "execution_count": null,
   "metadata": {},
   "outputs": [],
   "source": []
  },
  {
   "cell_type": "code",
   "execution_count": null,
   "metadata": {},
   "outputs": [],
   "source": []
  }
 ],
 "metadata": {
  "kernelspec": {
   "display_name": "Python 3",
   "language": "python",
   "name": "python3"
  },
  "language_info": {
   "codemirror_mode": {
    "name": "ipython",
    "version": 3
   },
   "file_extension": ".py",
   "mimetype": "text/x-python",
   "name": "python",
   "nbconvert_exporter": "python",
   "pygments_lexer": "ipython3",
   "version": "3.6.2"
  }
 },
 "nbformat": 4,
 "nbformat_minor": 2
}
