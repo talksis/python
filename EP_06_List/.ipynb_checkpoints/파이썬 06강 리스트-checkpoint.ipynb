{
 "cells": [
  {
   "cell_type": "markdown",
   "metadata": {},
   "source": [
    "# 리스트\n",
    "\n",
    "우리가 자료를 다루다 보면 하나하나 변수에 담기에는 불편한 부분들이 있습니다. 여러 가료가 연속되어야 하는 경우에는 특히 더 그렇죠. 만약 여러분들이 학생들의 성적을 관리하는 프로그램을 작성한다고 생각해 봅시다. 학생들의 성적을 처리하기 위해서 변수 20~30개를 선언하는 것은 매우 불편한 일일 것입니다. 따라서 이러한 연속된 자료들을 위한 자료형이 있습니다. 오늘은 리스트에 대해서 알아보도록 하겠습니다."
   ]
  },
  {
   "cell_type": "markdown",
   "metadata": {},
   "source": [
    "## 1. 리스트의 정의와 생성\n",
    "여러분들 할일을 정리할 때, 일에 순서를 정할 것입니다. 만약에 아침에 학교를 가기 위한 일을 생각해 본다면.\n",
    "\n",
    "1. 일어나기\n",
    "2. 화장실 가기\n",
    "3. 세수하기\n",
    "4. 아침밥 먹기\n",
    "5. 양치하기\n",
    "6. 등교하기\n",
    "\n",
    "이러한 형태로 정리하게 될 것입니다. 이것은 우리가 해야할 일들을 순서를 가지고 정리하게 되는 것입니다. 이것이 바로 리스트라고 생각하면 됩니다. 여러 가지의 일 혹은 자료를 순서에 맞게 가지고 있는 것입니다. 파이썬에서도 리스트를 지원합니다. 리스트 형의 경우에는 기호 __[ ]__ 를 사용하게 됩니다. 이 기호를 사용하면 파이썬에서는 자동으로 리스트라고 인식하게 됩니다.\n"
   ]
  },
  {
   "cell_type": "code",
   "execution_count": 6,
   "metadata": {},
   "outputs": [
    {
     "name": "stdout",
     "output_type": "stream",
     "text": [
      "empty_list1 type is <class 'list'>\n",
      "empty_list2 type is <class 'list'>\n"
     ]
    }
   ],
   "source": [
    "empty_list1 = list()\n",
    "empty_list2 = []\n",
    "\n",
    "print('empty_list1 type is', type(empty_list1))\n",
    "print('empty_list2 type is', type(empty_list2))"
   ]
  },
  {
   "cell_type": "code",
   "execution_count": 7,
   "metadata": {},
   "outputs": [],
   "source": [
    "numbers = [0,1,2,3,4,5,6,7,8,9,] \n",
    "strings = ['배트맨', '슈퍼맨', '아이언맨', '헐크', '원더우먼'] \n",
    "mixed_type1=[10, '배트맨', 20, '슈퍼맨'] \n",
    "mixed_type2=[10, 20, 3.14 ,['배트맨', '슈퍼맨', '아이언맨']] "
   ]
  },
  {
   "cell_type": "code",
   "execution_count": 9,
   "metadata": {},
   "outputs": [
    {
     "name": "stdout",
     "output_type": "stream",
     "text": [
      "10\n",
      "5\n",
      "4\n",
      "4\n"
     ]
    }
   ],
   "source": [
    "print(len(numbers))\n",
    "print(len(strings))\n",
    "print(len(mixed_type1))\n",
    "print(len(mixed_type2))"
   ]
  },
  {
   "cell_type": "markdown",
   "metadata": {},
   "source": [
    "## 2. 리스트의 인덱싱과 슬라이싱\n",
    "리스트는 문자열과 같이 여러 자료가 모여있기 때문에 특정 자료에 접근할 경우가 많습니다. 우리는 이를 인덱싱이라고 합니다. 우리가 문자열에서 배웠던 인덱싱과 똑같습니다. 또한 슬라이싱도 마찬가지로 스트링과 똑같은 방식으로 구현할 수 있습니다.  \n",
    "인덱싱은  __[인덱스 번호]__ 인덱스 번호는 정수여야만 합니다.  \n",
    "슬라이싱은 __[시작위치 : 끝위치]__ 가 기본형이며, 마찬가지로 정수여야만 합니다. 또한 스텝역시도 조절할 수 있는데 __[시작위치 : 끝위치 : 스텝]__ 의 형태로 진행됩니다. 문자열과 같이 스텝이 음수가 된다면, 시작위치가 문자열의 마지막, 끝위치가 문자열의 시작위지가 됨을 기억합시다.   \n",
    "\n",
    "|자료|0|1|2|3|4|5|6|7|8|9|\n",
    "|:--:|:--:|:--:|:--:|:--:|:--:|:--:|:--:|:--:|:--:|:--:|\n",
    "|인덱스|0|1|2|3|4|5|6|7|8|9|\n",
    "|인덱스|-10|-9|-8|-7|-6|-5|-4|-3|-2|-1|\n"
   ]
  },
  {
   "cell_type": "code",
   "execution_count": 12,
   "metadata": {},
   "outputs": [
    {
     "name": "stdout",
     "output_type": "stream",
     "text": [
      "3\n",
      "9\n",
      "9\n",
      "0\n"
     ]
    },
    {
     "ename": "IndexError",
     "evalue": "list index out of range",
     "output_type": "error",
     "traceback": [
      "\u001b[1;31m---------------------------------------------------------------------------\u001b[0m",
      "\u001b[1;31mIndexError\u001b[0m                                Traceback (most recent call last)",
      "\u001b[1;32m<ipython-input-12-1367d102f525>\u001b[0m in \u001b[0;36m<module>\u001b[1;34m()\u001b[0m\n\u001b[0;32m      4\u001b[0m \u001b[0mprint\u001b[0m\u001b[1;33m(\u001b[0m\u001b[0mmy_list\u001b[0m\u001b[1;33m[\u001b[0m\u001b[1;33m-\u001b[0m\u001b[1;36m1\u001b[0m\u001b[1;33m]\u001b[0m\u001b[1;33m)\u001b[0m\u001b[1;33m\u001b[0m\u001b[0m\n\u001b[0;32m      5\u001b[0m \u001b[0mprint\u001b[0m\u001b[1;33m(\u001b[0m\u001b[0mmy_list\u001b[0m\u001b[1;33m[\u001b[0m\u001b[1;33m-\u001b[0m\u001b[1;36m10\u001b[0m\u001b[1;33m]\u001b[0m\u001b[1;33m)\u001b[0m\u001b[1;33m\u001b[0m\u001b[0m\n\u001b[1;32m----> 6\u001b[1;33m \u001b[0mprint\u001b[0m\u001b[1;33m(\u001b[0m\u001b[0mmy_list\u001b[0m\u001b[1;33m[\u001b[0m\u001b[1;36m10\u001b[0m\u001b[1;33m]\u001b[0m\u001b[1;33m)\u001b[0m \u001b[1;31m#범위를 벗어나게 된다면, 오류가 발생된다.\u001b[0m\u001b[1;33m\u001b[0m\u001b[0m\n\u001b[0m",
      "\u001b[1;31mIndexError\u001b[0m: list index out of range"
     ]
    }
   ],
   "source": [
    "my_list =[0,1,2,3,4,5,6,7,8,9]\n",
    "print(my_list[3])\n",
    "print(my_list[9])\n",
    "print(my_list[-1])\n",
    "print(my_list[-10])\n",
    "print(my_list[10]) #범위를 벗어나게 된다면, 오류가 발생된다."
   ]
  },
  {
   "cell_type": "code",
   "execution_count": 15,
   "metadata": {},
   "outputs": [
    {
     "name": "stdout",
     "output_type": "stream",
     "text": [
      "5\n",
      "<class 'list'>\n",
      "<class 'int'>\n"
     ]
    }
   ],
   "source": [
    "#리스트의 인덱싱\n",
    "my_list = [0,1,2,[3,4,5,6]]\n",
    "print(my_list[3][2])\n",
    "print(type(my_list[3]))\n",
    "print(type(my_list[3][2]))"
   ]
  },
  {
   "cell_type": "code",
   "execution_count": 19,
   "metadata": {},
   "outputs": [
    {
     "name": "stdout",
     "output_type": "stream",
     "text": [
      "슈퍼맨\n",
      "맨\n"
     ]
    }
   ],
   "source": [
    "#리스트의 슬라이싱\n",
    "my_list = [0,1,2,'배트맨','슈퍼맨']\n",
    "print(my_list[4])\n",
    "print(my_list[4][2])"
   ]
  },
  {
   "cell_type": "code",
   "execution_count": 26,
   "metadata": {},
   "outputs": [
    {
     "name": "stdout",
     "output_type": "stream",
     "text": [
      "[0, 1, 2, 3, 4, 5, 6, 7, 8, 9]\n",
      "[2, 3, 4, 5, 6, 7, 8, 9]\n",
      "[2, 3, 4]\n",
      "[0, 2, 4, 6, 8]\n",
      "[5, 4, 3, 2, 1, 0]\n"
     ]
    }
   ],
   "source": [
    "my_list=[0,1,2,3,4,5,6,7,8,9]\n",
    "print(my_list[:]) #리스트의 모든 요소를 출력\n",
    "print(my_list[2:])\n",
    "print(my_list[2:5])\n",
    "print(my_list[::2])\n",
    "print(my_list[-5::-1])"
   ]
  },
  {
   "cell_type": "code",
   "execution_count": 28,
   "metadata": {},
   "outputs": [
    {
     "name": "stdout",
     "output_type": "stream",
     "text": [
      "[3, 4, 5, 6]\n",
      "[6, 5, 4, 3]\n",
      "[3, 4]\n"
     ]
    }
   ],
   "source": [
    "my_list = [0,1,2,[3,4,5,6]]\n",
    "print(my_list[3][:])\n",
    "print(my_list[3][::-1])\n",
    "print(my_list[3][0:2])"
   ]
  },
  {
   "cell_type": "markdown",
   "metadata": {},
   "source": [
    "### 리스트의 수정\n",
    "리스트틑 문자열과는 다르게 mutable 객체입니다. 따라서 인덱싱을 이용하여 한 개의 요소를 수정할 수 있으며, 슬라이싱을 이용하여 부분을 수정할 수 있습니다.\n",
    "\n"
   ]
  },
  {
   "cell_type": "code",
   "execution_count": 30,
   "metadata": {},
   "outputs": [
    {
     "name": "stdout",
     "output_type": "stream",
     "text": [
      "[0, 1, 2, 33, 5]\n"
     ]
    }
   ],
   "source": [
    "# 인덱싱을 이용한 수정\n",
    "my_list = [0,1,2,3,5]\n",
    "my_list[3]= 33\n",
    "print(my_list)"
   ]
  },
  {
   "cell_type": "code",
   "execution_count": 35,
   "metadata": {},
   "outputs": [
    {
     "name": "stdout",
     "output_type": "stream",
     "text": [
      "[0, 1, 4, 5]\n",
      "[0, 1, 2, 3, 4, 5]\n",
      "[0, 10, 5]\n"
     ]
    },
    {
     "ename": "TypeError",
     "evalue": "can only assign an iterable",
     "output_type": "error",
     "traceback": [
      "\u001b[1;31m---------------------------------------------------------------------------\u001b[0m",
      "\u001b[1;31mTypeError\u001b[0m                                 Traceback (most recent call last)",
      "\u001b[1;32m<ipython-input-35-30a722eb6da3>\u001b[0m in \u001b[0;36m<module>\u001b[1;34m()\u001b[0m\n\u001b[0;32m      7\u001b[0m \u001b[0mmy_list\u001b[0m\u001b[1;33m[\u001b[0m\u001b[1;36m1\u001b[0m\u001b[1;33m:\u001b[0m\u001b[1;36m5\u001b[0m\u001b[1;33m]\u001b[0m \u001b[1;33m=\u001b[0m \u001b[1;33m[\u001b[0m\u001b[1;36m10\u001b[0m\u001b[1;33m]\u001b[0m\u001b[1;33m\u001b[0m\u001b[0m\n\u001b[0;32m      8\u001b[0m \u001b[0mprint\u001b[0m\u001b[1;33m(\u001b[0m\u001b[0mmy_list\u001b[0m\u001b[1;33m)\u001b[0m\u001b[1;33m\u001b[0m\u001b[0m\n\u001b[1;32m----> 9\u001b[1;33m \u001b[0mmy_list\u001b[0m\u001b[1;33m[\u001b[0m\u001b[1;36m2\u001b[0m\u001b[1;33m:\u001b[0m\u001b[1;36m2\u001b[0m\u001b[1;33m]\u001b[0m \u001b[1;33m=\u001b[0m \u001b[1;36m10\u001b[0m\u001b[1;33m\u001b[0m\u001b[0m\n\u001b[0m",
      "\u001b[1;31mTypeError\u001b[0m: can only assign an iterable"
     ]
    }
   ],
   "source": [
    "# 슬라이싱을 이용한 수정\n",
    "my_list = [0,1,2,3,4,5]\n",
    "my_list[2:4] = []\n",
    "print(my_list)\n",
    "my_list[2:2] = [2,3]\n",
    "print(my_list)\n",
    "my_list[1:5] = [10]\n",
    "print(my_list)\n",
    "my_list[2:2] = 10\n"
   ]
  },
  {
   "cell_type": "markdown",
   "metadata": {},
   "source": [
    "### 3. 리스트의 연산자와 메소드\n",
    "리스트도 연산자를 사용할 수 있습니다. +, * 사용합니다. 리스트 역시 하나의 객체이기 때문에 이와 관련된 메소스들을 사용할 수 있습니다. 또한 리스트와 함께 쓰면 좋은 내부 함수들도 같이 공부해 봅시다. \n"
   ]
  },
  {
   "cell_type": "code",
   "execution_count": 42,
   "metadata": {},
   "outputs": [
    {
     "name": "stdout",
     "output_type": "stream",
     "text": [
      "55\n",
      "13\n",
      "6\n",
      "[13, 17, 44, 47, 52, 55]\n"
     ]
    }
   ],
   "source": [
    "my_list = [52,17,44,47,55,13]\n",
    "print( max(my_list) )\n",
    "print( min(my_list) )\n",
    "print( len(my_list) )\n",
    "print( sorted(my_list) )"
   ]
  },
  {
   "cell_type": "code",
   "execution_count": 44,
   "metadata": {},
   "outputs": [
    {
     "name": "stdout",
     "output_type": "stream",
     "text": [
      "[1, 2, 3, 4, 5, 6, 7, 8, 9, 10]\n"
     ]
    }
   ],
   "source": [
    "my_list1 = [1,2,3,4,5]\n",
    "my_list2 = [6,7,8,9,10]\n",
    "my_list_sum = my_list1+my_list2\n",
    "print(my_list_sum)"
   ]
  },
  {
   "cell_type": "code",
   "execution_count": 47,
   "metadata": {},
   "outputs": [
    {
     "name": "stdout",
     "output_type": "stream",
     "text": [
      "[1, 2, 3, 4, 5, 1, 2, 3, 4, 5, '여기는 중간 입니다', 6, 7, 8, 9, 10, 6, 7, 8, 9, 10, 6, 7, 8, 9, 10]\n"
     ]
    }
   ],
   "source": [
    "my_list1 = [1,2,3,4,5]\n",
    "my_list2 = [6,7,8,9,10]\n",
    "my_list_multiply = my_list1*2+['여기는 중간 입니다'] + my_list2*3\n",
    "print(my_list_multiply)"
   ]
  },
  {
   "cell_type": "code",
   "execution_count": 54,
   "metadata": {},
   "outputs": [
    {
     "name": "stdout",
     "output_type": "stream",
     "text": [
      "[0, 1, 2, 3, 4, 5, 10]\n",
      "[0, 1, 2, 3, 4, 5, 10, ['리스트를', '추가해 봅시디']]\n"
     ]
    },
    {
     "ename": "TypeError",
     "evalue": "append() takes exactly one argument (2 given)",
     "output_type": "error",
     "traceback": [
      "\u001b[1;31m---------------------------------------------------------------------------\u001b[0m",
      "\u001b[1;31mTypeError\u001b[0m                                 Traceback (most recent call last)",
      "\u001b[1;32m<ipython-input-54-c96ce8aff03c>\u001b[0m in \u001b[0;36m<module>\u001b[1;34m()\u001b[0m\n\u001b[0;32m      4\u001b[0m \u001b[0mmy_list\u001b[0m\u001b[1;33m.\u001b[0m\u001b[0mappend\u001b[0m\u001b[1;33m(\u001b[0m\u001b[1;33m[\u001b[0m\u001b[1;34m'리스트를'\u001b[0m\u001b[1;33m,\u001b[0m\u001b[1;34m'추가해 봅시디'\u001b[0m\u001b[1;33m]\u001b[0m\u001b[1;33m)\u001b[0m\u001b[1;33m\u001b[0m\u001b[0m\n\u001b[0;32m      5\u001b[0m \u001b[0mprint\u001b[0m\u001b[1;33m(\u001b[0m\u001b[0mmy_list\u001b[0m\u001b[1;33m)\u001b[0m\u001b[1;33m\u001b[0m\u001b[0m\n\u001b[1;32m----> 6\u001b[1;33m \u001b[0mmy_list\u001b[0m\u001b[1;33m.\u001b[0m\u001b[0mappend\u001b[0m\u001b[1;33m(\u001b[0m\u001b[1;36m3\u001b[0m\u001b[1;33m,\u001b[0m\u001b[1;36m4\u001b[0m\u001b[1;33m)\u001b[0m\u001b[1;33m\u001b[0m\u001b[0m\n\u001b[0m",
      "\u001b[1;31mTypeError\u001b[0m: append() takes exactly one argument (2 given)"
     ]
    }
   ],
   "source": [
    "my_list = [0,1,2,3,4,5]\n",
    "my_list.append(10)\n",
    "print(my_list)\n",
    "my_list.append(['리스트를','추가해 봅시디'])\n",
    "print(my_list)\n",
    "my_list.append(3,4)"
   ]
  },
  {
   "cell_type": "code",
   "execution_count": 58,
   "metadata": {},
   "outputs": [
    {
     "name": "stdout",
     "output_type": "stream",
     "text": [
      "[0, 1, 2, 10, 3, 4, 5]\n",
      "[0, 1, 2, 0, 10, 3, 4, 5]\n"
     ]
    }
   ],
   "source": [
    "my_list = [0,1,2,3,4,5]\n",
    "my_list.insert(3,10)\n",
    "print(my_list)\n",
    "my_list.insert(3,0)\n",
    "print(my_list)"
   ]
  },
  {
   "cell_type": "code",
   "execution_count": 63,
   "metadata": {},
   "outputs": [
    {
     "name": "stdout",
     "output_type": "stream",
     "text": [
      "5\n",
      "[0, 1, 2, 3, 4]\n",
      "4\n",
      "[0, 1, 2, 3]\n",
      "2\n",
      "[0, 1, 3]\n"
     ]
    },
    {
     "ename": "IndexError",
     "evalue": "pop index out of range",
     "output_type": "error",
     "traceback": [
      "\u001b[1;31m---------------------------------------------------------------------------\u001b[0m",
      "\u001b[1;31mIndexError\u001b[0m                                Traceback (most recent call last)",
      "\u001b[1;32m<ipython-input-63-d92ee84ec151>\u001b[0m in \u001b[0;36m<module>\u001b[1;34m()\u001b[0m\n\u001b[0;32m      6\u001b[0m \u001b[0mprint\u001b[0m\u001b[1;33m(\u001b[0m\u001b[0mmy_list\u001b[0m\u001b[1;33m.\u001b[0m\u001b[0mpop\u001b[0m\u001b[1;33m(\u001b[0m\u001b[1;36m2\u001b[0m\u001b[1;33m)\u001b[0m\u001b[1;33m)\u001b[0m\u001b[1;33m\u001b[0m\u001b[0m\n\u001b[0;32m      7\u001b[0m \u001b[0mprint\u001b[0m\u001b[1;33m(\u001b[0m\u001b[0mmy_list\u001b[0m\u001b[1;33m)\u001b[0m\u001b[1;33m\u001b[0m\u001b[0m\n\u001b[1;32m----> 8\u001b[1;33m \u001b[0mprint\u001b[0m\u001b[1;33m(\u001b[0m\u001b[0mmy_list\u001b[0m\u001b[1;33m.\u001b[0m\u001b[0mpop\u001b[0m\u001b[1;33m(\u001b[0m\u001b[1;36m10\u001b[0m\u001b[1;33m)\u001b[0m\u001b[1;33m)\u001b[0m\u001b[1;33m\u001b[0m\u001b[0m\n\u001b[0m\u001b[0;32m      9\u001b[0m \u001b[0mprint\u001b[0m\u001b[1;33m(\u001b[0m\u001b[0mmy_list\u001b[0m\u001b[1;33m)\u001b[0m\u001b[1;33m\u001b[0m\u001b[0m\n",
      "\u001b[1;31mIndexError\u001b[0m: pop index out of range"
     ]
    }
   ],
   "source": [
    "my_list = [0,1,2,3,4,5]\n",
    "print(my_list.pop())\n",
    "print(my_list)\n",
    "print(my_list.pop())\n",
    "print(my_list)\n",
    "print(my_list.pop(2))\n",
    "print(my_list)\n",
    "print(my_list.pop(10))\n",
    "print(my_list)"
   ]
  },
  {
   "cell_type": "code",
   "execution_count": 66,
   "metadata": {},
   "outputs": [
    {
     "name": "stdout",
     "output_type": "stream",
     "text": [
      "[0, 1, 3, 4, 5]\n",
      "[0, 1, 5]\n"
     ]
    }
   ],
   "source": [
    "my_list =[0,1,2,3,4,5]\n",
    "del my_list[2]\n",
    "print(my_list)\n",
    "del my_list[2:4]\n",
    "print(my_list)"
   ]
  },
  {
   "cell_type": "code",
   "execution_count": 73,
   "metadata": {},
   "outputs": [
    {
     "name": "stdout",
     "output_type": "stream",
     "text": [
      "3\n",
      "None\n",
      "[2, 4, 2, 4, 3, 2, 1, 0]\n",
      "None\n",
      "[0, 1, 2, 2, 2, 3, 4, 4]\n",
      "None\n",
      "[4, 4, 3, 2, 2, 2, 1, 0]\n"
     ]
    }
   ],
   "source": [
    "my_list =[0,1,2,3,4,2,4,2]\n",
    "print(my_list.count(2))\n",
    "print(my_list.reverse())\n",
    "print(my_list)\n",
    "print(my_list.sort())\n",
    "print(my_list)\n",
    "print(my_list.sort(reverse=True))\n",
    "print(my_list)"
   ]
  },
  {
   "cell_type": "markdown",
   "metadata": {},
   "source": [
    "## 리스트의 복사\n",
    "프로그래밍을 처음 접하는 사람들이 가장 실수하기 쉬운 부분입니다. 리스트를 복사하는 것은 우리의 개념과는 많이 다릅니다. 리스트를 생성하고 변수에 대입하게 되면, 리스트 자체를 저장하는 것이 아닌, 리스트가 있는 주소를 갖게 됩니다. 따라서 단순히 대입을 사용하여 리스트를 복사하게 되면, 주소를 서로 공유하게 되는 것과 같아지며, 하나의 리스트가 바뀌게 되면, 나머지 그 주소를 가지고 있는 모든 변수들의 리스트 역시도 바뀌게 됩니다. \n",
    "코드를 통해 알아봅시다.\n",
    "\n"
   ]
  },
  {
   "cell_type": "code",
   "execution_count": 3,
   "metadata": {},
   "outputs": [
    {
     "name": "stdout",
     "output_type": "stream",
     "text": [
      "[1, 2, 3, 4, 5] [1, 2, 3, 4, 5]\n",
      "[1, 2, 10, 4, 5] [1, 2, 10, 4, 5]\n",
      "124517112 124517112\n"
     ]
    }
   ],
   "source": [
    "my_list1 = [1,2,3,4,5]\n",
    "my_list2 = my_list1\n",
    "print(my_list1,my_list2)\n",
    "my_list1[2]=10\n",
    "print(my_list1,my_list2)\n",
    "print(id(my_list1),id(my_list2))"
   ]
  },
  {
   "cell_type": "code",
   "execution_count": 7,
   "metadata": {},
   "outputs": [
    {
     "name": "stdout",
     "output_type": "stream",
     "text": [
      "124642048 124643608\n",
      "[1, 2, 10, 4, 5] [1, 2, 3, 4, 5]\n"
     ]
    }
   ],
   "source": [
    "my_list1=[1,2,3,4,5]\n",
    "my_list2=my_list1.copy()\n",
    "print(id(my_list1),id(my_list2))\n",
    "my_list1[2]=10\n",
    "print(my_list1,my_list2)"
   ]
  },
  {
   "cell_type": "code",
   "execution_count": 8,
   "metadata": {},
   "outputs": [
    {
     "name": "stdout",
     "output_type": "stream",
     "text": [
      "124641728 105931120\n",
      "[1, 2, 10, 4, 5] [1, 2, 3, 4, 5]\n"
     ]
    }
   ],
   "source": [
    "my_list1 = [1,2,3,4,5]\n",
    "my_list2= my_list1[:]\n",
    "print(id(my_list1),id(my_list2))\n",
    "my_list1[2]=10\n",
    "print(my_list1,my_list2)"
   ]
  },
  {
   "cell_type": "code",
   "execution_count": null,
   "metadata": {},
   "outputs": [],
   "source": []
  }
 ],
 "metadata": {
  "kernelspec": {
   "display_name": "Python 3",
   "language": "python",
   "name": "python3"
  },
  "language_info": {
   "codemirror_mode": {
    "name": "ipython",
    "version": 3
   },
   "file_extension": ".py",
   "mimetype": "text/x-python",
   "name": "python",
   "nbconvert_exporter": "python",
   "pygments_lexer": "ipython3",
   "version": "3.6.2"
  }
 },
 "nbformat": 4,
 "nbformat_minor": 2
}
