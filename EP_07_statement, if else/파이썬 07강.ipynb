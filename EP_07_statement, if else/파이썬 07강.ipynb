{
 "cells": [
  {
   "cell_type": "markdown",
   "metadata": {},
   "source": [
    "# 7강 if, elif, else\n",
    "파이썬에서는 흐름을 제어하기 위해서 if문을 사용하게 됩니다. if문은 프로그램의 흐름을 옳고 그름에 따라서 다르게 만들 수 있습니다. 만약 어떠한 물음에 대해서 맞는 경우 틀린 경우에 따라서 프로그램을 다르게 동작시키려고 한다면, if문을 필수적으로 사용해야 합니다. \n",
    "\n",
    "따라서 조건문이라고 하는 것은 이렇게 생각할 수 있습니다.\n",
    "\n",
    "``만약 이게 맞는다면 이렇게 처리해줘``\n",
    "\n",
    "파이썬의 if문을 사용하여 프로그램의 제어를 해 봅시다.\n"
   ]
  },
  {
   "cell_type": "markdown",
   "metadata": {},
   "source": [
    "## if문\n",
    "if문은 필수적으로 조건을 필요로 합니다. 따라서 형식은 다음과 같습니다.  \n",
    "\n",
    "if 조건 :  \n",
    "   실행할 명령  \n",
    "\n",
    "이때 조심해야 할 것은 콜론의 위치와 실행할 명령에서의 공백입니다. 프로그램의 흐름에서 if문이 실행될 때 실행할 명령과 if 문이 아닐 때 실행할 명령이 서로 구분되어야 합니다. 파이썬에서 이러한 구분을 짓기 위해서는 텝을 이용하여 "
   ]
  },
  {
   "cell_type": "code",
   "execution_count": 1,
   "metadata": {},
   "outputs": [
    {
     "name": "stdout",
     "output_type": "stream",
     "text": [
      "참 입니다.\n"
     ]
    }
   ],
   "source": [
    "if True:\n",
    "    print('참 입니다.')\n",
    "    "
   ]
  },
  {
   "cell_type": "code",
   "execution_count": 2,
   "metadata": {},
   "outputs": [],
   "source": [
    "if False:\n",
    "    print('거짓입니다.')"
   ]
  },
  {
   "cell_type": "code",
   "execution_count": 3,
   "metadata": {},
   "outputs": [
    {
     "name": "stdout",
     "output_type": "stream",
     "text": [
      "참입니다.\n"
     ]
    }
   ],
   "source": [
    "x = True\n",
    "if x:\n",
    "    print('참입니다.')\n",
    "else:\n",
    "    print('거짓입니다.')"
   ]
  },
  {
   "cell_type": "code",
   "execution_count": 4,
   "metadata": {},
   "outputs": [
    {
     "name": "stdout",
     "output_type": "stream",
     "text": [
      "거짓입니다.\n"
     ]
    }
   ],
   "source": [
    "x = False\n",
    "if x:\n",
    "    print('참입니다.')\n",
    "else:\n",
    "    print('거짓입니다.')"
   ]
  },
  {
   "cell_type": "markdown",
   "metadata": {},
   "source": [
    "## 2. comparisons\n",
    "비교를 위한 연산자들이 있습니다. 여러분이 방금전에 쓰신 코드에서 이상한 점 알아채셨나요? 바로 == 라는 연산자가 사용되고 있습니다. 우리가 수학시간에 \n",
    "같다라는 기호는 = 를 사용합니다. 하지만 프로그래밍에서는 = 기호는 대입의 의미를 가지고 있죠. 따라서 같다의 의미를 같는 연산자가 필요하게 됩니다.\n",
    "바로 == 기호를 사용하여 같다의 의미를 갖게 하는 것입니다. \n",
    "우리가 일반적으로 사용하는 부등호와 크거나 같다, 작거나 같다 와 같은 기호들을 사용하게 됩니다. 대신 크거나 같다 작거나 같다의 경우에는 키보드로 한번에 사용하기 어렵기 때문에,\n",
    "크다와 같다의 기호 순으로 사용하게 됩니다. \n",
    "\n",
    "그리고 컴퓨터에서는 다르다의 의미를 != 기호를 사용해서 나타냅니다. 그리고 특별히 파이썬에서는 is의 기호를 사용하게 됩니다. 이것은 객체가 정말 같은 객체인지를 판단하는 연산자 입니다만,\n",
    "예제를 통해서 알아보는 것이 좋을것 같습니다. \n",
    "\n",
    "|Operation|Meaning|\n",
    "|:-------:|:----------------:|\n",
    "|<|\tstrictly less than|\n",
    "|<=|\tless than or equal|\n",
    "|>|\tstrictly greater than|\n",
    "|>=|\tgreater than or equal|\n",
    "|==|\tequal|\n",
    "|!=|\tnot equal|\n",
    "|is|\tobject identity|\n",
    "|is not|\tnegated object identity|"
   ]
  },
  {
   "cell_type": "code",
   "execution_count": 5,
   "metadata": {},
   "outputs": [
    {
     "name": "stdout",
     "output_type": "stream",
     "text": [
      "num_2가 더 큽니다.\n"
     ]
    }
   ],
   "source": [
    "num_1,num_2 = 10,20\n",
    "if num_1>num_2:\n",
    "    print('num_1이 더 큽니다.')\n",
    "else:\n",
    "    print('num_2가 더 큽니다.')"
   ]
  },
  {
   "cell_type": "markdown",
   "metadata": {},
   "source": [
    "위의 코드는 잘못 작성된 코드입니다. 잘 생각해 보면, 만약 두 수 모두 10인 경우를 생각해 봅시다. 두 수가 같지만, 출력된 텍스트는 num_2가 더 크다고 출력될 것입니다. 따라서 조건을 정확하게 설계해야 합니다.\n"
   ]
  },
  {
   "cell_type": "code",
   "execution_count": 6,
   "metadata": {},
   "outputs": [
    {
     "name": "stdout",
     "output_type": "stream",
     "text": [
      "두번째 수가 큽니다\n"
     ]
    }
   ],
   "source": [
    "if num_1 > num_2:\n",
    "    print('첫번째 수가 큽니다.')\n",
    "elif num_1 == num_2:\n",
    "    print('두 수는 같습니다.')\n",
    "else:\n",
    "    print('두번째 수가 큽니다')"
   ]
  },
  {
   "cell_type": "code",
   "execution_count": 7,
   "metadata": {},
   "outputs": [
    {
     "name": "stdout",
     "output_type": "stream",
     "text": [
      "두 수가 같습니다.\n"
     ]
    }
   ],
   "source": [
    "num_1,num_2 = 10, 10\n",
    "if num_1 != num_2:\n",
    "    if num_1>num_2:\n",
    "        print('num_1이 더 큽니다.')\n",
    "    else:\n",
    "        print('num_2가 더 큽니다.')\n",
    "else:\n",
    "    print('두 수가 같습니다.')"
   ]
  },
  {
   "cell_type": "code",
   "execution_count": 8,
   "metadata": {},
   "outputs": [
    {
     "name": "stdout",
     "output_type": "stream",
     "text": [
      "두 리스트는 같습니다\n",
      "두 리스트는 같습니다.\n"
     ]
    }
   ],
   "source": [
    "# is 는 어떻게 사용할까?\n",
    "\n",
    "list_1 = [1,2,3,4,5]\n",
    "list_2 = [1,2,3,4,5]\n",
    "if list_1==list_2:\n",
    "    print('두 리스트는 같습니다')\n",
    "else:\n",
    "    print('두 리스트는 다릅니다')\n",
    "\n",
    "#list_2=list_1\n",
    "list_1=list_2\n",
    "if list_1 is list_2:\n",
    "    print('두 리스트는 같습니다.')\n",
    "else:\n",
    "    print('두 리스트는 다릅니다')"
   ]
  },
  {
   "cell_type": "markdown",
   "metadata": {},
   "source": [
    "### 사용자의 입력을 받아 리스트에 값이 없다면 추가하기\n",
    "\n"
   ]
  },
  {
   "cell_type": "code",
   "execution_count": 9,
   "metadata": {},
   "outputs": [
    {
     "name": "stdout",
     "output_type": "stream",
     "text": [
      "10\n",
      "[1, 2, 3, 4, 5, 10]\n"
     ]
    }
   ],
   "source": [
    "list_1 =[1,2,3,4,5]\n",
    "x = int(input())\n",
    "if x in list_1:\n",
    "    print('이미 값이 있습니다.')\n",
    "else:\n",
    "    list_1.append(x)\n",
    "print(list_1)"
   ]
  },
  {
   "cell_type": "markdown",
   "metadata": {},
   "source": [
    "### 2가지 이상의 조건을 판단하는 방법\n",
    "2가지 이상의 조건을 판단하기 위해서는 중첩된 if문을 사용하거나, and or 연산을 이용해야 합니다. 도전과제를 해결하면서 익혀 봅시다. \n",
    "\n",
    "### 도전과제\n",
    "사용자의 입력을 받아 2의 배수이며 3의 배수인지 확인하는 프로그램을 작성해 봅시다.\n",
    "\n",
    "1. 사용자의 입력을 받는다.\n",
    "2. 2의 배수이며, 3의 배수인지 확인한다.\n",
    "3. 판단한 결과를 출력한다. "
   ]
  },
  {
   "cell_type": "code",
   "execution_count": 10,
   "metadata": {},
   "outputs": [
    {
     "name": "stdout",
     "output_type": "stream",
     "text": [
      "10\n",
      "10는(은) 틀렸습니다.\n"
     ]
    }
   ],
   "source": [
    "num_1 = int(input())\n",
    "if num_1 % 2 == 0:\n",
    "    if num_1 % 3 == 0:\n",
    "        print('2의 배수이며, 3의 배수이다')\n",
    "    else:\n",
    "        print(\"{}는(은) 틀렸습니다.\".format(num_1))\n",
    "        "
   ]
  },
  {
   "cell_type": "code",
   "execution_count": 14,
   "metadata": {},
   "outputs": [
    {
     "name": "stdout",
     "output_type": "stream",
     "text": [
      "19\n",
      "19는(은) 틀렸습니다.\n"
     ]
    }
   ],
   "source": [
    "num_1 = int(input())\n",
    "if num_1 % 2 == 0:\n",
    "    if num_1 % 3 == 0:\n",
    "        print('2의 배수이며, 3의 배수이다')\n",
    "    else:\n",
    "        print(\"{}는(은) 틀렸습니다.\".format(num_1))\n",
    "else:\n",
    "    print(\"{}는(은) 틀렸습니다.\".format(num_1))"
   ]
  },
  {
   "cell_type": "code",
   "execution_count": 17,
   "metadata": {},
   "outputs": [
    {
     "name": "stdout",
     "output_type": "stream",
     "text": [
      "0\n",
      "2의 배수이며, 3의 배수이다\n"
     ]
    }
   ],
   "source": [
    "num_1 = int(input())\n",
    "if num_1 % 2 == 0 and num_1 % 3 == 0:\n",
    "    print('2의 배수이며, 3의 배수이다')\n",
    "else:\n",
    "    print(\"{}는(은) 틀렸습니다.\".format(num_1))\n"
   ]
  },
  {
   "cell_type": "markdown",
   "metadata": {},
   "source": [
    "## 3. boolean \n",
    "프로그래밍에서는 참과 거짓은 매우 중요합니다. 디지털이라는 것은 0과 1의 값을 말하죠. 컴퓨터는 디지털 기기 입니다. 따라서 0과 1로만 말을 하는 기계입니다.\n",
    "따라서 컴퓨터는 참과 거짓만으로 이루어진 기계이며 컴퓨터를 다루는 프로그래밍에서 참과 거짓은 매우 중요합니다.\n",
    "우리의 상식으로 크다 작다 같다와 같은 내용은 참과 거짓이 명확합니다. 하지만 프로그래밍상에서 참과 거짓은 약간 다르게 사용될 수 있습니다. \n",
    "그런데 참과 거짓을 잘 생각해 보면, 한쪽 경우를 확실하게 알게 된다면 반대쪽 역시도 확실히 아는 것이 됩니다. 즉, 거짓의 경우를 확실하게 알게 된다면, 자연스럽게 그에 해당하지 않는 경우는 참이 된다는 것을 알 수 있죠.\n",
    "\n",
    "프로그래밍에서 참과 거짓이 어떤 경우 나타나는지 확인해 봅시다.\n",
    "이를 위해서 \n",
    "__bool__ 함수를 사용합시다.\n",
    "bool( 값 ) 을 넣게 되면 이 안에 값이 참인지 거짓인지 판단해 줍니다.\n",
    "#### 파이썬에서의 참과 거짓\n",
    "\n",
    "True #참  \n",
    "False #거짓  \n",
    "\n",
    "#### 파이썬에서의 참과 거짓을 구분짓기 (거짓)\n",
    "\n",
    "False  \n",
    "None  \n",
    "0   \n",
    "''  \n",
    "()  \n",
    "[]  \n",
    "{}  \n"
   ]
  },
  {
   "cell_type": "code",
   "execution_count": 20,
   "metadata": {},
   "outputs": [
    {
     "name": "stdout",
     "output_type": "stream",
     "text": [
      "다름\n"
     ]
    }
   ],
   "source": [
    "d1 = 1.11-1.10\n",
    "d2 = 2.11-2.10\n",
    "if d1 == d2:\n",
    "    print('같음')\n",
    "else:\n",
    "    print('다름')"
   ]
  },
  {
   "cell_type": "code",
   "execution_count": 22,
   "metadata": {},
   "outputs": [
    {
     "name": "stdout",
     "output_type": "stream",
     "text": [
      "같음\n"
     ]
    }
   ],
   "source": [
    "d1 = 1.11-1.10\n",
    "d2 = 2.11-2.10\n",
    "if d2- d1 < 0.00001:\n",
    "    print('같음')\n",
    "else:\n",
    "    print('다름')"
   ]
  },
  {
   "cell_type": "markdown",
   "metadata": {},
   "source": [
    "### 안전한 나누기\n"
   ]
  },
  {
   "cell_type": "code",
   "execution_count": 23,
   "metadata": {},
   "outputs": [
    {
     "ename": "ZeroDivisionError",
     "evalue": "division by zero",
     "output_type": "error",
     "traceback": [
      "\u001b[1;31m---------------------------------------------------------------------------\u001b[0m",
      "\u001b[1;31mZeroDivisionError\u001b[0m                         Traceback (most recent call last)",
      "\u001b[1;32m<ipython-input-23-cd759d3fcf39>\u001b[0m in \u001b[0;36m<module>\u001b[1;34m()\u001b[0m\n\u001b[1;32m----> 1\u001b[1;33m \u001b[1;36m10\u001b[0m \u001b[1;33m/\u001b[0m \u001b[1;36m0\u001b[0m\u001b[1;33m\u001b[0m\u001b[0m\n\u001b[0m",
      "\u001b[1;31mZeroDivisionError\u001b[0m: division by zero"
     ]
    }
   ],
   "source": [
    "10 / 0"
   ]
  },
  {
   "cell_type": "code",
   "execution_count": 25,
   "metadata": {},
   "outputs": [
    {
     "name": "stdout",
     "output_type": "stream",
     "text": [
      "10\n",
      "2\n",
      "5.0\n"
     ]
    }
   ],
   "source": [
    "d1 = int(input())\n",
    "d2 = int(input())\n",
    "\n",
    "msg = d1/d2 if d2!=0 else '0으로는 나눌 수 없어요'\n",
    "print(msg)"
   ]
  },
  {
   "cell_type": "code",
   "execution_count": null,
   "metadata": {},
   "outputs": [],
   "source": []
  }
 ],
 "metadata": {
  "kernelspec": {
   "display_name": "Python 3",
   "language": "python",
   "name": "python3"
  },
  "language_info": {
   "codemirror_mode": {
    "name": "ipython",
    "version": 3
   },
   "file_extension": ".py",
   "mimetype": "text/x-python",
   "name": "python",
   "nbconvert_exporter": "python",
   "pygments_lexer": "ipython3",
   "version": "3.6.2"
  }
 },
 "nbformat": 4,
 "nbformat_minor": 2
}
