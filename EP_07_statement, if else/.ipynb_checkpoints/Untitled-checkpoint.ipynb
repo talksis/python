{
 "cells": [
  {
   "cell_type": "markdown",
   "metadata": {},
   "source": [
    "# 7강 if, elif, else\n",
    "파이썬에서는 흐름을 제어하기 위해서 if문을 사용하게 됩니다. if문은 프로그램의 흐름을 옳고 그름에 따라서 다르게 만들 수 있습니다. 만약 어떠한 물음에 대해서 맞는 경우 틀린 경우에 따라서 프로그램을 다르게 동작시키려고 한다면, if문을 필수적으로 사용해야 합니다. \n",
    "\n",
    "따라서 조건문이라고 하는 것은 이렇게 생각할 수 있습니다.\n",
    "\n",
    "``만약 이게 맞는다면 이렇게 처리해줘``\n",
    "\n",
    "파이썬의 if문을 사용하여 프로그램의 제어를 해 봅시다.\n"
   ]
  },
  {
   "cell_type": "markdown",
   "metadata": {},
   "source": [
    "## if문\n",
    "if문은 필수적으로 조건을 필요로 합니다. 따라서 형식은 다음과 같습니다.  \n",
    "\n",
    "if 조건 :  \n",
    "   실행할 명령  \n",
    "\n",
    "이때 조심해야 할 것은 콜론의 위치와 실행할 명령에서의 공백입니다. 프로그램의 흐름에서 if문이 실행될 때 실행할 명령과 if 문이 아닐 때 실행할 명령이 서로 구분되어야 합니다. 파이썬에서 이러한 구분을 짓기 위해서는 텝을 이용하여 "
   ]
  },
  {
   "cell_type": "code",
   "execution_count": 4,
   "metadata": {},
   "outputs": [
    {
     "name": "stdout",
     "output_type": "stream",
     "text": [
      "134123\n",
      "a는 5보다 큽니다.\n"
     ]
    }
   ],
   "source": [
    "a = int(input())\n",
    "if a> 5:\n",
    "    print('a는 5보다 큽니다.')\n",
    "    "
   ]
  },
  {
   "cell_type": "code",
   "execution_count": null,
   "metadata": {},
   "outputs": [],
   "source": []
  }
 ],
 "metadata": {
  "kernelspec": {
   "display_name": "Python 3",
   "language": "python",
   "name": "python3"
  },
  "language_info": {
   "codemirror_mode": {
    "name": "ipython",
    "version": 3
   },
   "file_extension": ".py",
   "mimetype": "text/x-python",
   "name": "python",
   "nbconvert_exporter": "python",
   "pygments_lexer": "ipython3",
   "version": "3.6.2"
  }
 },
 "nbformat": 4,
 "nbformat_minor": 2
}
