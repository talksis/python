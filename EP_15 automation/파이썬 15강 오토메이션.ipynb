{
 "cells": [
  {
   "cell_type": "code",
   "execution_count": null,
   "metadata": {},
   "outputs": [],
   "source": []
  },
  {
   "cell_type": "code",
   "execution_count": null,
   "metadata": {},
   "outputs": [],
   "source": []
  },
  {
   "cell_type": "code",
   "execution_count": null,
   "metadata": {},
   "outputs": [],
   "source": [
    "import webbrowser, sys, pyperclip\n",
    "if len(sys.argv) > 1:\n",
    "    # Get address from command line.\n",
    "    address = ' '.join(sys.argv[1:])\n",
    "else:\n",
    "    # Get address from clipboard.\n",
    "    address = pyperclip.paste()\n",
    "\n",
    "webbrowser.open('https://www.google.com/maps/place/' + address)\n",
    "webbrowser.get('chrome').open('https://google.com')\n"
   ]
  },
  {
   "cell_type": "code",
   "execution_count": null,
   "metadata": {},
   "outputs": [],
   "source": [
    "import requests,os\n",
    "os.chdir('d:\\\\dev')\n",
    "print(os.getcwd())\n",
    "def download_mp4(name):\n",
    "    print(name)\n",
    "    url = 'http://www.cbedunet.or.kr/upload/EBS_VOD/VOD/2014/030'+name+'.mp4'\n",
    "    res =requests.get(url)\n",
    "    res.raise_for_status()\n",
    "    f = open(name+'.mp4','wb')\n",
    "    for data in res.iter_content(chunk_size=1024):\n",
    "        if data:\n",
    "            f.write(data)\n",
    "    print('다운로드 완료')\n",
    "    f.close()\n",
    "\n",
    "for i in range(1,5):\n",
    "    download_mp4('{:02}'.format(i))\n",
    "    \n"
   ]
  }
 ],
 "metadata": {
  "kernelspec": {
   "display_name": "Python 3",
   "language": "python",
   "name": "python3"
  },
  "language_info": {
   "codemirror_mode": {
    "name": "ipython",
    "version": 3
   },
   "file_extension": ".py",
   "mimetype": "text/x-python",
   "name": "python",
   "nbconvert_exporter": "python",
   "pygments_lexer": "ipython3",
   "version": "3.6.2"
  }
 },
 "nbformat": 4,
 "nbformat_minor": 2
}
