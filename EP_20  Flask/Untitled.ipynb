{
 "cells": [
  {
   "cell_type": "code",
   "execution_count": null,
   "metadata": {},
   "outputs": [],
   "source": [
    "from flask import Flask\n",
    "app = Flask(__name__)\n",
    "\n",
    "@app.route('/')\n",
    "def index():\n",
    "    return 'index 페이지 입니다.'\n",
    "\n",
    "if __name__==\"__main__\":\n",
    "    app.run(host='0.0.0.0',debug=True)"
   ]
  },
  {
   "cell_type": "markdown",
   "metadata": {},
   "source": [
    "수정 중입니다..\n"
   ]
  },
  {
   "cell_type": "markdown",
   "metadata": {},
   "source": [
    "<!doctype html>\n",
    "<html>\n",
    "    <head>\n",
    "        <title>test</title>\n",
    "    </head>\n",
    "    <body>\n",
    "       하하하{{ aa }}\n",
    "       <form action='/' method=\"post\">\n",
    "            <input type='submit' value=\"Submit\"></input>\n",
    "        </form>\n",
    "    </body>\n",
    "</html>\n"
   ]
  },
  {
   "cell_type": "code",
   "execution_count": null,
   "metadata": {},
   "outputs": [],
   "source": [
    "from flask import Flask, render_template,request\n",
    "import os\n",
    "app = Flask(__name__)\n",
    "print(os.getcwd())\n",
    "aa = 1\n",
    "@app.route('/',methods=['GET',\"POST\"])\n",
    "def index():\n",
    "    if request.method=='POST':\n",
    "        print(\" POST 접근\")\n",
    "        global aa\n",
    "        aa= (aa+1)%2\n",
    "        return render_template('test.html',aa=aa)\n",
    "    else:\n",
    "        return  render_template('test.html',aa=aa)\n",
    "@app.route('/',methods=['POST'])\n",
    "def test(ss):\n",
    "    print(ss)\n",
    "\n",
    "if __name__==\"__main__\":\n",
    "    app.run(host='0.0.0.0',debug=True)\n"
   ]
  }
 ],
 "metadata": {
  "kernelspec": {
   "display_name": "Python 3",
   "language": "python",
   "name": "python3"
  },
  "language_info": {
   "codemirror_mode": {
    "name": "ipython",
    "version": 3
   },
   "file_extension": ".py",
   "mimetype": "text/x-python",
   "name": "python",
   "nbconvert_exporter": "python",
   "pygments_lexer": "ipython3",
   "version": "3.6.2"
  }
 },
 "nbformat": 4,
 "nbformat_minor": 2
}
