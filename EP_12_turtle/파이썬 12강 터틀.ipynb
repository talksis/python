{
 "cells": [
  {
   "cell_type": "code",
   "execution_count": 1,
   "metadata": {},
   "outputs": [],
   "source": [
    "#https://opentechschool.github.io/python-beginners/ko/simple_drawing.html\n",
    "import turtle\n",
    "turtle.setposition(0,200)\n",
    "turtle.pencolor('red')\n",
    "turtle.forward(200)\n",
    "turtle.exitonclick()"
   ]
  },
  {
   "cell_type": "code",
   "execution_count": 23,
   "metadata": {},
   "outputs": [],
   "source": [
    "import turtle \n",
    "turtle.home()\n",
    "turtle.forward(200)\n",
    "turtle.right(90)\n",
    "turtle.forward(200)\n",
    "turtle.exitonclick()\n"
   ]
  },
  {
   "cell_type": "code",
   "execution_count": null,
   "metadata": {},
   "outputs": [],
   "source": [
    "import turtle\n",
    "\n",
    "turtle.shape(\"turtle\")\n",
    "\n",
    "turtle.forward(25)\n",
    "\n",
    "turtle.exitonclick()"
   ]
  },
  {
   "cell_type": "code",
   "execution_count": 27,
   "metadata": {},
   "outputs": [
    {
     "ename": "Terminator",
     "evalue": "",
     "output_type": "error",
     "traceback": [
      "\u001b[1;31m---------------------------------------------------------------------------\u001b[0m",
      "\u001b[1;31mTclError\u001b[0m                                  Traceback (most recent call last)",
      "\u001b[1;32mc:\\users\\graydesk\\appdata\\local\\programs\\python\\python36-32\\lib\\turtle.py\u001b[0m in \u001b[0;36mforward\u001b[1;34m(distance)\u001b[0m\n",
      "\u001b[1;32mc:\\users\\graydesk\\appdata\\local\\programs\\python\\python36-32\\lib\\turtle.py\u001b[0m in \u001b[0;36mforward\u001b[1;34m(self, distance)\u001b[0m\n\u001b[0;32m   1636\u001b[0m         \"\"\"\n\u001b[1;32m-> 1637\u001b[1;33m         \u001b[0mself\u001b[0m\u001b[1;33m.\u001b[0m\u001b[0m_go\u001b[0m\u001b[1;33m(\u001b[0m\u001b[0mdistance\u001b[0m\u001b[1;33m)\u001b[0m\u001b[1;33m\u001b[0m\u001b[0m\n\u001b[0m\u001b[0;32m   1638\u001b[0m \u001b[1;33m\u001b[0m\u001b[0m\n",
      "\u001b[1;32mc:\\users\\graydesk\\appdata\\local\\programs\\python\\python36-32\\lib\\turtle.py\u001b[0m in \u001b[0;36m_go\u001b[1;34m(self, distance)\u001b[0m\n\u001b[0;32m   1604\u001b[0m         \u001b[0mende\u001b[0m \u001b[1;33m=\u001b[0m \u001b[0mself\u001b[0m\u001b[1;33m.\u001b[0m\u001b[0m_position\u001b[0m \u001b[1;33m+\u001b[0m \u001b[0mself\u001b[0m\u001b[1;33m.\u001b[0m\u001b[0m_orient\u001b[0m \u001b[1;33m*\u001b[0m \u001b[0mdistance\u001b[0m\u001b[1;33m\u001b[0m\u001b[0m\n\u001b[1;32m-> 1605\u001b[1;33m         \u001b[0mself\u001b[0m\u001b[1;33m.\u001b[0m\u001b[0m_goto\u001b[0m\u001b[1;33m(\u001b[0m\u001b[0mende\u001b[0m\u001b[1;33m)\u001b[0m\u001b[1;33m\u001b[0m\u001b[0m\n\u001b[0m\u001b[0;32m   1606\u001b[0m \u001b[1;33m\u001b[0m\u001b[0m\n",
      "\u001b[1;32mc:\\users\\graydesk\\appdata\\local\\programs\\python\\python36-32\\lib\\turtle.py\u001b[0m in \u001b[0;36m_goto\u001b[1;34m(self, end)\u001b[0m\n\u001b[0;32m   3181\u001b[0m                 screen._drawline(self.drawingLineItem, ((0, 0), (0, 0)),\n\u001b[1;32m-> 3182\u001b[1;33m                                                fill=\"\", width=self._pensize)\n\u001b[0m\u001b[0;32m   3183\u001b[0m         \u001b[1;31m# Turtle now at end,\u001b[0m\u001b[1;33m\u001b[0m\u001b[1;33m\u001b[0m\u001b[0m\n",
      "\u001b[1;32mc:\\users\\graydesk\\appdata\\local\\programs\\python\\python36-32\\lib\\turtle.py\u001b[0m in \u001b[0;36m_drawline\u001b[1;34m(self, lineitem, coordlist, fill, width, top)\u001b[0m\n\u001b[0;32m    544\u001b[0m                 \u001b[0mcl\u001b[0m\u001b[1;33m.\u001b[0m\u001b[0mappend\u001b[0m\u001b[1;33m(\u001b[0m\u001b[1;33m-\u001b[0m\u001b[0my\u001b[0m \u001b[1;33m*\u001b[0m \u001b[0mself\u001b[0m\u001b[1;33m.\u001b[0m\u001b[0myscale\u001b[0m\u001b[1;33m)\u001b[0m\u001b[1;33m\u001b[0m\u001b[0m\n\u001b[1;32m--> 545\u001b[1;33m             \u001b[0mself\u001b[0m\u001b[1;33m.\u001b[0m\u001b[0mcv\u001b[0m\u001b[1;33m.\u001b[0m\u001b[0mcoords\u001b[0m\u001b[1;33m(\u001b[0m\u001b[0mlineitem\u001b[0m\u001b[1;33m,\u001b[0m \u001b[1;33m*\u001b[0m\u001b[0mcl\u001b[0m\u001b[1;33m)\u001b[0m\u001b[1;33m\u001b[0m\u001b[0m\n\u001b[0m\u001b[0;32m    546\u001b[0m         \u001b[1;32mif\u001b[0m \u001b[0mfill\u001b[0m \u001b[1;32mis\u001b[0m \u001b[1;32mnot\u001b[0m \u001b[1;32mNone\u001b[0m\u001b[1;33m:\u001b[0m\u001b[1;33m\u001b[0m\u001b[0m\n",
      "\u001b[1;32m<string>\u001b[0m in \u001b[0;36mcoords\u001b[1;34m(self, *args, **kw)\u001b[0m\n",
      "\u001b[1;32mc:\\users\\graydesk\\appdata\\local\\programs\\python\\python36-32\\lib\\tkinter\\__init__.py\u001b[0m in \u001b[0;36mcoords\u001b[1;34m(self, *args)\u001b[0m\n\u001b[0;32m   2462\u001b[0m                            self.tk.splitlist(\n\u001b[1;32m-> 2463\u001b[1;33m                    self.tk.call((self._w, 'coords') + args))]\n\u001b[0m\u001b[0;32m   2464\u001b[0m     \u001b[1;32mdef\u001b[0m \u001b[0m_create\u001b[0m\u001b[1;33m(\u001b[0m\u001b[0mself\u001b[0m\u001b[1;33m,\u001b[0m \u001b[0mitemType\u001b[0m\u001b[1;33m,\u001b[0m \u001b[0margs\u001b[0m\u001b[1;33m,\u001b[0m \u001b[0mkw\u001b[0m\u001b[1;33m)\u001b[0m\u001b[1;33m:\u001b[0m \u001b[1;31m# Args: (val, val, ..., cnf={})\u001b[0m\u001b[1;33m\u001b[0m\u001b[0m\n",
      "\u001b[1;31mTclError\u001b[0m: invalid command name \".!canvas\"",
      "\nDuring handling of the above exception, another exception occurred:\n",
      "\u001b[1;31mTerminator\u001b[0m                                Traceback (most recent call last)",
      "\u001b[1;32m<ipython-input-27-74d35ac0f1d2>\u001b[0m in \u001b[0;36m<module>\u001b[1;34m()\u001b[0m\n\u001b[0;32m     14\u001b[0m \u001b[0mt\u001b[0m\u001b[1;33m.\u001b[0m\u001b[0mpendown\u001b[0m\u001b[1;33m(\u001b[0m\u001b[1;33m)\u001b[0m\u001b[1;33m\u001b[0m\u001b[0m\n\u001b[0;32m     15\u001b[0m \u001b[1;32mfor\u001b[0m \u001b[0mi\u001b[0m \u001b[1;32min\u001b[0m \u001b[0mrange\u001b[0m\u001b[1;33m(\u001b[0m\u001b[1;36m1000\u001b[0m\u001b[1;33m)\u001b[0m\u001b[1;33m:\u001b[0m\u001b[1;33m\u001b[0m\u001b[0m\n\u001b[1;32m---> 16\u001b[1;33m     \u001b[0mt\u001b[0m\u001b[1;33m.\u001b[0m\u001b[0mforward\u001b[0m\u001b[1;33m(\u001b[0m\u001b[0mdistance\u001b[0m\u001b[1;33m)\u001b[0m\u001b[1;33m\u001b[0m\u001b[0m\n\u001b[0m\u001b[0;32m     17\u001b[0m     \u001b[0mt\u001b[0m\u001b[1;33m.\u001b[0m\u001b[0mright\u001b[0m\u001b[1;33m(\u001b[0m\u001b[0mangle\u001b[0m\u001b[1;33m)\u001b[0m\u001b[1;33m\u001b[0m\u001b[0m\n\u001b[0;32m     18\u001b[0m     \u001b[0mdistance\u001b[0m\u001b[1;33m+=\u001b[0m\u001b[1;36m0.5\u001b[0m\u001b[1;33m\u001b[0m\u001b[0m\n",
      "\u001b[1;32mc:\\users\\graydesk\\appdata\\local\\programs\\python\\python36-32\\lib\\turtle.py\u001b[0m in \u001b[0;36mforward\u001b[1;34m(distance)\u001b[0m\n",
      "\u001b[1;31mTerminator\u001b[0m: "
     ]
    }
   ],
   "source": [
    "import turtle as t\n",
    "t.pencolor('red')\n",
    "t.penup()\n",
    "t.setposition(-45,100)\n",
    "t.pendown()\n",
    "for i in range(8):\n",
    "    t.forward(80)\n",
    "    t.right(45)\n",
    "distance = 0.2\n",
    "angle = 40\n",
    "t.pencolor('blue')\n",
    "t.penup()\n",
    "t.setposition(0,0)\n",
    "t.pendown()\n",
    "for i in range(1000):\n",
    "    t.forward(distance)\n",
    "    t.right(angle)\n",
    "    distance+=0.5\n",
    "t.exitonclick()"
   ]
  },
  {
   "cell_type": "code",
   "execution_count": 28,
   "metadata": {},
   "outputs": [],
   "source": [
    "import turtle\n",
    "y =-200\n",
    "turtle.color('red')\n",
    "for x in range(10):\n",
    "    turtle.penup()\n",
    "    turtle.setposition(-200,y)\n",
    "    turtle.pendown()\n",
    "    turtle.forward(400)\n",
    "    y+=10\n",
    "turtle.speed('slowest')\n",
    "turtle.delay(0)\n",
    "turtle.update()\n",
    "turtle.color('blue')\n",
    "for x in range(10):\n",
    "    turtle.penup()\n",
    "    turtle.setposition(-200,y)\n",
    "    turtle.pendown()\n",
    "    turtle.forward(400)\n",
    "    y+=10\n",
    "turtle.speed('fastest')\n",
    "turtle.delay(500)\n",
    "turtle.update()\n",
    "turtle.color('green')\n",
    "for x in range(10):\n",
    "    turtle.penup()\n",
    "    turtle.setposition(-200,y)\n",
    "    turtle.pendown()\n",
    "    turtle.forward(400)\n",
    "    y+=10\n",
    "turtle.speed('fastest')\n",
    "turtle.delay(0)\n",
    "turtle.update()\n",
    "turtle.color('black')\n",
    "for x in range(10):\n",
    "    turtle.penup()\n",
    "    turtle.setposition(-200,y)\n",
    "    turtle.pendown()\n",
    "    turtle.forward(400)\n",
    "    y+=10\n",
    "turtle.exitonclick()"
   ]
  },
  {
   "cell_type": "code",
   "execution_count": null,
   "metadata": {},
   "outputs": [],
   "source": [
    "import turtle as t\n",
    "angle = 0\n",
    "t.color('black')\n",
    "t.speed('fastest')\n",
    "t.delay(0)\n",
    "for i in range(36):\n",
    "    t.setheading(angle)\n",
    "    for r in range(4):\n",
    "        t.circle(40)\n",
    "        t.forward(100)\n",
    "        t.right(90)\n",
    "    print(t.heading())\n",
    "    angle+=10\n",
    "t.exitonclick()"
   ]
  },
  {
   "cell_type": "code",
   "execution_count": null,
   "metadata": {},
   "outputs": [],
   "source": [
    "import turtle \n",
    "\n",
    "painter = turtle\n",
    "\n",
    "painter.pencolor(\"blue\")\n",
    "\n",
    "for i in range(50):\n",
    "    painter.forward(50)\n",
    "    painter.left(123) # Let's go counterclockwise this time \n",
    "    \n",
    "painter.pencolor(\"red\")\n",
    "for i in range(50):\n",
    "    painter.forward(100)\n",
    "    painter.left(123)\n",
    "    \n",
    "turtle.done()"
   ]
  },
  {
   "cell_type": "code",
   "execution_count": 30,
   "metadata": {},
   "outputs": [],
   "source": [
    "import turtle \n",
    "\n",
    "ninja = turtle\n",
    "ninja.speed(10)\n",
    "ninja.delay(0)\n",
    "\n",
    "for i in range(180):\n",
    "    ninja.forward(100)\n",
    "    ninja.right(30)\n",
    "    ninja.forward(20)\n",
    "    ninja.left(60)\n",
    "    ninja.forward(50)\n",
    "    ninja.right(30)\n",
    "    \n",
    "    ninja.penup()\n",
    "    ninja.setposition(0, 0)\n",
    "    ninja.pendown()\n",
    "    \n",
    "    ninja.right(2)\n",
    "    \n",
    "turtle.done()"
   ]
  },
  {
   "cell_type": "code",
   "execution_count": 36,
   "metadata": {},
   "outputs": [],
   "source": [
    "from turtle import *\n",
    "\n",
    "from random import randint # from the random module import the function randint\n",
    "#like turtle it is a module, read ahead for use\n",
    "\n",
    "speed(0)\n",
    "\n",
    "bgcolor('black')\n",
    "\n",
    "x = 1\n",
    "\n",
    "while x < 450:\n",
    "\n",
    "    r = randint(0,255) #makes variables r,g,b whose value is an integer,\n",
    "    g = randint(0,255) # which is between 0 and 255. It is random, and\n",
    "    b = randint(0,255) # changes every time the loop runs\n",
    "\n",
    "    colormode(255) # this is something that is irrelevant at this point\n",
    "               # check the pythondocs link at the end for more info\n",
    "\n",
    "\n",
    "    pencolor(r,g,b) # changes the color of the pen to the rgb coordinates\n",
    "                    # obtained by the variables r, g, b changing each time\n",
    "\n",
    "    fd(50 + x)\n",
    "    rt(91)\n",
    "\n",
    "\n",
    "    x = x+1 \n",
    "\n",
    "exitonclick() \n",
    "\n",
    "#again, try to customize  :)"
   ]
  },
  {
   "cell_type": "code",
   "execution_count": 38,
   "metadata": {},
   "outputs": [
    {
     "ename": "Terminator",
     "evalue": "",
     "output_type": "error",
     "traceback": [
      "\u001b[1;31m---------------------------------------------------------------------------\u001b[0m",
      "\u001b[1;31mTerminator\u001b[0m                                Traceback (most recent call last)",
      "\u001b[1;32m<ipython-input-38-0b6f76c928c3>\u001b[0m in \u001b[0;36m<module>\u001b[1;34m()\u001b[0m\n\u001b[0;32m     28\u001b[0m     \u001b[0mturtle\u001b[0m\u001b[1;33m.\u001b[0m\u001b[0mcolor\u001b[0m\u001b[1;33m(\u001b[0m\u001b[0mcolor\u001b[0m\u001b[1;33m)\u001b[0m\u001b[1;33m\u001b[0m\u001b[0m\n\u001b[0;32m     29\u001b[0m     \u001b[0mturtle\u001b[0m\u001b[1;33m.\u001b[0m\u001b[0mforward\u001b[0m\u001b[1;33m(\u001b[0m\u001b[0mx\u001b[0m\u001b[1;33m)\u001b[0m\u001b[1;33m\u001b[0m\u001b[0m\n\u001b[1;32m---> 30\u001b[1;33m     \u001b[0mturtle\u001b[0m\u001b[1;33m.\u001b[0m\u001b[0mright\u001b[0m\u001b[1;33m(\u001b[0m\u001b[1;36m98\u001b[0m\u001b[1;33m)\u001b[0m\u001b[1;33m\u001b[0m\u001b[0m\n\u001b[0m\u001b[0;32m     31\u001b[0m     \u001b[0mx\u001b[0m \u001b[1;33m=\u001b[0m \u001b[0mx\u001b[0m \u001b[1;33m+\u001b[0m \u001b[1;36m1\u001b[0m\u001b[1;33m\u001b[0m\u001b[0m\n\u001b[0;32m     32\u001b[0m     \u001b[0mc\u001b[0m \u001b[1;33m=\u001b[0m \u001b[0mc\u001b[0m \u001b[1;33m+\u001b[0m \u001b[1;36m0.1\u001b[0m\u001b[1;33m\u001b[0m\u001b[0m\n",
      "\u001b[1;32mc:\\users\\graydesk\\appdata\\local\\programs\\python\\python36-32\\lib\\turtle.py\u001b[0m in \u001b[0;36mright\u001b[1;34m(angle)\u001b[0m\n",
      "\u001b[1;31mTerminator\u001b[0m: "
     ]
    }
   ],
   "source": [
    "import turtle\n",
    "turtle.setup(width=600, height=500)\n",
    "turtle.reset()\n",
    "turtle.hideturtle()\n",
    "turtle.speed(0)\n",
    "\n",
    "turtle.bgcolor('black')\n",
    "\n",
    "c = 0\n",
    "x = 0\n",
    "\n",
    "colors = [\n",
    "#reddish colors\n",
    "(1.00, 0.00, 0.00),(1.00, 0.03, 0.00),(1.00, 0.05, 0.00),(1.00, 0.07, 0.00),(1.00, 0.10, 0.00),(1.00, 0.12, 0.00),(1.00, 0.15, 0.00),(1.00, 0.17, 0.00),(1.00, 0.20, 0.00),(1.00, 0.23, 0.00),(1.00, 0.25, 0.00),(1.00, 0.28, 0.00),(1.00, 0.30, 0.00),(1.00, 0.33, 0.00),(1.00, 0.35, 0.00),(1.00, 0.38, 0.00),(1.00, 0.40, 0.00),(1.00, 0.42, 0.00),(1.00, 0.45, 0.00),(1.00, 0.47, 0.00),\n",
    "#orangey colors\n",
    "(1.00, 0.50, 0.00),(1.00, 0.53, 0.00),(1.00, 0.55, 0.00),(1.00, 0.57, 0.00),(1.00, 0.60, 0.00),(1.00, 0.62, 0.00),(1.00, 0.65, 0.00),(1.00, 0.68, 0.00),(1.00, 0.70, 0.00),(1.00, 0.72, 0.00),(1.00, 0.75, 0.00),(1.00, 0.78, 0.00),(1.00, 0.80, 0.00),(1.00, 0.82, 0.00),(1.00, 0.85, 0.00),(1.00, 0.88, 0.00),(1.00, 0.90, 0.00),(1.00, 0.93, 0.00),(1.00, 0.95, 0.00),(1.00, 0.97, 0.00),\n",
    "#yellowy colors\n",
    "(1.00, 1.00, 0.00),(0.95, 1.00, 0.00),(0.90, 1.00, 0.00),(0.85, 1.00, 0.00),(0.80, 1.00, 0.00),(0.75, 1.00, 0.00),(0.70, 1.00, 0.00),(0.65, 1.00, 0.00),(0.60, 1.00, 0.00),(0.55, 1.00, 0.00),(0.50, 1.00, 0.00),(0.45, 1.00, 0.00),(0.40, 1.00, 0.00),(0.35, 1.00, 0.00),(0.30, 1.00, 0.00),(0.25, 1.00, 0.00),(0.20, 1.00, 0.00),(0.15, 1.00, 0.00),(0.10, 1.00, 0.00),(0.05, 1.00, 0.00),\n",
    "#greenish colors\n",
    "(0.00, 1.00, 0.00),(0.00, 0.95, 0.05),(0.00, 0.90, 0.10),(0.00, 0.85, 0.15),(0.00, 0.80, 0.20),(0.00, 0.75, 0.25),(0.00, 0.70, 0.30),(0.00, 0.65, 0.35),(0.00, 0.60, 0.40),(0.00, 0.55, 0.45),(0.00, 0.50, 0.50),(0.00, 0.45, 0.55),(0.00, 0.40, 0.60),(0.00, 0.35, 0.65),(0.00, 0.30, 0.70),(0.00, 0.25, 0.75),(0.00, 0.20, 0.80),(0.00, 0.15, 0.85),(0.00, 0.10, 0.90),(0.00, 0.05, 0.95),\n",
    "#blueish colors\n",
    "(0.00, 0.00, 1.00),(0.05, 0.00, 1.00),(0.10, 0.00, 1.00),(0.15, 0.00, 1.00),(0.20, 0.00, 1.00),(0.25, 0.00, 1.00),(0.30, 0.00, 1.00),(0.35, 0.00, 1.00),(0.40, 0.00, 1.00),(0.45, 0.00, 1.00),(0.50, 0.00, 1.00),(0.55, 0.00, 1.00),(0.60, 0.00, 1.00),(0.65, 0.00, 1.00),(0.70, 0.00, 1.00),(0.75, 0.00, 1.00),(0.80, 0.00, 1.00),(0.85, 0.00, 1.00),(0.90, 0.00, 1.00),(0.95, 0.00, 1.00)\n",
    "]\n",
    "\n",
    "while x < 1000:\n",
    "    idx = int(c)\n",
    "    color = colors[idx]\n",
    "    turtle.color(color)\n",
    "    turtle.forward(x)\n",
    "    turtle.right(98)\n",
    "    x = x + 1\n",
    "    c = c + 0.1\n",
    "\n",
    "    \n",
    "turtle.exitonclick()"
   ]
  },
  {
   "cell_type": "code",
   "execution_count": 44,
   "metadata": {},
   "outputs": [
    {
     "ename": "Terminator",
     "evalue": "",
     "output_type": "error",
     "traceback": [
      "\u001b[1;31m---------------------------------------------------------------------------\u001b[0m",
      "\u001b[1;31mTerminator\u001b[0m                                Traceback (most recent call last)",
      "\u001b[1;32m<ipython-input-44-ca99c2472c7c>\u001b[0m in \u001b[0;36m<module>\u001b[1;34m()\u001b[0m\n\u001b[0;32m     10\u001b[0m     \u001b[0mt\u001b[0m\u001b[1;33m.\u001b[0m\u001b[0msetheading\u001b[0m\u001b[1;33m(\u001b[0m\u001b[0mangle\u001b[0m\u001b[1;33m)\u001b[0m\u001b[1;33m\u001b[0m\u001b[0m\n\u001b[0;32m     11\u001b[0m     \u001b[1;32mfor\u001b[0m \u001b[0mj\u001b[0m \u001b[1;32min\u001b[0m \u001b[0mrange\u001b[0m\u001b[1;33m(\u001b[0m\u001b[1;36m3\u001b[0m\u001b[1;33m)\u001b[0m\u001b[1;33m:\u001b[0m\u001b[1;33m\u001b[0m\u001b[0m\n\u001b[1;32m---> 12\u001b[1;33m         \u001b[0mt\u001b[0m\u001b[1;33m.\u001b[0m\u001b[0mforward\u001b[0m\u001b[1;33m(\u001b[0m\u001b[0mr\u001b[0m\u001b[1;33m)\u001b[0m\u001b[1;33m\u001b[0m\u001b[0m\n\u001b[0m\u001b[0;32m     13\u001b[0m         \u001b[0mt\u001b[0m\u001b[1;33m.\u001b[0m\u001b[0mright\u001b[0m\u001b[1;33m(\u001b[0m\u001b[1;36m120\u001b[0m\u001b[1;33m)\u001b[0m\u001b[1;33m\u001b[0m\u001b[0m\n\u001b[0;32m     14\u001b[0m         \u001b[0mt\u001b[0m\u001b[1;33m.\u001b[0m\u001b[0mpencolor\u001b[0m\u001b[1;33m(\u001b[0m\u001b[0mrandrange\u001b[0m\u001b[1;33m(\u001b[0m\u001b[1;36m1\u001b[0m\u001b[1;33m,\u001b[0m\u001b[1;36m255\u001b[0m\u001b[1;33m)\u001b[0m\u001b[1;33m,\u001b[0m\u001b[0mrandrange\u001b[0m\u001b[1;33m(\u001b[0m\u001b[1;36m1\u001b[0m\u001b[1;33m,\u001b[0m\u001b[1;36m255\u001b[0m\u001b[1;33m)\u001b[0m\u001b[1;33m,\u001b[0m\u001b[0mrandrange\u001b[0m\u001b[1;33m(\u001b[0m\u001b[1;36m1\u001b[0m\u001b[1;33m,\u001b[0m\u001b[1;36m255\u001b[0m\u001b[1;33m)\u001b[0m\u001b[1;33m)\u001b[0m\u001b[1;33m\u001b[0m\u001b[0m\n",
      "\u001b[1;32mc:\\users\\graydesk\\appdata\\local\\programs\\python\\python36-32\\lib\\turtle.py\u001b[0m in \u001b[0;36mforward\u001b[1;34m(distance)\u001b[0m\n",
      "\u001b[1;31mTerminator\u001b[0m: "
     ]
    }
   ],
   "source": [
    "import turtle as t\n",
    "from random import randrange\n",
    "angle = 0\n",
    "r = 10\n",
    "t.speed('fastest')\n",
    "t.delay(0)\n",
    "colormode(255)\n",
    "t.delay(0)\n",
    "for i in range(1000):\n",
    "    t.setheading(angle)\n",
    "    for j in range(3):\n",
    "        t.forward(r)\n",
    "        t.right(120)\n",
    "        t.pencolor(randrange(1,255),randrange(1,255),randrange(1,255))\n",
    "        r+=1\n",
    "    t.home()\n",
    "    angle+=1\n",
    "    \n",
    "t.done()\n",
    "    \n",
    "    "
   ]
  },
  {
   "cell_type": "code",
   "execution_count": 45,
   "metadata": {},
   "outputs": [
    {
     "name": "stdout",
     "output_type": "stream",
     "text": [
      "How many Squares do you want? 10\n"
     ]
    }
   ],
   "source": [
    "import turtle\n",
    " \n",
    "prev = 0\n",
    "fibno = 0.1\n",
    "john = turtle\n",
    " \n",
    "sqs = input(\"How many Squares do you want? \")\n",
    " \n",
    "def draw_square(t, sz):\n",
    "   for i in range (6):\n",
    "       t.forward(sz)\n",
    "       t.left(90)\n",
    "    \n",
    "for i in range(int(sqs)):\n",
    "   john.right(90)\n",
    "   draw_square(john, fibno*5)\n",
    "   prev, fibno = fibno, fibno+prev"
   ]
  },
  {
   "cell_type": "code",
   "execution_count": 13,
   "metadata": {},
   "outputs": [],
   "source": [
    "import turtle as t\n",
    "colors = [\"blue\", \"green\", \"purple\", \"cyan\", \"magenta\", \"violet\"]\n",
    "for angle in range(0,360,15):\n",
    "    t.seth(angle)\n",
    "    t.circle(100)\n",
    "t.reset()\n",
    "for i in range(45):\n",
    "    t.color(colors[i%6])\n",
    "    t.pendown()\n",
    "    t.fd(2+i*5)\n",
    "    t.left(45)\n",
    "    t.width(i)\n",
    "    t.penup()\n",
    "t.update()\n",
    "t.done()"
   ]
  },
  {
   "cell_type": "code",
   "execution_count": null,
   "metadata": {},
   "outputs": [],
   "source": []
  }
 ],
 "metadata": {
  "kernelspec": {
   "display_name": "Python 3",
   "language": "python",
   "name": "python3"
  },
  "language_info": {
   "codemirror_mode": {
    "name": "ipython",
    "version": 3
   },
   "file_extension": ".py",
   "mimetype": "text/x-python",
   "name": "python",
   "nbconvert_exporter": "python",
   "pygments_lexer": "ipython3",
   "version": "3.6.2"
  }
 },
 "nbformat": 4,
 "nbformat_minor": 2
}
