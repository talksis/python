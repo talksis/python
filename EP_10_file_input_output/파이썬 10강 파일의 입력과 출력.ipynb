{
 "cells": [
  {
   "cell_type": "markdown",
   "metadata": {},
   "source": [
    "# 10. 파일 입력 출력\n",
    "모든 프로그램은 실행 후 종료되면, 데이터가 삭제됩니다. 하지만 우리가 어떠한 프로그램을 만든다고 했을 때, 그 데이터가 유지되고 계속 저장되기를 원합니다. 한번 생각해 보세요. 워드프로세서 프로그램이 저장기능이 빠졌다고 생각해 보면 됩니다. 따라서 파일을 저장하고 읽는 기능은 프로그램에서 가장 중요한 기능 중 하나입니다.\n",
    "파이썬에서는 파일의 입출력을 기본적으로 지원합니다. 이 객체는 TextIOWrrapper가 되며 파일 입축력의 기본으로 사용하는 객체입니다. 이때 IO은 input과 output을 말합니다. \n",
    "\n",
    "\n"
   ]
  },
  {
   "cell_type": "markdown",
   "metadata": {},
   "source": [
    "## 1. open 함수\n",
    "\n",
    "open 함수는 파일의 입출력을 담당하는 함수입니다.   \n",
    "\n",
    "__open( 파일명 , 모드 )__  \n",
    "\n",
    "위와 같은 형식으로 사용합니다. 이때 단순히 파일명만 지정하면, 현재 실행되는 경로에 대한 파일을 생성합니다. 만약 경로를 지정하고 싶다면 파일명과 함께 기록해 주면 됩니다.\n",
    "\n",
    "모드의 종류는 총 3개를 지원합니다.\n",
    "\n",
    "|인자|의미|\n",
    "|:-----:|:-----:|\n",
    "|r|파일을 읽기 모드로 연다.|\n",
    "|w|파일을 쓰기 모드로 연다, 만약 파일이 없다면 생성한다.|\n",
    "|a|파일을 추가 모드로 연다.|\n"
   ]
  },
  {
   "cell_type": "code",
   "execution_count": 1,
   "metadata": {},
   "outputs": [
    {
     "data": {
      "text/plain": [
       "_io.TextIOWrapper"
      ]
     },
     "execution_count": 1,
     "metadata": {},
     "output_type": "execute_result"
    }
   ],
   "source": [
    "f = open('test.txt','r')\n",
    "type(f)"
   ]
  },
  {
   "cell_type": "markdown",
   "metadata": {},
   "source": [
    "만약 파일이 없는 경우에 r 모드로 파일을 접근하게 되면 fileNotFountError가 발생합니다. 파일이 없다면, 읽을 수 있는 자료가 없겠죠. 따라서 이런 경우 에러가 납니다. 파일을 처음 생성하는 경우에는 파일을 쓰기 모드로 설정하여 열어야 합니다. \n"
   ]
  },
  {
   "cell_type": "code",
   "execution_count": 2,
   "metadata": {},
   "outputs": [
    {
     "data": {
      "text/plain": [
       "<_io.TextIOWrapper name='test.txt' mode='w' encoding='cp949'>"
      ]
     },
     "execution_count": 2,
     "metadata": {},
     "output_type": "execute_result"
    }
   ],
   "source": [
    "open('test.txt','w')"
   ]
  },
  {
   "cell_type": "markdown",
   "metadata": {},
   "source": [
    "파일을 열게 되면 파일객체가 생성됩니다. 만약 기존에 파일이 존재하는데도 w 모드로 파일을 열게 되면, 파일의 내용은 모두 삭제됩니다. 따라서 기존의 데이터가 중요한 경우에는 다른 방법으로 열어야 합니다. \n",
    "\n"
   ]
  },
  {
   "cell_type": "code",
   "execution_count": 3,
   "metadata": {},
   "outputs": [],
   "source": [
    "f = open('text.txt','a')"
   ]
  },
  {
   "cell_type": "markdown",
   "metadata": {},
   "source": [
    "a 모드로 열게 되면 기존의 데이터를 유지하며 데이터를 추가해서 작성하게 됩니다. 따라서 기존의 데이터를 유지해야 하는 경우에는 반드시 a 모드로 열어야 합니다.\n",
    "또한 두 번째 인자를 넣지 않는 경우에는 기본적으로 'r' 모드로 열리게 됩니다. \n"
   ]
  },
  {
   "cell_type": "code",
   "execution_count": 4,
   "metadata": {},
   "outputs": [
    {
     "data": {
      "text/plain": [
       "'r'"
      ]
     },
     "execution_count": 4,
     "metadata": {},
     "output_type": "execute_result"
    }
   ],
   "source": [
    "file_name = 'text.txt'\n",
    "f = open(file_name)\n",
    "f.mode"
   ]
  },
  {
   "cell_type": "markdown",
   "metadata": {},
   "source": [
    "## 2. 데이터 쓰기\n",
    "파일에 데이터를 저장하기 위해선 파일을 w a 모드로 열어야만 합니다. r 모드는 읽기 이기 때문에 이 함수를 지원하지 않습니다.   \n",
    "  \n",
    "__f.write(데이터)__  \n",
    "  \n",
    "위와 같은 형식으로 데이터를 쓸 수 있습니다. 이때, f는 TextIOWrapper 객체여야 합니다. \n",
    "또한 데이터를 저장하고 나면 반드시 close 메소드를 사용하여 파일을 닫아야 합니다.  \n",
    "  \n",
    "__f.close()__  \n",
    "  \n",
    "  \n",
    "\n"
   ]
  },
  {
   "cell_type": "code",
   "execution_count": 8,
   "metadata": {},
   "outputs": [
    {
     "data": {
      "text/plain": [
       "7"
      ]
     },
     "execution_count": 8,
     "metadata": {},
     "output_type": "execute_result"
    }
   ],
   "source": [
    "file_name = 'test.txt'\n",
    "f = open('test.txt','w')\n",
    "f.write('데이터 입니다')"
   ]
  },
  {
   "cell_type": "markdown",
   "metadata": {},
   "source": [
    "파일에 데이터를 write 메소드를 사용할 수 있습니다. 하지만 위와 같이 데이터를 입력하고 폴더를 확인해 보면 파일을 생성되었지만, 파일에는 아무런 데이터가 저장되어 있지 않다는 것을 확인할 수 있습니다. "
   ]
  },
  {
   "cell_type": "code",
   "execution_count": 9,
   "metadata": {},
   "outputs": [],
   "source": [
    "f.close()"
   ]
  },
  {
   "cell_type": "markdown",
   "metadata": {},
   "source": [
    "close 메소드를 사용하고 나면, 파일의 저장용량이 나타나면서 파일의 내용이 저장됩니다. 파일을 여러 줄의 내용을 넣을 때에는 반드시 개행을 생성해 주어야 합니다. 개행을 표시하지 않는 경우에는 내용이 한줄로 표시됩니다.\n"
   ]
  },
  {
   "cell_type": "code",
   "execution_count": 14,
   "metadata": {},
   "outputs": [],
   "source": [
    "f = open('test.txt','w',encoding='UTF-8')\n",
    "f.write('안녕하세요')\n",
    "f.write('파일입출력을 다루고 있습니다.')\n",
    "f.write('파이썬 강좌입니다.')\n",
    "f.close()"
   ]
  },
  {
   "cell_type": "code",
   "execution_count": 19,
   "metadata": {},
   "outputs": [
    {
     "name": "stdout",
     "output_type": "stream",
     "text": [
      "False\n"
     ]
    }
   ],
   "source": [
    "f = open('test.txt','w')\n",
    "f.write('안녕하세요\\n')\n",
    "f.write('파일입출력을 다루고 있습니다.\\n')\n",
    "f.write('파이썬 강좌입니다.\\n')\n",
    "f.seek(0)\n",
    "f.write('파이썬 강좌입니다.\\n')\n",
    "f.close()"
   ]
  },
  {
   "cell_type": "markdown",
   "metadata": {},
   "source": [
    "## 3. 파일의 읽기\n",
    "파일을 읽기 위해서는 f 의 r 모드를 사용해야 합니다. 기본적으로 w와 a 모드는 파일을 쓰기만 할 수 있으며, 읽을 수 없도록 되어 있습니다.   \n",
    "  \n",
    "__f.read()__  \n",
    "__f.readline()__  \n",
    "__f.readlines()__  \n",
    "  \n"
   ]
  },
  {
   "cell_type": "code",
   "execution_count": 21,
   "metadata": {},
   "outputs": [],
   "source": [
    "f = open('test.txt','r')\n",
    "f.read()\n",
    "f.close()"
   ]
  },
  {
   "cell_type": "raw",
   "metadata": {},
   "source": [
    "read 메소드를 사용하게 되면, 파일의 모든 내용을 읽게 됩니다. 따라서 한줄 씩 읽는 동작이 필요하다면 여러 방법으로 이를 제어할 수 있습니다."
   ]
  },
  {
   "cell_type": "code",
   "execution_count": 25,
   "metadata": {},
   "outputs": [
    {
     "name": "stdout",
     "output_type": "stream",
     "text": [
      "라인 파이썬 강좌입니다.\n",
      "라인 력을 다루고 있습니다.\n",
      "라인 파이썬 강좌입니다.\n"
     ]
    }
   ],
   "source": [
    "f = open('test.txt','r')\n",
    "for line in f:\n",
    "    print('라인',line.strip())\n",
    "f.close()"
   ]
  },
  {
   "cell_type": "code",
   "execution_count": 29,
   "metadata": {},
   "outputs": [
    {
     "name": "stdout",
     "output_type": "stream",
     "text": [
      "파이썬 강좌입니다.\n",
      "\n",
      "력을 다루고 있습니다.\n",
      "\n",
      "파이썬 강좌입니다.\n",
      "\n"
     ]
    }
   ],
   "source": [
    "f = open('test.txt','r')\n",
    "while True:\n",
    "    line = f.readline()\n",
    "    if not line:\n",
    "        break\n",
    "    print(line)    \n",
    "f.close()"
   ]
  },
  {
   "cell_type": "code",
   "execution_count": 32,
   "metadata": {},
   "outputs": [
    {
     "name": "stdout",
     "output_type": "stream",
     "text": [
      "파이썬 강좌입니다.\n",
      "\n",
      "력을 다루고 있습니다.\n",
      "\n",
      "파이썬 강좌입니다.\n",
      "\n"
     ]
    }
   ],
   "source": [
    "f = open('test.txt','r')\n",
    "lines = f.readlines()\n",
    "for line in lines:\n",
    "    print(line)\n",
    "f.close()"
   ]
  },
  {
   "cell_type": "markdown",
   "metadata": {},
   "source": [
    "파일을 항상 닫기를 해야 하지만, 우리는 가끔 실수할 수 있습니다. 따라서 실수를 줄이기 위한 방법은 다음과 같이 처리하는 것입니다.   \n",
    "```python3\n",
    "with open(파일명) as object:  \n",
    "    commands__  \n",
    "```\n",
    "    \n",
    " 이렇게 처리하면, close 메소드를 사용할 필요가 없어집니다. \n"
   ]
  },
  {
   "cell_type": "code",
   "execution_count": 31,
   "metadata": {},
   "outputs": [
    {
     "name": "stdout",
     "output_type": "stream",
     "text": [
      "파이썬 강좌입니다.\n",
      "\n",
      "력을 다루고 있습니다.\n",
      "\n",
      "파이썬 강좌입니다.\n",
      "\n"
     ]
    }
   ],
   "source": [
    "with open('test.txt') as f:\n",
    "    lines = f.readlines()\n",
    "    for line in lines:\n",
    "        print(line)"
   ]
  },
  {
   "cell_type": "code",
   "execution_count": 33,
   "metadata": {},
   "outputs": [],
   "source": [
    "with open('test.txt','w') as f:\n",
    "    for i in range(10):\n",
    "        f.write(str(i)+'번째 줄입니다.\\n')\n"
   ]
  },
  {
   "cell_type": "code",
   "execution_count": 34,
   "metadata": {},
   "outputs": [],
   "source": [
    "with open('test.txt','r') as f:\n",
    "    lines = f.readlines()\n",
    "    for line in lines:\n",
    "        with open('test'+line[0]+'.txt','w') as out_file:\n",
    "            out_file.write(line)\n",
    "        \n"
   ]
  },
  {
   "cell_type": "code",
   "execution_count": 39,
   "metadata": {},
   "outputs": [
    {
     "name": "stdout",
     "output_type": "stream",
     "text": [
      "17\n",
      "34\n",
      "51\n",
      "68\n"
     ]
    }
   ],
   "source": [
    "f = open('test.txt','r')\n",
    "line = f.readline()\n",
    "print(f.tell())\n",
    "line = f.readline()\n",
    "print(f.tell())\n",
    "line = f.readline()\n",
    "print(f.tell())\n",
    "line = f.readline()\n",
    "print(f.tell())\n",
    "f.close()"
   ]
  },
  {
   "cell_type": "code",
   "execution_count": 44,
   "metadata": {},
   "outputs": [
    {
     "name": "stdout",
     "output_type": "stream",
     "text": [
      "0번째 줄입니다.\n",
      "\n",
      "1번째 줄입니다.\n",
      "2번째 줄입니다.\n",
      "3번째 줄입니다.\n",
      "4번째 줄입니다.\n",
      "5번째 줄입니다.\n",
      "6번째 줄입니다.\n",
      "7번째 줄입니다.\n",
      "8번째 줄입니다.\n",
      "9번째 줄입니다.\n",
      "\n"
     ]
    }
   ],
   "source": [
    "f = open('test.txt','r')\n",
    "line = f.readline()\n",
    "print(line)\n",
    "data = f.read()\n",
    "f.close()\n",
    "\n",
    "print(data)"
   ]
  },
  {
   "cell_type": "code",
   "execution_count": null,
   "metadata": {},
   "outputs": [],
   "source": []
  }
 ],
 "metadata": {
  "kernelspec": {
   "display_name": "Python 3",
   "language": "python",
   "name": "python3"
  },
  "language_info": {
   "codemirror_mode": {
    "name": "ipython",
    "version": 3
   },
   "file_extension": ".py",
   "mimetype": "text/x-python",
   "name": "python",
   "nbconvert_exporter": "python",
   "pygments_lexer": "ipython3",
   "version": "3.6.2"
  }
 },
 "nbformat": 4,
 "nbformat_minor": 2
}
