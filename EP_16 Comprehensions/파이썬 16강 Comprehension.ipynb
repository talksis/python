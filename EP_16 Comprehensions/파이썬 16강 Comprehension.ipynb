{
 "cells": [
  {
   "cell_type": "markdown",
   "metadata": {},
   "source": [
    "# Comprehension\n",
    "시퀀스 타입들을 보기좋게 만들어 봅시다."
   ]
  },
  {
   "cell_type": "code",
   "execution_count": 2,
   "metadata": {},
   "outputs": [],
   "source": [
    "nums=[1,2,3,4,5,6,7,8,9,10]"
   ]
  },
  {
   "cell_type": "code",
   "execution_count": 7,
   "metadata": {},
   "outputs": [
    {
     "name": "stdout",
     "output_type": "stream",
     "text": [
      "[1, 2, 3, 4, 5, 6, 7, 8, 9, 10]\n",
      "[1, 2, 3, 4, 5, 6, 7, 8, 9, 10]\n"
     ]
    }
   ],
   "source": [
    "#nums 안에 있는 것들을 리스트에 넣어 봅시다.\n",
    "my_list=[]\n",
    "for n in nums:\n",
    "    my_list.append(n)\n",
    "print(my_list)    \n",
    "\n",
    "my_list2 =[n for n in nums]\n",
    "print(my_list2)"
   ]
  },
  {
   "cell_type": "code",
   "execution_count": 10,
   "metadata": {},
   "outputs": [
    {
     "name": "stdout",
     "output_type": "stream",
     "text": [
      "[1, 4, 9, 16, 25, 36, 49, 64, 81, 100]\n",
      "[1, 4, 9, 16, 25, 36, 49, 64, 81, 100]\n",
      "[1, 4, 9, 16, 25, 36, 49, 64, 81, 100]\n"
     ]
    }
   ],
   "source": [
    "#nums 안에 있는 것들을 제곱하여 리스트에 넣어 봅시다.\n",
    "my_list =[]\n",
    "for n in nums:\n",
    "    my_list.append(n*n)\n",
    "print(my_list)\n",
    "\n",
    "my_list2 = [n*n for n in nums]\n",
    "print(my_list2)\n",
    "#무명의 함수은 lambda를 통해서도 할 수 있습니다. map이랑 같이 써 봅시다.\n",
    "\n",
    "my_list3 = list(map(lambda n: n*n, nums))\n",
    "print(my_list3)"
   ]
  },
  {
   "cell_type": "code",
   "execution_count": 17,
   "metadata": {},
   "outputs": [
    {
     "name": "stdout",
     "output_type": "stream",
     "text": [
      "[2, 4, 6, 8, 10]\n",
      "[2, 4, 6, 8, 10]\n",
      "[2, 4, 6, 8, 10]\n"
     ]
    }
   ],
   "source": [
    "#nums 중에 짝수만 리스트에 넣어 봅시다.\n",
    "my_list=[]\n",
    "for n in nums:\n",
    "    if n%2==0:\n",
    "        my_list.append(n)\n",
    "print(my_list)\n",
    "my_list2 = [n for n in nums if n%2==0]\n",
    "print(my_list2)\n",
    "#filter를 쓸수도 있어요\n",
    "my_list3= list(filter(lambda n: n%2==0, nums))\n",
    "print(my_list3)"
   ]
  },
  {
   "cell_type": "code",
   "execution_count": 32,
   "metadata": {},
   "outputs": [
    {
     "name": "stdout",
     "output_type": "stream",
     "text": [
      "[('a', 0), ('a', 1), ('a', 2), ('a', 3), ('b', 0), ('b', 1), ('b', 2), ('b', 3), ('c', 0), ('c', 1), ('c', 2), ('c', 3), ('d', 0), ('d', 1), ('d', 2), ('d', 3)]\n",
      "[('a', 0), ('a', 1), ('a', 2), ('a', 3), ('b', 0), ('b', 1), ('b', 2), ('b', 3), ('c', 0), ('c', 1), ('c', 2), ('c', 3), ('d', 0), ('d', 1), ('d', 2), ('d', 3)]\n"
     ]
    }
   ],
   "source": [
    "my_list=[]\n",
    "for letter in 'abcd':\n",
    "    for n in range(4):\n",
    "        my_list.append((letter,n))\n",
    "print(my_list)\n",
    "\n",
    "my_list2 = [ (letter,n) for letter in 'abcd' for n in range(4)]\n",
    "print(my_list2)\n"
   ]
  },
  {
   "cell_type": "code",
   "execution_count": 38,
   "metadata": {},
   "outputs": [
    {
     "name": "stdout",
     "output_type": "stream",
     "text": [
      "[('이명박', '배트맨'), ('박근혜', '슈퍼맨'), ('문재인', '스파이더맨'), ('트럼프', '아이언맨'), ('아베', '원더우먼')]\n",
      "{'이명박': '배트맨', '박근혜': '슈퍼맨', '문재인': '스파이더맨', '트럼프': '아이언맨', '아베': '원더우먼'}\n",
      "{'이명박': '배트맨', '박근혜': '슈퍼맨', '문재인': '스파이더맨', '트럼프': '아이언맨', '아베': '원더우먼'}\n"
     ]
    }
   ],
   "source": [
    "#딕셔너리 comprehension을 해봅시다.\n",
    "names = ['이명박','박근혜','문재인','트럼프','아베']\n",
    "heros=['배트맨','슈퍼맨','스파이더맨','아이언맨','원더우먼']\n",
    "print(list(zip(names,heros)))\n",
    "my_dict={}\n",
    "for name,hero in zip(names,heros):\n",
    "    my_dict[name]=hero\n",
    "print(my_dict)\n",
    "\n",
    "my_dict2={key:value for key,value in zip(names,heros)}\n",
    "print(my_dict2)"
   ]
  },
  {
   "cell_type": "code",
   "execution_count": 41,
   "metadata": {},
   "outputs": [
    {
     "name": "stdout",
     "output_type": "stream",
     "text": [
      "{1, 2, 3, 4, 5, 6, 7, 8, 9}\n",
      "{1, 2, 3, 4, 5, 6, 7, 8, 9}\n"
     ]
    }
   ],
   "source": [
    "#set도 해봅시다.\n",
    "nums=[1,1,2,3,3,4,5,6,7,8,9,9,5,7,1,2,5,7]\n",
    "my_set = set()\n",
    "for i in nums:\n",
    "    my_set.add(i)\n",
    "print(my_set)\n",
    "\n",
    "my_set2 ={ n for n in nums}\n",
    "print(my_set2)"
   ]
  },
  {
   "cell_type": "code",
   "execution_count": 27,
   "metadata": {},
   "outputs": [
    {
     "data": {
      "text/plain": [
       "[[0, 0, 0, 0, 0, 0, 0, 0, 0, 0],\n",
       " [0, 0, 0, 0, 0, 0, 0, 0, 0, 0],\n",
       " [0, 0, 0, 0, 0, 0, 0, 0, 0, 0],\n",
       " [0, 0, 0, 0, 0, 0, 0, 0, 0, 0],\n",
       " [0, 0, 0, 0, 0, 0, 0, 0, 0, 0],\n",
       " [0, 0, 0, 0, 0, 0, 0, 0, 0, 0],\n",
       " [0, 0, 0, 0, 0, 0, 0, 0, 0, 0],\n",
       " [0, 0, 0, 0, 0, 0, 0, 0, 0, 0],\n",
       " [0, 0, 0, 0, 0, 0, 0, 0, 0, 0],\n",
       " [0, 0, 0, 0, 0, 0, 0, 0, 0, 0]]"
      ]
     },
     "execution_count": 27,
     "metadata": {},
     "output_type": "execute_result"
    }
   ],
   "source": [
    "my_list = [x[:] for x in [[0]*10]*10]\n",
    "my_list"
   ]
  },
  {
   "cell_type": "code",
   "execution_count": 31,
   "metadata": {},
   "outputs": [
    {
     "data": {
      "text/plain": [
       "[[0, 0, 0, 0, 0, 0, 0, 0, 0, 0],\n",
       " [0, 0, 0, 1, 0, 0, 0, 0, 0, 0],\n",
       " [0, 0, 0, 0, 0, 0, 0, 0, 0, 0],\n",
       " [0, 0, 0, 0, 0, 0, 0, 0, 0, 0],\n",
       " [0, 0, 0, 0, 0, 0, 0, 0, 0, 0],\n",
       " [0, 0, 0, 0, 0, 0, 0, 0, 0, 0],\n",
       " [0, 0, 0, 0, 0, 0, 0, 0, 0, 0],\n",
       " [0, 0, 0, 0, 0, 0, 0, 0, 0, 0],\n",
       " [0, 0, 0, 0, 0, 0, 0, 0, 0, 0],\n",
       " [0, 0, 0, 0, 0, 0, 0, 0, 0, 0]]"
      ]
     },
     "execution_count": 31,
     "metadata": {},
     "output_type": "execute_result"
    }
   ],
   "source": [
    "my_list =[[0 for i in range(10)] for y in range(10)]\n",
    "my_list[1][3]=1\n",
    "my_list"
   ]
  }
 ],
 "metadata": {
  "kernelspec": {
   "display_name": "Python 3",
   "language": "python",
   "name": "python3"
  },
  "language_info": {
   "codemirror_mode": {
    "name": "ipython",
    "version": 3
   },
   "file_extension": ".py",
   "mimetype": "text/x-python",
   "name": "python",
   "nbconvert_exporter": "python",
   "pygments_lexer": "ipython3",
   "version": "3.6.2"
  }
 },
 "nbformat": 4,
 "nbformat_minor": 2
}
