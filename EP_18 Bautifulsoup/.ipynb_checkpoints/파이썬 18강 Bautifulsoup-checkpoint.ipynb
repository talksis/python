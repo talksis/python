{
 "cells": [
  {
   "cell_type": "markdown",
   "metadata": {},
   "source": [
    "# 웹에서 크롤링을 해봅시다.\n",
    "\n",
    "웹에는 다양한 정보들이 있습니다. 그 데이터를 우리에게 맞게 가공해 봅시다.\n",
    "몇가지 패키지가 필요합니다.\n",
    "\n",
    "\n",
    "urllib\n",
    "bs4\n",
    "입니다.pip 를 통해 다운로드 합시다."
   ]
  },
  {
   "cell_type": "code",
   "execution_count": 115,
   "metadata": {},
   "outputs": [
    {
     "name": "stdout",
     "output_type": "stream",
     "text": [
      "<li class=\"cnolunch\">등록된 식단이 없습니다.</li>\n",
      "<li class=\"cb\"><!-- --></li>\n",
      "['등록된']\n"
     ]
    }
   ],
   "source": [
    "from bs4 import BeautifulSoup\n",
    "import urllib\n",
    "import re\n",
    "import datetime\n",
    "req =urllib.request.urlopen('http://www.jp-e.es.kr') \n",
    "source = req.read()\n",
    "req.close()\n",
    "soup=BeautifulSoup(source,\"html5lib\")\n",
    "lunch =soup.find(\"ul\",{\"class\":\"clunch\"})\n",
    "lunch=lunch.findAll(\"li\")\n",
    "for i in lunch:\n",
    "    print(i)\n",
    "today_lunch= [i.get_text().split(\" \")[0] for i in lunch] \n",
    "today_lunch.pop(len(today_lunch)-1)\n",
    "print(today_lunch)\n"
   ]
  },
  {
   "cell_type": "code",
   "execution_count": 116,
   "metadata": {},
   "outputs": [],
   "source": [
    "req = urllib.request.urlopen('http://jp-e.es.kr/index.jsp?SCODE=S0000000796&mnu=M001002004005')\n",
    "source = req.read() #url을 열었을 때의 정보를 source에 읽는다.\n",
    "req.close()"
   ]
  },
  {
   "cell_type": "code",
   "execution_count": 117,
   "metadata": {},
   "outputs": [],
   "source": [
    "soup = BeautifulSoup(source,\"html5lib\")#Beautifulsoup을 통해 찾기 쉽도록 객체 생성"
   ]
  },
  {
   "cell_type": "code",
   "execution_count": 133,
   "metadata": {},
   "outputs": [
    {
     "name": "stdout",
     "output_type": "stream",
     "text": [
      "2017-11-11\n"
     ]
    },
    {
     "data": {
      "text/plain": [
       "['현미찹쌀밥', '무어묵국', '쫄면무침', '임연수구이', '배추김치', '친환경', '배', '발효유(ml)']"
      ]
     },
     "execution_count": 133,
     "metadata": {},
     "output_type": "execute_result"
    }
   ],
   "source": [
    "lunch_table = soup.find('tbody')\n",
    "lunchs = lunch_table.findAll(\"td\")\n",
    "lunch_month={}\n",
    "for i in lunchs:\n",
    "    if i.attrs:\n",
    "        real_lunch=i.find('div')\n",
    "        if real_lunch:\n",
    "            l =  re.sub(r'[0-9]*','',real_lunch.get_text().replace(\"\\n\",\"\").replace(\".\",\"\").replace(\"/\",\"\")).split(\" \")\n",
    "            l = [ x for x in l if len(x)>0]\n",
    "            key=i['id'].replace('K',\"\")\n",
    "            lunch_month[int(key)]=l\n",
    "t = datetime.date.today()\n",
    "print(t)\n",
    "lunch_month[t.day-1]"
   ]
  },
  {
   "cell_type": "code",
   "execution_count": 104,
   "metadata": {},
   "outputs": [
    {
     "ename": "TypeError",
     "evalue": "Required argument 'year' (pos 1) not found",
     "output_type": "error",
     "traceback": [
      "\u001b[1;31m---------------------------------------------------------------------------\u001b[0m",
      "\u001b[1;31mTypeError\u001b[0m                                 Traceback (most recent call last)",
      "\u001b[1;32m<ipython-input-104-2c1a9ab1957a>\u001b[0m in \u001b[0;36m<module>\u001b[1;34m()\u001b[0m\n\u001b[1;32m----> 1\u001b[1;33m \u001b[0mprint\u001b[0m\u001b[1;33m(\u001b[0m\u001b[0mdatetime\u001b[0m\u001b[1;33m.\u001b[0m\u001b[0mdate\u001b[0m\u001b[1;33m(\u001b[0m\u001b[1;33m)\u001b[0m\u001b[1;33m)\u001b[0m\u001b[1;33m\u001b[0m\u001b[0m\n\u001b[0m",
      "\u001b[1;31mTypeError\u001b[0m: Required argument 'year' (pos 1) not found"
     ]
    }
   ],
   "source": []
  }
 ],
 "metadata": {
  "kernelspec": {
   "display_name": "Python 3",
   "language": "python",
   "name": "python3"
  },
  "language_info": {
   "codemirror_mode": {
    "name": "ipython",
    "version": 3
   },
   "file_extension": ".py",
   "mimetype": "text/x-python",
   "name": "python",
   "nbconvert_exporter": "python",
   "pygments_lexer": "ipython3",
   "version": "3.6.2"
  }
 },
 "nbformat": 4,
 "nbformat_minor": 2
}
