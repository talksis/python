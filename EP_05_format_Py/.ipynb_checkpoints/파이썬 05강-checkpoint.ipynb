{
 "cells": [
  {
   "cell_type": "markdown",
   "metadata": {},
   "source": [
    "# py스크립트 작성과 실행\n",
    "파이썬은 스크립트를 작성하여 인터프리터를 통해 실행합니다. 따라서 우리가 지금까지 배웠던 대화형 쉘이 아닌 py 스크립트를 작성하여 첫번째 프로그램을 완성시켜 봅시다.\n",
    "\n",
    "## 도전문제\n",
    "### 나의 성적은\n",
    "나의 이름을 입력받고 각 과목의 점수를 입력받은 후에 총점과 평균을 출력하는 프로그램을 작성하시오\n",
    "\n",
    "1. 나의 이름을 입력받는다.\n",
    "2. 4개의 과목(국어, 수학, 영어, 소프트웨어)의 점수를 입력받는다. \n",
    "3. 총점과 평균을 구해 출력한다. 출력형식은 다음과 같다.  \n",
    "000 성적표  \n",
    "국어 : 000  \n",
    "수학 : 000  \n",
    "영어 : 000  \n",
    "소프트웨어 : 000   \n",
    "총점 : 000  \n",
    "평균 : 000  \n"
   ]
  },
  {
   "cell_type": "code",
   "execution_count": 11,
   "metadata": {},
   "outputs": [
    {
     "name": "stdout",
     "output_type": "stream",
     "text": [
      "당신의 이름은?30\n",
      "국어20\n",
      "수학30\n",
      "영어40\n",
      "소프트웨어50\n",
      "\n",
      "\n",
      "\n",
      " 30 성적표\n",
      "--------------------\n",
      "국어 : 20\n",
      "수학 : 30\n",
      "영어 : 40\n",
      "소프트웨어 : 50\n",
      "총점:  140\n",
      "평균:  102.5\n"
     ]
    }
   ],
   "source": [
    "name = input('당신의 이름은?')\n",
    "korean_score = int(input(\"국어\"))\n",
    "math_score = int(input(\"수학\"))\n",
    "eng_score = int(input(\"영어\"))\n",
    "soft_score= int(input(\"소프트웨어\"))\n",
    "print('\\n\\n\\n',name,'성적표')\n",
    "print('-'*20)\n",
    "print('국어 :',korean_score)\n",
    "print('수학 :',math_score)\n",
    "print('영어 :',eng_score)\n",
    "print('소프트웨어 :',soft_score)\n",
    "print('총점: ',korean_score+math_score+eng_score+soft_score)\n",
    "print('평균: ',korean_score+math_score+eng_score+soft_score/4)\n",
    "\n"
   ]
  },
  {
   "cell_type": "markdown",
   "metadata": {},
   "source": [
    "\n",
    "####  format 심화\n",
    "\n",
    "문자열을 다루다보면 우리가 출력하고 싶은 정보를 출력하기에 번거로운 부분이 있을 수 있습니다. 이를 위해서 + 기호를 사용하고 end 의 값을 변경할 수 있지만,\n",
    "문자열 자체를 우리가 원하는 문자열로 바꾸어 출력하는 방법도 생각해 볼 수 있습니다. 이를 위해서 문자열 메소드 중 format 메소드가 존재합니다.abs\n",
    "\n",
    "**str.format(*args, **kwargs)**\n",
    "<https://docs.python.org/3/library/stdtypes.html#str.format>\n",
    "format 메소드에서도 *과 **이 존재하는데 이 부분에 대해서는 함수 관련 강좌에서 자세히 설명하도록 하고 이번 시간에는 format을 사용하여 문자열을 쉽게 고쳐보도록 합시다.\n",
    "\n",
    "### format 사용 - 위치를 활용한 방법\n",
    "문자열 메소드인 format을 사용하면, 우리가 지정한 출력 위치에 우리가 원하는 값을 출력할 수 있게 됩니다. 다음의 예제를 통해 기본적인 사용법을 알아 봅시다."
   ]
  },
  {
   "cell_type": "code",
   "execution_count": 12,
   "metadata": {},
   "outputs": [
    {
     "name": "stdout",
     "output_type": "stream",
     "text": [
      "a, b, c\n",
      "a, b, c\n",
      "c, b, a\n",
      "c, b, a\n",
      "abracadabra\n"
     ]
    }
   ],
   "source": [
    "print('{0}, {1}, {2}'.format('a', 'b', 'c')) #출력값 a, b, c\n",
    "print('{}, {}, {}'.format('a', 'b', 'c')) #출력값 a, b, c\n",
    "print('{2}, {1}, {0}'.format('a', 'b', 'c')) #출력값 c, b, a\n",
    "print('{2}, {1}, {0}'.format(*'abc')) #출력값 c, b, a\n",
    "print('{0}{1}{0}'.format('abra','cad')) #출력값 abracadabra"
   ]
  },
  {
   "cell_type": "markdown",
   "metadata": {},
   "source": [
    "### 이름을 활용한 방법\n",
    "위치를 지정하는 것 뿐만 아니라, 이름을 지정하여 출력하는 것 역시 가능합니다. 또한, format의 함수의 경우에는 정수형 값 역시 문자열의 형태로 자동으로 변환되어 출력하는 것을 확인하세요.\n"
   ]
  },
  {
   "cell_type": "code",
   "execution_count": 14,
   "metadata": {},
   "outputs": [
    {
     "name": "stdout",
     "output_type": "stream",
     "text": [
      "당신의 이름은 박성준 입니다. 당신의 점수는 69 입니다.\n"
     ]
    }
   ],
   "source": [
    "form = str()\n",
    "print('당신의 이름은 {user_name} 입니다. 당신의 점수는 {total_score} 입니다.'.format(user_name=\"박성준\",total_score=69))"
   ]
  },
  {
   "cell_type": "code",
   "execution_count": 15,
   "metadata": {},
   "outputs": [
    {
     "name": "stdout",
     "output_type": "stream",
     "text": [
      "당신의 이름은 박성준 입니다. 당신의 점수는 69 입니다.\n"
     ]
    }
   ],
   "source": [
    "form ='당신의 이름은 {user_name} 입니다. 당신의 점수는 {total_score} 입니다.' \n",
    "print(form.format(user_name=\"박성준\",total_score=69))"
   ]
  },
  {
   "cell_type": "markdown",
   "metadata": {},
   "source": [
    "format 정렬 및 공간\n",
    "출력을 하는 경우 위치를 지정하여 출력하는 경우가 있습니다. 이러한 경우에는 **{:}** 기호를 사용하여 위치를 조정할 수 있으며, 공백으로 놔둘지 특별한 문자로 채울지를 결정할 수 있습니다."
   ]
  },
  {
   "cell_type": "code",
   "execution_count": 16,
   "metadata": {},
   "outputs": [
    {
     "name": "stdout",
     "output_type": "stream",
     "text": [
      "좌측 정렬                         \n",
      "                         우측 정렬\n",
      "            가운데 정렬            \n",
      "************가운데 정렬************\n"
     ]
    }
   ],
   "source": [
    "print( '{:<30}'.format('좌측 정렬'))\n",
    "print( '{:>30}'.format('우측 정렬'))\n",
    "print( '{:^30}'.format('가운데 정렬'))\n",
    "print( '{:*^30}'.format('가운데 정렬'))"
   ]
  },
  {
   "cell_type": "markdown",
   "metadata": {},
   "source": [
    "### format 실수 출력\n",
    "실수를 출력하는 방법에는 양수, 음수의 표현을 하는가에 따라 다르게 됩니다. 만약 + 기호를 붙이는 경우에는 양수 음수의 부호를 출력하게 됩니다. 그런데 일반적인 경우에는 양수는 부호를 생략합니다. 따라서 -f 혹은 그냥 f로 쓰게 되면 양수는 생략 음수는 - 부호와 함께 출력됩니다. 하지만 부호가 없는 양수의 경우 정렬이 흐트러 지는 경우가 있습니다. 즉 + 자리에 공백으로 채워야 할 경우에는 공백과 함께 f를 써주면 됩니다."
   ]
  },
  {
   "cell_type": "code",
   "execution_count": 38,
   "metadata": {},
   "outputs": [
    {
     "name": "stdout",
     "output_type": "stream",
     "text": [
      "+00000312312.11 -3.11\n",
      " 3.140000 -3.140000\n",
      "3.140000 -3.140000\n"
     ]
    }
   ],
   "source": [
    "print('{:+015.2f} {:+03.2f}'.format(312312.112314, -3.113212314))\n",
    "print('{: f} {: f}'.format(3.14, -3.14))\n",
    "print('{:-f} {:-f}'.format(3.14, -3.14))"
   ]
  },
  {
   "cell_type": "markdown",
   "metadata": {},
   "source": [
    "### format 다양한 진법에 따른 출력\n",
    "우리는 10진수를 사용하지만 다양한 진법에 따라서 프로그래밍 하는 경우가 있습니다. 이러한 경우 기호를 써주게 되는데 d는 decimal, x는 Hexdecimal, o는 Octal, b는 Binary 의 약자가 됩니다. 출력시에 이 표현 방법이 어떤 진법에 따라서 사용되었는지는 #기호를 같이 써주면 됩니다. "
   ]
  },
  {
   "cell_type": "code",
   "execution_count": 19,
   "metadata": {},
   "outputs": [
    {
     "name": "stdout",
     "output_type": "stream",
     "text": [
      "int: 42;  hex: 2a;  oct: 52;  bin: 101010\n",
      "int: 42;  hex: 0x2a;  oct: 0o52;  bin: 0b101010\n"
     ]
    }
   ],
   "source": [
    "print(\"int: {0:d};  hex: {0:x};  oct: {0:o};  bin: {0:b}\".format(42))\n",
    "print(\"int: {0:#d};  hex: {0:#x};  oct: {0:#o};  bin: {0:#b}\".format(42))"
   ]
  },
  {
   "cell_type": "markdown",
   "metadata": {},
   "source": [
    "### format 3자리씩 , 찍기\n",
    "일반적으로 수의 자리수를 표현하기 위해서 3자리마다 , 기호를 통해서 구분합니다. "
   ]
  },
  {
   "cell_type": "code",
   "execution_count": 20,
   "metadata": {},
   "outputs": [
    {
     "name": "stdout",
     "output_type": "stream",
     "text": [
      "1,234,567,890\n"
     ]
    }
   ],
   "source": [
    "print( '{:,}'.format(1234567890) )"
   ]
  },
  {
   "cell_type": "markdown",
   "metadata": {},
   "source": [
    "### format 퍼센트로 표현하기\n",
    "%값을 쉽게 표현할 수 있는 방법도 있습니다."
   ]
  },
  {
   "cell_type": "code",
   "execution_count": 21,
   "metadata": {},
   "outputs": [
    {
     "name": "stdout",
     "output_type": "stream",
     "text": [
      "86.36%\n"
     ]
    }
   ],
   "source": [
    "print('{:.2%}'.format(19/22))"
   ]
  },
  {
   "cell_type": "code",
   "execution_count": 49,
   "metadata": {},
   "outputs": [
    {
     "name": "stdout",
     "output_type": "stream",
     "text": [
      "당신의 이름은?20\n",
      "국어30\n",
      "수학40\n",
      "영어50\n",
      "소프트웨어60\n",
      "\n",
      "\n",
      "\n",
      " 20 성적표\n",
      "--------------------\n",
      "***국어*** :  30\n",
      "***수학*** :  40\n",
      "***영어*** :  50\n",
      "소프트웨어 :  60\n",
      "총점:  180\n",
      "평균:  135.0\n"
     ]
    }
   ],
   "source": [
    "name = input('당신의 이름은?')\n",
    "korean_score = int(input(\"국어\"))\n",
    "math_score = int(input(\"수학\"))\n",
    "eng_score = int(input(\"영어\"))\n",
    "soft_score= int(input(\"소프트웨어\"))\n",
    "print('\\n\\n\\n',name,'성적표')\n",
    "print('-'*20)\n",
    "temp = '{:*^8} : {:3}'\n",
    "print(temp.format('국어',korean_score))\n",
    "print(temp.format('수학',math_score))\n",
    "print(temp.format('영어',eng_score))\n",
    "print('{} : {:3}'.format('소프트웨어',soft_score))\n",
    "print('총점: ',korean_score+math_score+eng_score+soft_score)\n",
    "print('평균: ',korean_score+math_score+eng_score+soft_score/4)"
   ]
  },
  {
   "cell_type": "code",
   "execution_count": null,
   "metadata": {},
   "outputs": [],
   "source": []
  }
 ],
 "metadata": {
  "kernelspec": {
   "display_name": "Python 3",
   "language": "python",
   "name": "python3"
  },
  "language_info": {
   "codemirror_mode": {
    "name": "ipython",
    "version": 3
   },
   "file_extension": ".py",
   "mimetype": "text/x-python",
   "name": "python",
   "nbconvert_exporter": "python",
   "pygments_lexer": "ipython3",
   "version": "3.6.2"
  }
 },
 "nbformat": 4,
 "nbformat_minor": 2
}
