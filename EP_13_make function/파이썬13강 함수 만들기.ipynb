{
 "cells": [
  {
   "cell_type": "markdown",
   "metadata": {},
   "source": [
    "# function  만들기\n",
    "\n",
    "지금까지는 function을 사용하기만 했습니다. 이번에는 function을 직접 만들어 사용하는 방법에 대해서 다루어 보겠습니다. 함수의 선언은 def 키워드가 필요합니다. def 키워드와 함께 함수의 이름을 선언해야 합니다. 일반적으로 케밥케이스를 통해서 이름을 생성합니다.\n",
    "\n"
   ]
  },
  {
   "cell_type": "markdown",
   "metadata": {},
   "source": [
    "## 1. function 정의하기\n",
    "\n",
    "```python3\n",
    "def 함수이름():#정의\n",
    "    pass\n",
    "함수이름()#사용\n",
    "```\n"
   ]
  },
  {
   "cell_type": "code",
   "execution_count": 2,
   "metadata": {},
   "outputs": [
    {
     "name": "stdout",
     "output_type": "stream",
     "text": [
      "None\n"
     ]
    }
   ],
   "source": [
    "def hello_func():\n",
    "    pass\n",
    "print(hello_func())"
   ]
  },
  {
   "cell_type": "code",
   "execution_count": 3,
   "metadata": {},
   "outputs": [
    {
     "name": "stdout",
     "output_type": "stream",
     "text": [
      "안녕하세요! 여기는 함수입니다!\n"
     ]
    }
   ],
   "source": [
    "def hello_func():\n",
    "    print('안녕하세요! 여기는 함수입니다!')\n",
    "hello_func()"
   ]
  },
  {
   "cell_type": "markdown",
   "metadata": {},
   "source": [
    "## 2. 함수의 반환\n",
    "함수는 값을 반환할 수 있다. 그 값은 return 키워드를 통해 반환한다. \n"
   ]
  },
  {
   "cell_type": "code",
   "execution_count": 7,
   "metadata": {},
   "outputs": [
    {
     "name": "stdout",
     "output_type": "stream",
     "text": [
      "RETURN VALUE\n",
      "RETURN VALUE\n"
     ]
    }
   ],
   "source": [
    "def return_func():\n",
    "    return 'return value'\n",
    "\n",
    "return_string = return_func()\n",
    "print(return_string.upper())\n",
    "print(return_func().upper())"
   ]
  },
  {
   "cell_type": "code",
   "execution_count": 4,
   "metadata": {},
   "outputs": [
    {
     "name": "stdout",
     "output_type": "stream",
     "text": [
      "None\n"
     ]
    }
   ],
   "source": [
    "def return_func():\n",
    "    for i in range(10):\n",
    "        if i==5:\n",
    "            return\n",
    "    return 10\n",
    "value = return_func()\n",
    "print(value)\n"
   ]
  },
  {
   "cell_type": "code",
   "execution_count": 12,
   "metadata": {},
   "outputs": [
    {
     "name": "stdout",
     "output_type": "stream",
     "text": [
      "10 20 30 40\n",
      "(10, 20, 30, 40)\n"
     ]
    }
   ],
   "source": [
    "def return_function():\n",
    "    return 10, 20, 30, 40\n",
    "a,b,c,d= return_function()\n",
    "value = return_function()\n",
    "print(a,b,c,d)\n",
    "print(value)"
   ]
  },
  {
   "cell_type": "markdown",
   "metadata": {},
   "source": [
    "## 3. 함수의 입력\n"
   ]
  },
  {
   "cell_type": "code",
   "execution_count": null,
   "metadata": {},
   "outputs": [],
   "source": []
  },
  {
   "cell_type": "code",
   "execution_count": 11,
   "metadata": {},
   "outputs": [
    {
     "name": "stdout",
     "output_type": "stream",
     "text": [
      "성준님 안녕하세요!\n"
     ]
    }
   ],
   "source": [
    "#함수에는 인자를 넣을 수 도 있습니다.\n",
    "\n",
    "def hello_func(gretting):\n",
    "    return '{}님 안녕하세요!'.format(gretting)\n",
    "print(hello_func('성준'))"
   ]
  },
  {
   "cell_type": "code",
   "execution_count": 20,
   "metadata": {},
   "outputs": [
    {
     "name": "stdout",
     "output_type": "stream",
     "text": [
      "hi gray \n",
      "hi gray1 \n"
     ]
    }
   ],
   "source": [
    "#2개의 인자를 넣는 경우\n",
    "def hello_func(greeting, name):\n",
    "    return '{} {} '.format(greeting,name)\n",
    "#print(hello_func('hi'))\n",
    "print(hello_func('hi','gray'))\n",
    "print(hello_func('hi',name='gray1'))\n",
    "#print(hello_func('hi','gray2','gray3'))\n"
   ]
  },
  {
   "cell_type": "code",
   "execution_count": 21,
   "metadata": {},
   "outputs": [
    {
     "name": "stdout",
     "output_type": "stream",
     "text": [
      "30\n"
     ]
    }
   ],
   "source": [
    "def sum_func(a, b):\n",
    "    return a+b\n",
    "print(sum_func(10,20))"
   ]
  },
  {
   "cell_type": "code",
   "execution_count": 17,
   "metadata": {},
   "outputs": [
    {
     "name": "stdout",
     "output_type": "stream",
     "text": [
      "hello You 15\n",
      "hello You 30\n"
     ]
    }
   ],
   "source": [
    "def hello_func(greeting, name='You', age=15):\n",
    "    return '{} {} {}'.format(greeting, name, age)\n",
    "print(hello_func('hello'))\n",
    "print(hello_func('hello',age=30))"
   ]
  },
  {
   "cell_type": "code",
   "execution_count": 3,
   "metadata": {},
   "outputs": [
    {
     "ename": "TypeError",
     "evalue": "type() takes 1 or 3 arguments",
     "output_type": "error",
     "traceback": [
      "\u001b[1;31m---------------------------------------------------------------------------\u001b[0m",
      "\u001b[1;31mTypeError\u001b[0m                                 Traceback (most recent call last)",
      "\u001b[1;32m<ipython-input-3-40357f0009f2>\u001b[0m in \u001b[0;36m<module>\u001b[1;34m()\u001b[0m\n\u001b[0;32m      1\u001b[0m \u001b[0mlists\u001b[0m \u001b[1;33m=\u001b[0m \u001b[1;33m[\u001b[0m\u001b[1;36m1\u001b[0m\u001b[1;33m,\u001b[0m\u001b[1;36m2\u001b[0m\u001b[1;33m,\u001b[0m\u001b[1;36m3\u001b[0m\u001b[1;33m,\u001b[0m\u001b[1;36m4\u001b[0m\u001b[1;33m,\u001b[0m\u001b[1;36m5\u001b[0m\u001b[1;33m]\u001b[0m\u001b[1;33m\u001b[0m\u001b[0m\n\u001b[1;32m----> 2\u001b[1;33m \u001b[0mtype\u001b[0m\u001b[1;33m(\u001b[0m\u001b[1;33m*\u001b[0m\u001b[0mlists\u001b[0m\u001b[1;33m)\u001b[0m\u001b[1;33m\u001b[0m\u001b[0m\n\u001b[0m",
      "\u001b[1;31mTypeError\u001b[0m: type() takes 1 or 3 arguments"
     ]
    }
   ],
   "source": [
    "lists = [1,2,3,4,5]"
   ]
  },
  {
   "cell_type": "code",
   "execution_count": 22,
   "metadata": {},
   "outputs": [
    {
     "name": "stdout",
     "output_type": "stream",
     "text": [
      "name age\n"
     ]
    }
   ],
   "source": [
    "my_dic = {'name':'gray','age':30}\n",
    "print(*my_dic)"
   ]
  },
  {
   "cell_type": "code",
   "execution_count": 26,
   "metadata": {},
   "outputs": [
    {
     "name": "stdout",
     "output_type": "stream",
     "text": [
      "50\n",
      "55\n"
     ]
    }
   ],
   "source": [
    "def hello_func(*args):\n",
    "    sum =0\n",
    "    for i in args:\n",
    "        sum+=i\n",
    "    return sum\n",
    "print(hello_func(10,10,10,10,10))\n",
    "print(hello_func(1,2,3,4,5,6,7,8,9,10))"
   ]
  },
  {
   "cell_type": "code",
   "execution_count": 28,
   "metadata": {},
   "outputs": [
    {
     "name": "stdout",
     "output_type": "stream",
     "text": [
      "['a', 'b', 'c', 'd', 'f']\n",
      "15\n"
     ]
    }
   ],
   "source": [
    "def hello_func(**kwargs):\n",
    "    sums = 0\n",
    "    lists = []\n",
    "    for item,value in kwargs.items():\n",
    "        sums += value\n",
    "        lists+=[item]\n",
    "    return lists,sums\n",
    "return_lists, return_sums = hello_func(a=1,b=2,c=3,d=4,f=5)\n",
    "print(return_lists)\n",
    "print(return_sums)"
   ]
  },
  {
   "cell_type": "code",
   "execution_count": 19,
   "metadata": {},
   "outputs": [
    {
     "name": "stdout",
     "output_type": "stream",
     "text": [
      "(1, 2, 3, 4, 5, 6, 7, 8)\n",
      "{'a': 1, 'b': 2, 'c': 3}\n"
     ]
    }
   ],
   "source": [
    "def hello_func(*args, **kwargs):\n",
    "    print(args)\n",
    "    print(kwargs)\n",
    "hello_func(1,2,3,4,5,6,7,8, a=1,b=2,c=3)"
   ]
  },
  {
   "cell_type": "code",
   "execution_count": 30,
   "metadata": {},
   "outputs": [
    {
     "name": "stdout",
     "output_type": "stream",
     "text": [
      "args (1, 2, 3, 4, 5)\n",
      "kwargs {'key1': 1, 'key2': 2}\n"
     ]
    }
   ],
   "source": [
    "def hello_func(*args, **kwargs):\n",
    "    print('args',args)\n",
    "    print('kwargs', kwargs)\n",
    "my_list = [1,2,3,4,5]\n",
    "my_dic = dict(key1=1,key2=2)\n",
    "hello_func(*my_list, **my_dic)"
   ]
  },
  {
   "cell_type": "code",
   "execution_count": 32,
   "metadata": {},
   "outputs": [
    {
     "name": "stdout",
     "output_type": "stream",
     "text": [
      "10\n",
      "args (20, 1, 2, 3, 4, 5)\n",
      "kwargs {'key1': 1, 'key2': 2}\n"
     ]
    }
   ],
   "source": [
    "def hello_func(a,*args, **kwargs):\n",
    "    print(a)\n",
    "    print('args',args)\n",
    "    print('kwargs', kwargs)\n",
    "my_list = [1,2,3,4,5]\n",
    "my_dic = dict(key1=1,key2=2)\n",
    "hello_func(10,20,*my_list, **my_dic)"
   ]
  },
  {
   "cell_type": "code",
   "execution_count": null,
   "metadata": {},
   "outputs": [],
   "source": []
  }
 ],
 "metadata": {
  "kernelspec": {
   "display_name": "Python 3",
   "language": "python",
   "name": "python3"
  },
  "language_info": {
   "codemirror_mode": {
    "name": "ipython",
    "version": 3
   },
   "file_extension": ".py",
   "mimetype": "text/x-python",
   "name": "python",
   "nbconvert_exporter": "python",
   "pygments_lexer": "ipython3",
   "version": "3.6.2"
  }
 },
 "nbformat": 4,
 "nbformat_minor": 2
}
