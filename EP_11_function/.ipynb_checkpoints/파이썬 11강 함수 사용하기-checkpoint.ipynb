{
 "cells": [
  {
   "cell_type": "markdown",
   "metadata": {},
   "source": [
    "# 함수사용하기\n",
    "우리는 지금까지 함수를 사용했습니다. 콘솔에 문자를 출력하기 위해서 print 함수를 사용했죠. 그리고 int float str들과 같은 타입을 위한 함수들 역시도 사용했습니다.   \n",
    "\n",
    "파이썬에는 더 많은 함수들을 가지고 있으며, 프로그래밍에 유용하게 사용할 수 있습니다. \n",
    "\n"
   ]
  },
  {
   "cell_type": "markdown",
   "metadata": {},
   "source": [
    "## 1.내장 함수\n",
    "파이썬에는 필수적으로 포함되어야 함수들이 있습니다. 이 함수들의 위치는 builtins에 있습니다. 먼저 dir 명령을 통하여 확인해 봅시다."
   ]
  },
  {
   "cell_type": "code",
   "execution_count": null,
   "metadata": {},
   "outputs": [],
   "source": [
    "dir()"
   ]
  },
  {
   "cell_type": "code",
   "execution_count": null,
   "metadata": {},
   "outputs": [],
   "source": [
    "dir(__builtins__)"
   ]
  },
  {
   "cell_type": "markdown",
   "metadata": {},
   "source": [
    "builtins의 함수들을 찾아보면 우리가 사용했던 많은 함수들이 있는 것을 확인할 수 있습니다. 그런데 ___builtins___   는 앞에 쓰지 않고 사용할 수 있는걸까요? 한번 전체 이름을 다 써서 사용해 봅시다.\n",
    "\n"
   ]
  },
  {
   "cell_type": "code",
   "execution_count": null,
   "metadata": {},
   "outputs": [],
   "source": [
    "print('hi!')\n",
    "__builtins__.print('hi!')"
   ]
  },
  {
   "cell_type": "code",
   "execution_count": null,
   "metadata": {},
   "outputs": [],
   "source": [
    "print"
   ]
  },
  {
   "cell_type": "code",
   "execution_count": null,
   "metadata": {},
   "outputs": [],
   "source": [
    "__builtins__.print"
   ]
  },
  {
   "cell_type": "code",
   "execution_count": null,
   "metadata": {},
   "outputs": [],
   "source": [
    "print( id(print) )\n",
    "print( id(__builtins__.print) )"
   ]
  },
  {
   "cell_type": "markdown",
   "metadata": {},
   "source": [
    "print의 id 값과 builtins 안의 print 메소드의 id 값이 서로 같은 것을 확인할 수 있습니다. 따라서 둘은 같은 주소에 위치한 같은 함수입니다. 즉, builtins에 포함된 함수들은 python에서 미리 불러 놓는 함수들의 묶음이 됩니다. 이러한 함수들은 여러 종류가 있습니다. 따라서 이러한 함수들의 사용방법을 알아야만 합니다. 사용방법을 알기 위해서는 help 함수를 사용합니다. help 함수와 함께 함수명을 입력하면 함수의 사용법을 알려줍니다."
   ]
  },
  {
   "cell_type": "code",
   "execution_count": null,
   "metadata": {},
   "outputs": [],
   "source": [
    "help(print)"
   ]
  },
  {
   "cell_type": "code",
   "execution_count": null,
   "metadata": {},
   "outputs": [],
   "source": [
    "print('hahahahha',file=open('input.txt','w'))"
   ]
  },
  {
   "cell_type": "markdown",
   "metadata": {},
   "source": [
    "## 2. 모듈과 함수\n",
    "\n",
    "모듈은 함수들의 집합이라고 생각할 수 있습니다. 함수들의 모음이지요. 일반적인 함수들은 python의 구동에서 포함되지만, 그 이외의 함수들은 사용자가 직접 모듈, 혹은 함수를 불러와야 사용할 수 있습니다. \n",
    "\n",
    "```python3\n",
    "import 모듈\n",
    "from 모듈 import 함수명\n",
    "```\n",
    "위와 같은 형식으로 모듈을 불러오거나 함수명을 불러올 수 있습니다. 만약 모듈을 불러오는 경우에는 모듈명을 명시하고 함수를 불러와야 합니다. 또한 이렇게 불러오는 경우에는 모듈안에 모든 함수들이 python에 포함되게 됩니다. 이와는 다르게 from  모듈 import 함수명을 사용하면 모듈안에 있는 특정 함수를 불러오게 됩니다. 따라서 이 경우에는 함수명만 명시하여 사용할 수 있습니다. "
   ]
  },
  {
   "cell_type": "code",
   "execution_count": null,
   "metadata": {},
   "outputs": [],
   "source": [
    "import time\n",
    "time.clock()"
   ]
  },
  {
   "cell_type": "code",
   "execution_count": null,
   "metadata": {},
   "outputs": [],
   "source": [
    "clock()"
   ]
  },
  {
   "cell_type": "code",
   "execution_count": null,
   "metadata": {},
   "outputs": [],
   "source": [
    "dir(time)"
   ]
  },
  {
   "cell_type": "code",
   "execution_count": null,
   "metadata": {},
   "outputs": [],
   "source": [
    "time.time()"
   ]
  },
  {
   "cell_type": "code",
   "execution_count": null,
   "metadata": {},
   "outputs": [],
   "source": [
    "import time\n",
    "sum = 0\n",
    "for i in range(100000000):\n",
    "    sum += i\n",
    "print(time.process_time())"
   ]
  },
  {
   "cell_type": "code",
   "execution_count": null,
   "metadata": {},
   "outputs": [],
   "source": [
    "from time import sleep\n",
    "for count in range(10,-1,-1):\n",
    "    print(count)\n",
    "    sleep(1)"
   ]
  },
  {
   "cell_type": "code",
   "execution_count": null,
   "metadata": {},
   "outputs": [],
   "source": [
    "from random import randrange,seed\n",
    "seed(25)\n",
    "for i in range(100):\n",
    "    print(randrange(1,1001), end=' ')\n",
    "print()"
   ]
  },
  {
   "cell_type": "code",
   "execution_count": null,
   "metadata": {},
   "outputs": [],
   "source": [
    "from random import choice\n",
    "lists = [1,2,3,4,5,6,7,8,9,10]\n",
    "for i in range(10):\n",
    "    c= choice(lists)\n",
    "    print(c)\n",
    "    lists.remove(c)\n",
    "\n",
    "    "
   ]
  },
  {
   "cell_type": "code",
   "execution_count": null,
   "metadata": {},
   "outputs": [],
   "source": [
    "import datetime\n",
    "print( dir(datetime.datetime))\n",
    "\n",
    "now = datetime.datetime.now()\n",
    "print(now.timetuple())"
   ]
  },
  {
   "cell_type": "code",
   "execution_count": null,
   "metadata": {},
   "outputs": [],
   "source": [
    "help(datetime.datetime)"
   ]
  },
  {
   "cell_type": "markdown",
   "metadata": {},
   "source": [
    "\n",
    "##  3. 시스템을 위한 함수\n",
    "\n",
    "sys모듈은 시스템에 접근하기 위한 프로그램을 위한 함수들의 모음입니다. 그리고 특히 중요한 하나의 함수는 exit 입니다. 이 함수는 프로그램을 종료하기 위한 방법입니다. \n"
   ]
  },
  {
   "cell_type": "code",
   "execution_count": null,
   "metadata": {},
   "outputs": [],
   "source": [
    "import sys\n",
    "dir(sys)"
   ]
  },
  {
   "cell_type": "code",
   "execution_count": null,
   "metadata": {},
   "outputs": [],
   "source": [
    "sys.path"
   ]
  },
  {
   "cell_type": "code",
   "execution_count": null,
   "metadata": {},
   "outputs": [],
   "source": [
    "sys.getwindowsversion()\n",
    "sys.getfilesystemencoding()\n",
    "sys.platform"
   ]
  },
  {
   "cell_type": "code",
   "execution_count": null,
   "metadata": {},
   "outputs": [],
   "source": [
    "import time\n",
    "dir()\n",
    "type(time)"
   ]
  },
  {
   "cell_type": "code",
   "execution_count": null,
   "metadata": {},
   "outputs": [],
   "source": [
    "from time import clock\n",
    "dir()"
   ]
  },
  {
   "cell_type": "code",
   "execution_count": null,
   "metadata": {},
   "outputs": [],
   "source": [
    "import sys\n",
    "print(sys.platform)"
   ]
  },
  {
   "cell_type": "markdown",
   "metadata": {},
   "source": [
    "## 4. os를 위한 모듈\n",
    "os 모듈은 파일 폴더 작업을 위한 모듈입니다.  몇가지를 사용해 봅시가\n"
   ]
  },
  {
   "cell_type": "code",
   "execution_count": 1,
   "metadata": {},
   "outputs": [
    {
     "data": {
      "text/plain": [
       "'D:\\\\Dev\\\\pyWorks\\\\python\\\\python\\\\EP_11_function'"
      ]
     },
     "execution_count": 1,
     "metadata": {},
     "output_type": "execute_result"
    }
   ],
   "source": [
    "import os\n",
    "os.getcwd()"
   ]
  },
  {
   "cell_type": "code",
   "execution_count": null,
   "metadata": {},
   "outputs": [],
   "source": [
    "os.chdir('d:\\\\')\n",
    "os.getcwd()"
   ]
  },
  {
   "cell_type": "code",
   "execution_count": null,
   "metadata": {},
   "outputs": [],
   "source": [
    "os.listdir()\n",
    "#os.mkdir('pythonTest')\n",
    "os.makedirs(r'pythonTest\\test')"
   ]
  },
  {
   "cell_type": "code",
   "execution_count": null,
   "metadata": {},
   "outputs": [],
   "source": [
    "os.listdir()\n",
    "os.removedirs(r'pythonTest/pyT')\n",
    "os.listdir()"
   ]
  },
  {
   "cell_type": "code",
   "execution_count": null,
   "metadata": {},
   "outputs": [],
   "source": [
    "os.rename('pythonTest\\\\test','pythonTest\\\\pyT')\n",
    "os.listdir()\n"
   ]
  },
  {
   "cell_type": "code",
   "execution_count": null,
   "metadata": {},
   "outputs": [],
   "source": [
    "import datetime\n",
    "os.stat('test.py')#파일이 있어야함."
   ]
  },
  {
   "cell_type": "code",
   "execution_count": null,
   "metadata": {},
   "outputs": [],
   "source": [
    "help(os.stat_result.st_atime)\n",
    "help(os.stat_result.st_mtime)\n",
    "help(os.stat_result.st_ctime)\n",
    "datetime.datetime.fromtimestamp(os.stat('test.py').st_mtime).year"
   ]
  },
  {
   "cell_type": "code",
   "execution_count": 3,
   "metadata": {},
   "outputs": [
    {
     "name": "stdout",
     "output_type": "stream",
     "text": [
      "current path: d:\\c++\n",
      "dirs: ['setset']\n",
      "files: []\n",
      "current path: d:\\c++\\setset\n",
      "dirs: ['aa', 'tttt']\n",
      "files: []\n",
      "current path: d:\\c++\\setset\\aa\n",
      "dirs: ['bin', 'obj']\n",
      "files: ['aa.cbp', 'aa.layout', 'main.cpp']\n",
      "current path: d:\\c++\\setset\\aa\\bin\n",
      "dirs: ['Debug']\n",
      "files: []\n",
      "current path: d:\\c++\\setset\\aa\\bin\\Debug\n",
      "dirs: []\n",
      "files: ['aa.exe']\n",
      "current path: d:\\c++\\setset\\aa\\obj\n",
      "dirs: ['Debug']\n",
      "files: []\n",
      "current path: d:\\c++\\setset\\aa\\obj\\Debug\n",
      "dirs: []\n",
      "files: ['main.o']\n",
      "current path: d:\\c++\\setset\\tttt\n",
      "dirs: ['bin', 'obj']\n",
      "files: ['main.cpp', 'tttt.cbp', 'tttt.depend']\n",
      "current path: d:\\c++\\setset\\tttt\\bin\n",
      "dirs: ['Debug']\n",
      "files: []\n",
      "current path: d:\\c++\\setset\\tttt\\bin\\Debug\n",
      "dirs: []\n",
      "files: ['tttt.exe']\n",
      "current path: d:\\c++\\setset\\tttt\\obj\n",
      "dirs: ['Debug']\n",
      "files: []\n",
      "current path: d:\\c++\\setset\\tttt\\obj\\Debug\n",
      "dirs: []\n",
      "files: ['main.o']\n"
     ]
    }
   ],
   "source": [
    "for dirpath, dirnames, filenames in os.walk(r'd:\\c++'):\n",
    "    print('current path:',dirpath)\n",
    "    print('dirs:',dirnames)\n",
    "    print('files:',filenames)"
   ]
  },
  {
   "cell_type": "code",
   "execution_count": 7,
   "metadata": {},
   "outputs": [
    {
     "data": {
      "text/plain": [
       "'C:\\\\Program Files (x86)\\\\Common Files\\\\Intel\\\\Shared Libraries\\\\redist\\\\intel64\\\\compiler;C:\\\\Program Files (x86)\\\\NVIDIA Corporation\\\\PhysX\\\\Common;C:\\\\ProgramData\\\\Oracle\\\\Java\\\\javapath;C:\\\\Windows\\\\system32;C:\\\\Windows;C:\\\\Windows\\\\System32\\\\Wbem;C:\\\\Windows\\\\System32\\\\WindowsPowerShell\\\\v1.0\\\\;C:\\\\Program Files\\\\Git\\\\cmd;C:\\\\Program Files (x86)\\\\GtkSharp\\\\2.12\\\\bin;C:\\\\Program Files\\\\dotnet\\\\;C:\\\\Program Files (x86)\\\\Windows Kits\\\\10\\\\Windows Performance Toolkit\\\\;c:\\\\minGW\\\\bin;C:\\\\Program Files (x86)\\\\ATI Technologies\\\\ATI.ACE\\\\Core-Static;C:\\\\WINDOWS\\\\system32;C:\\\\WINDOWS;C:\\\\WINDOWS\\\\System32\\\\Wbem;C:\\\\WINDOWS\\\\System32\\\\WindowsPowerShell\\\\v1.0\\\\;D:\\\\dev\\\\Go\\\\bin;D:\\\\Dev\\\\nodejs\\\\;C:\\\\Program Files\\\\PuTTY\\\\;C:\\\\Users\\\\grayDesk\\\\AppData\\\\Local\\\\Programs\\\\Python\\\\Python36-32\\\\Scripts\\\\;C:\\\\Users\\\\grayDesk\\\\AppData\\\\Local\\\\Programs\\\\Python\\\\Python36-32\\\\;C:\\\\Users\\\\grayDesk\\\\AppData\\\\Local\\\\Microsoft\\\\WindowsApps;C:\\\\Program Files\\\\Microsoft VS Code\\\\bin;C:\\\\Program Files\\\\Microsoft VS Code Insiders\\\\bin;C:\\\\Users\\\\grayDesk\\\\AppData\\\\Roaming\\\\npm'"
      ]
     },
     "execution_count": 7,
     "metadata": {},
     "output_type": "execute_result"
    }
   ],
   "source": [
    "os.environ.get('Path')"
   ]
  },
  {
   "cell_type": "code",
   "execution_count": 15,
   "metadata": {},
   "outputs": [
    {
     "data": {
      "text/plain": [
       "False"
      ]
     },
     "execution_count": 15,
     "metadata": {},
     "output_type": "execute_result"
    }
   ],
   "source": [
    "os.chdir('d:\\dev')\n",
    "os.getcwd()\n",
    "os.path.exists('d:\\de123v')"
   ]
  },
  {
   "cell_type": "code",
   "execution_count": null,
   "metadata": {},
   "outputs": [],
   "source": [
    "import webbrowser\n",
    "webbrowser.open_new('https://google.com')\n",
    "dir(webbrowser.get)"
   ]
  },
  {
   "cell_type": "code",
   "execution_count": null,
   "metadata": {},
   "outputs": [],
   "source": [
    "for dirpath, dirnames, filename in os.walk(os.getcwd()):\n",
    "    print( dirpath, dirnames, filename,sep='\\n')\n",
    "    "
   ]
  },
  {
   "cell_type": "code",
   "execution_count": null,
   "metadata": {},
   "outputs": [],
   "source": [
    "print( os.environ.get('HOME'))"
   ]
  },
  {
   "cell_type": "code",
   "execution_count": null,
   "metadata": {},
   "outputs": [],
   "source": [
    "os.path.exists('test.txt')"
   ]
  },
  {
   "cell_type": "code",
   "execution_count": null,
   "metadata": {},
   "outputs": [],
   "source": [
    "os.getcwd()"
   ]
  },
  {
   "cell_type": "code",
   "execution_count": null,
   "metadata": {},
   "outputs": [],
   "source": [
    "path = os.path.join(os.getcwd(),'input.txt')\n",
    "print(path)\n",
    "os.path.exists(path)"
   ]
  },
  {
   "cell_type": "code",
   "execution_count": null,
   "metadata": {},
   "outputs": [],
   "source": [
    "\n"
   ]
  }
 ],
 "metadata": {
  "kernelspec": {
   "display_name": "Python 3",
   "language": "python",
   "name": "python3"
  },
  "language_info": {
   "codemirror_mode": {
    "name": "ipython",
    "version": 3
   },
   "file_extension": ".py",
   "mimetype": "text/x-python",
   "name": "python",
   "nbconvert_exporter": "python",
   "pygments_lexer": "ipython3",
   "version": "3.6.2"
  }
 },
 "nbformat": 4,
 "nbformat_minor": 2
}
