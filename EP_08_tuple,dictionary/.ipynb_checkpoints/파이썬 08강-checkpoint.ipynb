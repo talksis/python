{
 "cells": [
  {
   "cell_type": "markdown",
   "metadata": {},
   "source": [
    "# 1. 튜플\n",
    "## 튜플의 생성\n",
    "튜플은 리스트와 매우 비슷하게 여러 가지 객체들을 가질 수 있습니다. 다만 리스트와의 가장 큰 차이점은 불변객체(immutalbe)라는 것입니다. \n",
    "따라서 튜플은 리스트와는 다르게 수정하지 말아야 할 객체들. 즉 고정된 객체들을 갖기를 원하거나 변경되지 말아야 하는 경우에 사용하게 된다.\n",
    "튜플은 다음과 같은 기호를 사용하게 된다.\n",
    "\n",
    "__( )__\n",
    "\n",
    "이때 문제가 되는 것은 ()기호가 이미 쓰여진다는 것에 있습니다. 따라서 빈 튜플은 \"()\"와 같이 표기하게 됩니다만, 일반적인 경우에 빈 튜플을 사용하는 경우는 거의 없습니다.\n"
   ]
  },
  {
   "cell_type": "code",
   "execution_count": 3,
   "metadata": {},
   "outputs": [],
   "source": [
    "my_tuple = tuple()"
   ]
  },
  {
   "cell_type": "code",
   "execution_count": 4,
   "metadata": {},
   "outputs": [],
   "source": [
    "my_tuple = ()"
   ]
  },
  {
   "cell_type": "code",
   "execution_count": 6,
   "metadata": {},
   "outputs": [
    {
     "name": "stdout",
     "output_type": "stream",
     "text": [
      "(1, 2, 3)\n"
     ]
    }
   ],
   "source": [
    "my_tuple=(1,2,3,)\n",
    "print(my_tuple)"
   ]
  },
  {
   "cell_type": "code",
   "execution_count": 8,
   "metadata": {},
   "outputs": [
    {
     "name": "stdout",
     "output_type": "stream",
     "text": [
      "('one', 2, 3, 4, [5, 6])\n"
     ]
    }
   ],
   "source": [
    "my_tuple=('one',2,3,4,[5,6])\n",
    "print(my_tuple)"
   ]
  },
  {
   "cell_type": "code",
   "execution_count": 9,
   "metadata": {},
   "outputs": [],
   "source": [
    "my_tuple = 3,'a',99"
   ]
  },
  {
   "cell_type": "code",
   "execution_count": 10,
   "metadata": {},
   "outputs": [
    {
     "name": "stdout",
     "output_type": "stream",
     "text": [
      "(3, 'a', 99)\n"
     ]
    }
   ],
   "source": [
    "print(my_tuple)"
   ]
  },
  {
   "cell_type": "code",
   "execution_count": 12,
   "metadata": {},
   "outputs": [
    {
     "name": "stdout",
     "output_type": "stream",
     "text": [
      "a 0 42\n"
     ]
    }
   ],
   "source": [
    "my_tuple = 3,'a',99,16,0,42\n",
    "_, letter, _,_,quant,rating = my_tuple\n",
    "print(letter,quant,rating)"
   ]
  },
  {
   "cell_type": "markdown",
   "metadata": {},
   "source": [
    "## 튜플의 인덱싱, 슬라이싱\n",
    "문자열, 리스트와 같이 인덱싱과 슬라이싱이 가능합니다. 다만, 튜플은 불변객체이기 때문에 수정을 하거나, 새로운 요소를 추가하거나 요소를 삭제하는 것에 대해서는 허용되지 않습니다. 따라서 문자열과 같다고 생각하면 됩니다.\n"
   ]
  },
  {
   "cell_type": "code",
   "execution_count": 13,
   "metadata": {},
   "outputs": [
    {
     "data": {
      "text/plain": [
       "1"
      ]
     },
     "execution_count": 13,
     "metadata": {},
     "output_type": "execute_result"
    }
   ],
   "source": [
    "### 인덱싱\n",
    "my_tuple = (1,2,3,4,5)\n",
    "my_tuple[1] #결과 2\n",
    "my_tuple[-1] #결과 5\n",
    "\n",
    "### 슬라이싱\n",
    "\n",
    "my_tuple[:]\n",
    "my_tuple[2:3]\n",
    "\n",
    "\n",
    "### index\n",
    "my_tuple.index(3)\n",
    "\n",
    "### count\n",
    "my_tuple.count(1)"
   ]
  },
  {
   "cell_type": "markdown",
   "metadata": {},
   "source": [
    "## 3. 튜플의 사용과 immutable의 이해\n",
    "\n",
    "사실 리스트와 튜플의 차이점은 불변객체인가 수정가능 객체인가의 차이입니다. 파이썬을 처음 접하게 되면, 이 둘의 차이점을 이론적으로 알고 있지만\n",
    "실제 어떻게 사용해야 하는지 알기 어렵습니다. \n",
    "만약 여러분이 C의 구조체에 대해서 이해하고 있다면 튜플이 바로 구조체와 유사하게 쓸 수 있다는 것을 알 수 있습니다. \n",
    "튜플은 불변하는 내용에 대해서 저장하고, 그 타입을 매우 다양하게 가져가게 됩니다. 또한 동적으로 변경될 수 없는 불변객체이기 때문에 접근하는 속도가 빠르며,\n",
    "그 내용을 반복해서 수행하는 동작에서 리스트 보다 빠르게 동작합니다. \n",
    "\n",
    "만약 여러분이 사용하실 때, 불변하는 값들은 튜플을 이용해 저장하는 것이 성능상 이득입니다. 일반적인 사용에서 리스트에는 같은 타입의 객체들을 저장하며, 튜플은 다양한 타입의 자료를 저장합니다.\n",
    "\n",
    "튜플의 immutable과 리스트의 생성과 복사를 다음의 질문에 답해 보시기 바랍니다.\n",
    "\n",
    "__튜플 안에 리스트가 저장되었을 때, 리스트의 내용을 변경할 수 있을까?__"
   ]
  },
  {
   "cell_type": "code",
   "execution_count": 14,
   "metadata": {},
   "outputs": [
    {
     "name": "stdout",
     "output_type": "stream",
     "text": [
      "(1, 2, 3, [5, 6, 7, 8])\n"
     ]
    }
   ],
   "source": [
    "my_tuple = (1,2,3,[4,5,6])\n",
    "\n",
    "my_tuple[3][0]=8 \n",
    "my_tuple[3].append(7)\n",
    "my_tuple[3].pop(0)\n",
    "my_tuple[3].insert(len(my_tuple),8)\n",
    "print(my_tuple)\n"
   ]
  },
  {
   "cell_type": "markdown",
   "metadata": {},
   "source": [
    "# 2. 딕셔너리\n"
   ]
  },
  {
   "cell_type": "markdown",
   "metadata": {},
   "source": [
    "## 1. Dictionary (dict)의 정의와 생성\n",
    "딕셔너리는 특이한 구조로 되어 있습니다. 키와 값의 구조로 저장되는 형태입니다. 일반적으로는 맵이라고 부르기도 합니다. \n",
    "딕셔너리의 특이한 점은 키는 불변하며(immutable) 값은 가변적(mutable)입니다. 따라서 하나의 키에 해당하는 값을 바꿀 수 있지만,\n",
    "키 자체를 바꾸는 것은 불허합니다. \n",
    "따라서 잘 생각해 보면, 키로 사용될 수 있는 것에 튜플을 사용해 됩니다. 튜플은 불변하니까요. 하지만 리스트는 키로 사용할 수 없다는 결론에 도달합니다.\n",
    "하지만 초기에는 딕셔너리에 키를 튜플로 사용할 일은 거의 없다고 봐도 됩니다. \n",
    "\n",
    "딕셔너리는 다음과 같은 기호를 통해 나타냅니다. \n",
    "__{}__"
   ]
  },
  {
   "cell_type": "code",
   "execution_count": 17,
   "metadata": {},
   "outputs": [],
   "source": [
    "{}"
   ]
  },
  {
   "cell_type": "code",
   "execution_count": 18,
   "metadata": {},
   "outputs": [
    {
     "data": {
      "text/plain": [
       "{}"
      ]
     },
     "execution_count": 18,
     "metadata": {},
     "output_type": "execute_result"
    }
   ],
   "source": [
    "dict()"
   ]
  },
  {
   "cell_type": "code",
   "execution_count": 19,
   "metadata": {},
   "outputs": [
    {
     "data": {
      "text/plain": [
       "{'key1': 'value1', 'key2': 'value2', 'key3': 'value3'}"
      ]
     },
     "execution_count": 19,
     "metadata": {},
     "output_type": "execute_result"
    }
   ],
   "source": [
    "{'key1':'value1', 'key2':'value2', 'key3':'value3'}"
   ]
  },
  {
   "cell_type": "code",
   "execution_count": 20,
   "metadata": {},
   "outputs": [
    {
     "data": {
      "text/plain": [
       "{'배트맨': 90, '슈퍼맨': 74, '아이언맨': 93}"
      ]
     },
     "execution_count": 20,
     "metadata": {},
     "output_type": "execute_result"
    }
   ],
   "source": [
    "{ '배트맨':90, '아이언맨':93, '슈퍼맨':74}\n"
   ]
  },
  {
   "cell_type": "code",
   "execution_count": 22,
   "metadata": {},
   "outputs": [
    {
     "data": {
      "text/plain": [
       "{'key1': 'value1', 'key2': 'value2'}"
      ]
     },
     "execution_count": 22,
     "metadata": {},
     "output_type": "execute_result"
    }
   ],
   "source": [
    "dict(key1='value1', key2='value2')"
   ]
  },
  {
   "cell_type": "code",
   "execution_count": 23,
   "metadata": {},
   "outputs": [
    {
     "data": {
      "text/plain": [
       "{'key1': 'value2', 'key2': 'value2'}"
      ]
     },
     "execution_count": 23,
     "metadata": {},
     "output_type": "execute_result"
    }
   ],
   "source": [
    "dict([('key1','value2'),('key2','value2')])"
   ]
  },
  {
   "cell_type": "markdown",
   "metadata": {},
   "source": [
    "## 2. 딕셔너리 값의 읽기 추가 삭제 수정\n",
    "딕셔너리는 문자열, 리스트, 튜플과는 다르게 키와 값의 형태로 저장됩니다. 따라서 인덱싱과 슬라이싱이 존재하지 않습니다. 키와 값의 형태를 사용하는 이유는 키를 이용하여 빠르게 자료에 접근하는 것이 가능하기 때문입니다.\n",
    "값을 읽는 방법은 간단히 키를 부르면 값이 출력되는 방식을 사용하고 있습니다. 따라서 필수적으로 키는 중복되면 안됩니다. "
   ]
  },
  {
   "cell_type": "code",
   "execution_count": 24,
   "metadata": {},
   "outputs": [
    {
     "name": "stdout",
     "output_type": "stream",
     "text": [
      "value1\n"
     ]
    },
    {
     "ename": "KeyError",
     "evalue": "'key10'",
     "output_type": "error",
     "traceback": [
      "\u001b[1;31m---------------------------------------------------------------------------\u001b[0m",
      "\u001b[1;31mKeyError\u001b[0m                                  Traceback (most recent call last)",
      "\u001b[1;32m<ipython-input-24-ca0263fca71b>\u001b[0m in \u001b[0;36m<module>\u001b[1;34m()\u001b[0m\n\u001b[0;32m      1\u001b[0m \u001b[0mmy_dict\u001b[0m \u001b[1;33m=\u001b[0m \u001b[1;33m{\u001b[0m\u001b[1;34m'key1'\u001b[0m\u001b[1;33m:\u001b[0m\u001b[1;34m'value1'\u001b[0m\u001b[1;33m,\u001b[0m \u001b[1;34m'key2'\u001b[0m\u001b[1;33m:\u001b[0m\u001b[1;34m'value2'\u001b[0m\u001b[1;33m,\u001b[0m \u001b[1;34m'key3'\u001b[0m\u001b[1;33m:\u001b[0m\u001b[1;34m'value3'\u001b[0m\u001b[1;33m}\u001b[0m\u001b[1;33m\u001b[0m\u001b[0m\n\u001b[0;32m      2\u001b[0m \u001b[0mprint\u001b[0m\u001b[1;33m(\u001b[0m \u001b[0mmy_dict\u001b[0m\u001b[1;33m[\u001b[0m\u001b[1;34m'key1'\u001b[0m\u001b[1;33m]\u001b[0m \u001b[1;33m)\u001b[0m \u001b[1;31m#결과 'value1'\u001b[0m\u001b[1;33m\u001b[0m\u001b[0m\n\u001b[1;32m----> 3\u001b[1;33m \u001b[0mprint\u001b[0m\u001b[1;33m(\u001b[0m \u001b[0mmy_dict\u001b[0m\u001b[1;33m[\u001b[0m\u001b[1;34m'key10'\u001b[0m\u001b[1;33m]\u001b[0m \u001b[1;33m)\u001b[0m \u001b[1;31m#에러 발생\u001b[0m\u001b[1;33m\u001b[0m\u001b[0m\n\u001b[0m",
      "\u001b[1;31mKeyError\u001b[0m: 'key10'"
     ]
    }
   ],
   "source": [
    "my_dict = {'key1':'value1', 'key2':'value2', 'key3':'value3'}\n",
    "print( my_dict['key1'] ) #결과 'value1'\n",
    "print( my_dict['key10'] ) #에러 발생"
   ]
  },
  {
   "cell_type": "code",
   "execution_count": 26,
   "metadata": {},
   "outputs": [
    {
     "name": "stdout",
     "output_type": "stream",
     "text": [
      "{1: 255, 2: 245}\n"
     ]
    }
   ],
   "source": [
    "my_dict={1:255,2:245}\n",
    "print(my_dict)"
   ]
  },
  {
   "cell_type": "code",
   "execution_count": 27,
   "metadata": {},
   "outputs": [
    {
     "name": "stdout",
     "output_type": "stream",
     "text": [
      "추가한 값입니다.\n"
     ]
    }
   ],
   "source": [
    "### 자료의 추가 \n",
    "my_dict[1] = '추가한 값입니다.'\n",
    "print( my_dict[1] ) #결과 'value1'"
   ]
  },
  {
   "cell_type": "code",
   "execution_count": 28,
   "metadata": {},
   "outputs": [
    {
     "name": "stdout",
     "output_type": "stream",
     "text": [
      "{'key1': 'value1', 'key2': 3, 'key3': 'value3'}\n"
     ]
    }
   ],
   "source": [
    "### 자료의 수정\n",
    "my_dict = {'key1':'value1', 'key2':'value2', 'key3':'value3'}\n",
    "my_dict['key2'] = 3\n",
    "print( my_dict )  #결과 {'key1': 'value1', 'key2': 3, 'key3': 'value3'}"
   ]
  },
  {
   "cell_type": "code",
   "execution_count": 29,
   "metadata": {},
   "outputs": [
    {
     "ename": "KeyError",
     "evalue": "'key1'",
     "output_type": "error",
     "traceback": [
      "\u001b[1;31m---------------------------------------------------------------------------\u001b[0m",
      "\u001b[1;31mKeyError\u001b[0m                                  Traceback (most recent call last)",
      "\u001b[1;32m<ipython-input-29-ea0a212f72ec>\u001b[0m in \u001b[0;36m<module>\u001b[1;34m()\u001b[0m\n\u001b[0;32m      2\u001b[0m \u001b[0mmy_dict\u001b[0m \u001b[1;33m=\u001b[0m \u001b[1;33m{\u001b[0m\u001b[1;34m'key1'\u001b[0m\u001b[1;33m:\u001b[0m\u001b[1;34m'value1'\u001b[0m\u001b[1;33m,\u001b[0m \u001b[1;34m'key2'\u001b[0m\u001b[1;33m:\u001b[0m\u001b[1;34m'value2'\u001b[0m\u001b[1;33m,\u001b[0m \u001b[1;34m'key3'\u001b[0m\u001b[1;33m:\u001b[0m\u001b[1;34m'value3'\u001b[0m\u001b[1;33m}\u001b[0m\u001b[1;33m\u001b[0m\u001b[0m\n\u001b[0;32m      3\u001b[0m \u001b[1;32mdel\u001b[0m \u001b[0mmy_dict\u001b[0m\u001b[1;33m[\u001b[0m\u001b[1;34m'key1'\u001b[0m\u001b[1;33m]\u001b[0m\u001b[1;33m\u001b[0m\u001b[0m\n\u001b[1;32m----> 4\u001b[1;33m \u001b[1;32mdel\u001b[0m \u001b[0mmy_dict\u001b[0m\u001b[1;33m[\u001b[0m\u001b[1;34m'key1'\u001b[0m\u001b[1;33m]\u001b[0m \u001b[1;31m#에러 발생\u001b[0m\u001b[1;33m\u001b[0m\u001b[0m\n\u001b[0m\u001b[0;32m      5\u001b[0m \u001b[1;31m#KeyError: 'key1'\u001b[0m\u001b[1;33m\u001b[0m\u001b[1;33m\u001b[0m\u001b[0m\n",
      "\u001b[1;31mKeyError\u001b[0m: 'key1'"
     ]
    }
   ],
   "source": [
    "### 자료의 삭제 \n",
    "my_dict = {'key1':'value1', 'key2':'value2', 'key3':'value3'}\n",
    "del my_dict['key1']\n",
    "del my_dict['key1'] #에러 발생\n",
    "#KeyError: 'key1'"
   ]
  },
  {
   "cell_type": "markdown",
   "metadata": {},
   "source": [
    "### 3. dictionary 의 유용한 메소드 \n",
    "딕셔너리의 유용한 메서드들을 알아보도록 하겠습니다."
   ]
  },
  {
   "cell_type": "code",
   "execution_count": 30,
   "metadata": {},
   "outputs": [
    {
     "name": "stdout",
     "output_type": "stream",
     "text": [
      "value1\n",
      "None\n",
      "empty\n"
     ]
    }
   ],
   "source": [
    "my_dict = {'key1':'value1', 'key2':'value2', 'key3':'value3'}\n",
    "print( my_dict.get('key1') ) #결과 'value1'\n",
    "print( my_dict.get('key10') ) #결과 None\n",
    "print( my_dict.get('key10','empty') ) #결과 'empty'"
   ]
  },
  {
   "cell_type": "code",
   "execution_count": 31,
   "metadata": {},
   "outputs": [
    {
     "name": "stdout",
     "output_type": "stream",
     "text": [
      "value1\n"
     ]
    },
    {
     "ename": "KeyError",
     "evalue": "'key1'",
     "output_type": "error",
     "traceback": [
      "\u001b[1;31m---------------------------------------------------------------------------\u001b[0m",
      "\u001b[1;31mKeyError\u001b[0m                                  Traceback (most recent call last)",
      "\u001b[1;32m<ipython-input-31-e01bde112560>\u001b[0m in \u001b[0;36m<module>\u001b[1;34m()\u001b[0m\n\u001b[0;32m      1\u001b[0m \u001b[0mmy_dict\u001b[0m \u001b[1;33m=\u001b[0m \u001b[1;33m{\u001b[0m\u001b[1;34m'key1'\u001b[0m\u001b[1;33m:\u001b[0m\u001b[1;34m'value1'\u001b[0m\u001b[1;33m,\u001b[0m \u001b[1;34m'key2'\u001b[0m\u001b[1;33m:\u001b[0m\u001b[1;34m'value2'\u001b[0m\u001b[1;33m,\u001b[0m \u001b[1;34m'key3'\u001b[0m\u001b[1;33m:\u001b[0m\u001b[1;34m'value3'\u001b[0m\u001b[1;33m}\u001b[0m\u001b[1;33m\u001b[0m\u001b[0m\n\u001b[0;32m      2\u001b[0m \u001b[0mprint\u001b[0m\u001b[1;33m(\u001b[0m \u001b[0mmy_dict\u001b[0m\u001b[1;33m.\u001b[0m\u001b[0mpop\u001b[0m\u001b[1;33m(\u001b[0m\u001b[1;34m'key1'\u001b[0m\u001b[1;33m)\u001b[0m \u001b[1;33m)\u001b[0m \u001b[1;31m#결과 'value1'\u001b[0m\u001b[1;33m\u001b[0m\u001b[0m\n\u001b[1;32m----> 3\u001b[1;33m \u001b[0mprint\u001b[0m\u001b[1;33m(\u001b[0m \u001b[0mmy_dict\u001b[0m\u001b[1;33m.\u001b[0m\u001b[0mpop\u001b[0m\u001b[1;33m(\u001b[0m\u001b[1;34m'key1'\u001b[0m\u001b[1;33m)\u001b[0m \u001b[1;33m)\u001b[0m \u001b[1;31m#에러 발생\u001b[0m\u001b[1;33m\u001b[0m\u001b[0m\n\u001b[0m",
      "\u001b[1;31mKeyError\u001b[0m: 'key1'"
     ]
    }
   ],
   "source": [
    "my_dict = {'key1':'value1', 'key2':'value2', 'key3':'value3'}\n",
    "print( my_dict.pop('key1') ) #결과 'value1'\n",
    "print( my_dict.pop('key1') ) #에러 발생"
   ]
  },
  {
   "cell_type": "code",
   "execution_count": 32,
   "metadata": {},
   "outputs": [
    {
     "name": "stdout",
     "output_type": "stream",
     "text": [
      "('key3', 'value3')\n",
      "('key2', 'value2')\n",
      "('key1', 'value1')\n"
     ]
    },
    {
     "ename": "KeyError",
     "evalue": "'popitem(): dictionary is empty'",
     "output_type": "error",
     "traceback": [
      "\u001b[1;31m---------------------------------------------------------------------------\u001b[0m",
      "\u001b[1;31mKeyError\u001b[0m                                  Traceback (most recent call last)",
      "\u001b[1;32m<ipython-input-32-9c9dc98933f2>\u001b[0m in \u001b[0;36m<module>\u001b[1;34m()\u001b[0m\n\u001b[0;32m      3\u001b[0m \u001b[0mprint\u001b[0m\u001b[1;33m(\u001b[0m \u001b[0mmy_dict\u001b[0m\u001b[1;33m.\u001b[0m\u001b[0mpopitem\u001b[0m\u001b[1;33m(\u001b[0m\u001b[1;33m)\u001b[0m \u001b[1;33m)\u001b[0m \u001b[1;31m#tuple 형태의 key value가 반환 결과 ('key2','value2')\u001b[0m\u001b[1;33m\u001b[0m\u001b[0m\n\u001b[0;32m      4\u001b[0m \u001b[0mprint\u001b[0m\u001b[1;33m(\u001b[0m \u001b[0mmy_dict\u001b[0m\u001b[1;33m.\u001b[0m\u001b[0mpopitem\u001b[0m\u001b[1;33m(\u001b[0m\u001b[1;33m)\u001b[0m \u001b[1;33m)\u001b[0m \u001b[1;31m#tuple 형태의 key value가 반환 결과 ('key1','value1')\u001b[0m\u001b[1;33m\u001b[0m\u001b[0m\n\u001b[1;32m----> 5\u001b[1;33m \u001b[0mprint\u001b[0m\u001b[1;33m(\u001b[0m \u001b[0mmy_dict\u001b[0m\u001b[1;33m.\u001b[0m\u001b[0mpopitem\u001b[0m\u001b[1;33m(\u001b[0m\u001b[1;33m)\u001b[0m \u001b[1;33m)\u001b[0m \u001b[1;31m#에러 발생\u001b[0m\u001b[1;33m\u001b[0m\u001b[0m\n\u001b[0m",
      "\u001b[1;31mKeyError\u001b[0m: 'popitem(): dictionary is empty'"
     ]
    }
   ],
   "source": [
    "my_dict = {'key1':'value1', 'key2':'value2', 'key3':'value3'}\n",
    "print( my_dict.popitem() ) #tuple 형태의 key value가 반환 결과 ('key3','value3')\n",
    "print( my_dict.popitem() ) #tuple 형태의 key value가 반환 결과 ('key2','value2')\n",
    "print( my_dict.popitem() ) #tuple 형태의 key value가 반환 결과 ('key1','value1')\n",
    "print( my_dict.popitem() ) #에러 발생"
   ]
  },
  {
   "cell_type": "code",
   "execution_count": 34,
   "metadata": {},
   "outputs": [
    {
     "name": "stdout",
     "output_type": "stream",
     "text": [
      "dict_keys(['key1', 'key2', 'key3'])\n",
      "['key1', 'key2', 'key3']\n"
     ]
    }
   ],
   "source": [
    "my_dict = {'key1':'value1', 'key2':'value2', 'key3':'value3'}\n",
    "print( my_dict.keys() ) #결과 dict_keys(['key1', 'key2', 'key3'])\n",
    "print( list(my_dict.keys()) ) #결과 ['key1', 'key2', 'key3']"
   ]
  },
  {
   "cell_type": "code",
   "execution_count": 35,
   "metadata": {},
   "outputs": [
    {
     "name": "stdout",
     "output_type": "stream",
     "text": [
      "dict_values(['value1', 'value2', 'value3'])\n",
      "['value1', 'value2', 'value3']\n"
     ]
    }
   ],
   "source": [
    "my_dict = {'key1':'value1', 'key2':'value2', 'key3':'value3'}\n",
    "print( my_dict.values() ) #결과 dict_values(['value1', 'value2', 'value3'])\n",
    "print( list(my_dict.values()) ) #결과 ['value1', 'value2', 'value3']"
   ]
  },
  {
   "cell_type": "code",
   "execution_count": 36,
   "metadata": {},
   "outputs": [
    {
     "name": "stdout",
     "output_type": "stream",
     "text": [
      "dict_items([('key1', 'value1'), ('key2', 'value2'), ('key3', 'value3')])\n",
      "[('key1', 'value1'), ('key2', 'value2'), ('key3', 'value3')]\n"
     ]
    }
   ],
   "source": [
    "my_dict = {'key1':'value1', 'key2':'value2', 'key3':'value3'}\n",
    "print( my_dict.items() ) #결과 dict_items([('key1', 'value1'), ('key2', 'value2'), ('key3', 'value3')])\n",
    "print( list(my_dict.items()) ) #결과 dict_items([('key1', 'value1'), ('key2', 'value2'), ('key3', 'value3')])"
   ]
  },
  {
   "cell_type": "code",
   "execution_count": 37,
   "metadata": {},
   "outputs": [
    {
     "name": "stdout",
     "output_type": "stream",
     "text": [
      "{'key1': 'newValue1', 'key2': 'value2', 'key3': 'value3', 'key10': 'New Key and Value'}\n"
     ]
    }
   ],
   "source": [
    "my_dict = {'key1':'value1', 'key2':'value2', 'key3':'value3'}\n",
    "my_dict.update({'key1':'newValue1', 'key10':'New Key and Value'})\n",
    "print( my_dict ) #결과 {'key1': 'newValue1', 'key2': 'value2', 'key3': 'value3', 'key10': 'New Key and Value'}"
   ]
  },
  {
   "cell_type": "markdown",
   "metadata": {},
   "source": [
    "# 3. set\n",
    "\n",
    "## 1. set의 정의\n",
    "\n",
    "set은 중복이 없는 요소들로 구성된 컬렉션입니다. 여러분이 배운 집합을 떠올려 보면 간단합니다. 중복이라는 것이 존재하지 않으며, 중복된 요소가 입력되는 경우\n",
    "무시하게 됩니다. 또한 set은 순서가 없는 것이 특징입니다. 들어온 순서 혹은 정렬이 없다는 뜻입니다. \n",
    "이를 이용하면 다음과 같은 조작을 할 수 있습니다. 리스트나 튜플에 중복이 없는 값들을 받고 싶을 때 형변환하여 사용할 수 있습니다. \n",
    "set은 다음과 같은 기호를 사용합니다. \n",
    "\n",
    "__{ }__"
   ]
  },
  {
   "cell_type": "code",
   "execution_count": 39,
   "metadata": {},
   "outputs": [],
   "source": [
    "s = set()"
   ]
  },
  {
   "cell_type": "code",
   "execution_count": 43,
   "metadata": {},
   "outputs": [
    {
     "data": {
      "text/plain": [
       "dict"
      ]
     },
     "execution_count": 43,
     "metadata": {},
     "output_type": "execute_result"
    }
   ],
   "source": [
    "s = {}\n",
    "type(s)"
   ]
  },
  {
   "cell_type": "code",
   "execution_count": 44,
   "metadata": {},
   "outputs": [
    {
     "name": "stdout",
     "output_type": "stream",
     "text": [
      "{1, 2, 3, 4, 5}\n",
      "{'b', 'f', 'c', 'a'}\n"
     ]
    }
   ],
   "source": [
    "my_set = {1,2,3,4,5,1,1,2,2,3,3}\n",
    "print( my_set ) #결과 {1, 2, 3, 4, 5}\n",
    "\n",
    "my_list = ['a','b','c','a','a','c','f']\n",
    "my_set = set(my_list)\n",
    "print( my_set ) #결과 {'a', 'b', 'c', 'f'}"
   ]
  },
  {
   "cell_type": "markdown",
   "metadata": {},
   "source": [
    "## 2. set의 추가 삭제 \n",
    "\n",
    "set에서는 추가 삭제를 메소드를 통해서 할 수 있습니다. 따라서 기본 메소드와 함께 알아봅시다."
   ]
  },
  {
   "cell_type": "code",
   "execution_count": 45,
   "metadata": {},
   "outputs": [
    {
     "name": "stdout",
     "output_type": "stream",
     "text": [
      "set()\n",
      "{1}\n",
      "{1, 2, 3, 4, 5}\n"
     ]
    }
   ],
   "source": [
    "my_set = set()\n",
    "print( my_set ) #결과 {}\n",
    "my_set.add(1) \n",
    "print( my_set ) #결과 {1}\n",
    "my_set.update({1,2,3,4,5})\n",
    "print( my_set ) #결과 {1,2,3,4,5}"
   ]
  },
  {
   "cell_type": "code",
   "execution_count": 49,
   "metadata": {},
   "outputs": [
    {
     "name": "stdout",
     "output_type": "stream",
     "text": [
      "{2, 3, 4, 5}\n",
      "{3, 4, 5}\n",
      "3\n"
     ]
    }
   ],
   "source": [
    "my_set={1,2,3,4,5}\n",
    "my_set.remove(1)\n",
    "print( my_set ) #결과 {2,3,4,5}\n",
    "# my_set.remove(1) #에러 발생\n",
    "my_set.discard(2)\n",
    "my_set.discard(2)\n",
    "print( my_set ) #결과 {3,4,5}\n",
    "\n",
    "print( my_set.pop() ) #결과 랜덤..."
   ]
  },
  {
   "cell_type": "code",
   "execution_count": 50,
   "metadata": {},
   "outputs": [
    {
     "data": {
      "text/plain": [
       "()"
      ]
     },
     "execution_count": 50,
     "metadata": {},
     "output_type": "execute_result"
    }
   ],
   "source": [
    "tuple()"
   ]
  },
  {
   "cell_type": "code",
   "execution_count": null,
   "metadata": {},
   "outputs": [],
   "source": []
  }
 ],
 "metadata": {
  "kernelspec": {
   "display_name": "Python 3",
   "language": "python",
   "name": "python3"
  },
  "language_info": {
   "codemirror_mode": {
    "name": "ipython",
    "version": 3
   },
   "file_extension": ".py",
   "mimetype": "text/x-python",
   "name": "python",
   "nbconvert_exporter": "python",
   "pygments_lexer": "ipython3",
   "version": "3.6.2"
  }
 },
 "nbformat": 4,
 "nbformat_minor": 2
}
