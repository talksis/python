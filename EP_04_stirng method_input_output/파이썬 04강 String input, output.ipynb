{
 "cells": [
  {
   "cell_type": "markdown",
   "metadata": {},
   "source": [
    "# 문자열 입력과 출력\n",
    "이번 시간에는 사용자의 입력을 받아 그 데이터를 가공하여 출력하는 방법에 대해서 알아봅시다. 프로그래밍의 간단한 구조를 생각해 보면, __입력->처리->출력__ 의형태가 됩니다. 많은 프로그램이 다음과 같은 형식을 갖게 되는데, 사용자의 입력의 값을 받아서 우리가 원하는 처리를 한 후 사용자에게 다시 그 결과를 돌려주는 형태가 됩니다. 이때 데이터를 입력을 받는 방법 중 가장 간단한 방법은 사용자에게 직접 입력을 받는 방법입니다. \n",
    "\n",
    "오늘의 강좌는 다음과 같은 순서로 진행됩니다.\n",
    "\n",
    "1. 사용자의 입력 함수\n",
    "2. 문자열 입력의 가공을 위한 메소드\n",
    "3. print 함수\n",
    "4. format을 통한 문자열 가공\n",
    "\n"
   ]
  },
  {
   "cell_type": "markdown",
   "metadata": {},
   "source": [
    "## 1. 사용자 입력함수\n",
    "사용자의 입력을 받기 위해 우리는 함수를 사용합니다. print 함수와 마찬가지로 입력임으로 input 함수라고 합니다. 이 함수는 사용자의 입력을 받아 그 결과를 반환하게 됩니다. \n",
    "형식은 다음과 같습니다 \n",
    "\n",
    "__input()__\n",
    "\n",
    "__input([프롬프트])__\n",
    "\n",
    "이때, input 함수를 통해 반환된 값은 모두 문자열의 형태로 처리하게됩니다. 따라서 이를 가공하기 위해서는 문자열을 적절히 변환시켜야 합니다. 예를 들어 숫자를 입력받았다고 하더라도 이 수는 문자열로 처리된다는 사실을 기억해야 합니다. 그리고 input 함수가 실행되면, 검은 화면에 프롬프트만 깜빡거리게 될 수 있음으로, 사용자 편의가 저하되는 원인이 됩니다. 따라서 어떠한 정보를 입력받을지 프롬프트로 띄워주는 것 역시 가능합니다. \n",
    "\n",
    "\n"
   ]
  },
  {
   "cell_type": "code",
   "execution_count": null,
   "metadata": {},
   "outputs": [],
   "source": [
    "input()"
   ]
  },
  {
   "cell_type": "code",
   "execution_count": null,
   "metadata": {},
   "outputs": [],
   "source": [
    "input('당신의 이름을 입력하세요')"
   ]
  },
  {
   "cell_type": "code",
   "execution_count": null,
   "metadata": {},
   "outputs": [],
   "source": [
    "input('당신의 이름을 입력하세요\\n')"
   ]
  },
  {
   "cell_type": "code",
   "execution_count": null,
   "metadata": {},
   "outputs": [],
   "source": [
    "input('당신의 이름을 입력하세요-> ')"
   ]
  },
  {
   "cell_type": "code",
   "execution_count": null,
   "metadata": {},
   "outputs": [],
   "source": [
    "user_age = input('당신의 나이를 입력하세요')\n",
    "user_age+5 #5년 후의 나이를 출력해라"
   ]
  },
  {
   "cell_type": "markdown",
   "metadata": {},
   "source": [
    "위의 코드를 살펴보면 에러가 발생한 것을 알 수 있습니다. 에러의 내용으로는 str과 int는 서로 연산될 수 없다고 나옵니다. 그러면 5는 확실하게 int임으로 user_age는 str이라는 것을 확인할 수 있습니다. 따라서 우리는 __input 함수는 모든 입을 문자열로 반환한다.__ 라는 사실을 확인할 수 있습니다. 그렇다면 우리가 계산을 위해 숫자로 입력받는 경우에도 마찬가지로 문자열로 받게 됩니다. 따라서 이를 숫자로 변환시키는 방법을 알아봅시다."
   ]
  },
  {
   "cell_type": "code",
   "execution_count": null,
   "metadata": {},
   "outputs": [],
   "source": [
    "total_score = input('당신의 총점을 입력하세요')\n",
    "total_score = int( total_score )\n",
    "total_score - 50"
   ]
  },
  {
   "cell_type": "code",
   "execution_count": null,
   "metadata": {},
   "outputs": [],
   "source": [
    "total_score = int( input('당신의 총점을 입력하세요') )\n",
    "total_score - 50"
   ]
  },
  {
   "cell_type": "code",
   "execution_count": null,
   "metadata": {},
   "outputs": [],
   "source": [
    "total_score = float(input('당신의 총점을 입력하세요->'))\n",
    "total_score+10"
   ]
  },
  {
   "cell_type": "markdown",
   "metadata": {},
   "source": [
    "### 4.2문자열 수정하기\n",
    "#### 4.2.1 문자열의 operation\n",
    "문자열의 operation은 +, * 를 지원한다. +는 문자열을 서로 합치는 기능을 하며, * 는 문자열을 반복하도록 해준다. 다음의 예제를 확인해 보자"
   ]
  },
  {
   "cell_type": "code",
   "execution_count": null,
   "metadata": {},
   "outputs": [],
   "source": [
    "s1 = 'Hello'\n",
    "s2 = 'World'\n",
    "s1 + s2"
   ]
  },
  {
   "cell_type": "code",
   "execution_count": null,
   "metadata": {},
   "outputs": [],
   "source": [
    "s_go = 'Go! '\n",
    "times = 5\n",
    "s_go * times"
   ]
  },
  {
   "cell_type": "markdown",
   "metadata": {},
   "source": [
    "### 4.2.1 문자열의 method\n",
    "문자열은 하나의 객체이기 때문에 이를 위한 method들이 존재합니다. 많은 학생들이 function과 method의 차이를 물어봅니다만, 초기 학습자의 경우 신경쓰지 않아도 되며, 둘다 비슷한 것이라고 생각해도 무방합니다. 조금 설명을 드리면, function 은 절차지향적인 관점에서 보는 것입니다. 만약 다른 영향을 받지 않고 혼자 동작한다면 function이라고 할 수 있습니다. 하지만 객체지향적인 관점에서는 method라고 합니다. 이는 하나의 객체로 이를 위한 내장 함수들이 존재하는 것이라고 생각하면 됩니다. \n",
    "문자열에는 다양한 method들이 존재합니다. 하나씩 살펴봅시다.\n"
   ]
  },
  {
   "cell_type": "code",
   "execution_count": null,
   "metadata": {},
   "outputs": [],
   "source": [
    "origin_string = 'Hello World'\n",
    "origin_string.lower()"
   ]
  },
  {
   "cell_type": "code",
   "execution_count": null,
   "metadata": {},
   "outputs": [],
   "source": [
    "origin_string.upper()"
   ]
  },
  {
   "cell_type": "code",
   "execution_count": null,
   "metadata": {},
   "outputs": [],
   "source": [
    "origin_string.split()"
   ]
  },
  {
   "cell_type": "code",
   "execution_count": null,
   "metadata": {},
   "outputs": [],
   "source": [
    "origin_string.split('l')"
   ]
  },
  {
   "cell_type": "code",
   "execution_count": null,
   "metadata": {},
   "outputs": [],
   "source": [
    "origin_string.replace('l','X')"
   ]
  },
  {
   "cell_type": "code",
   "execution_count": null,
   "metadata": {},
   "outputs": [],
   "source": [
    "sing_for_rabbit = '산토끼 토끼야 어디를 가느냐 깡총깡총뛰면서 어디를 가느냐 토끼'\n",
    "sing_for_rabbit.count('토끼')"
   ]
  },
  {
   "cell_type": "code",
   "execution_count": null,
   "metadata": {},
   "outputs": [],
   "source": [
    "sing_for_rabbit.index('산토끼')"
   ]
  },
  {
   "cell_type": "code",
   "execution_count": null,
   "metadata": {},
   "outputs": [],
   "source": [
    "sing_for_rabbit.index('토끼',4)"
   ]
  },
  {
   "cell_type": "code",
   "execution_count": null,
   "metadata": {},
   "outputs": [],
   "source": [
    "sing_for_rabbit.find('토끼')"
   ]
  },
  {
   "cell_type": "code",
   "execution_count": null,
   "metadata": {},
   "outputs": [],
   "source": [
    "sing_for_rabbit.find('토끼',2)"
   ]
  },
  {
   "cell_type": "code",
   "execution_count": null,
   "metadata": {},
   "outputs": [],
   "source": [
    "sing_for_rabbit.find('토끼',7)"
   ]
  },
  {
   "cell_type": "code",
   "execution_count": null,
   "metadata": {},
   "outputs": [],
   "source": [
    "sing_for_rabbit.find('토끼',33)"
   ]
  },
  {
   "cell_type": "markdown",
   "metadata": {},
   "source": [
    "# 도전문제\n",
    "## 문자열의 입력과 출력\n",
    "\n",
    "목표\n",
    "1. 이름과 나이를 입력 받는다.\n",
    "2. 5년후의 나이를 계산한다.\n",
    "3. 출력은 다음과 같은 형식으로 한다.   \n",
    "__출력 : 000님은 5년후에 00살입니다.__\n"
   ]
  },
  {
   "cell_type": "code",
   "execution_count": null,
   "metadata": {},
   "outputs": [],
   "source": [
    "name = input('당신의 이름은?->')\n",
    "age = int(input('당신의 나이는?->'))\n",
    "print(name+'님은 5년 후에'+age+'입니다')"
   ]
  },
  {
   "cell_type": "code",
   "execution_count": null,
   "metadata": {},
   "outputs": [],
   "source": [
    "name = input('당신의 이름은?->')\n",
    "age = int(input('당신의 나이는?->'))\n",
    "print(name+'님은 5년 후에 '+str(age+5)+' 살 입니다')"
   ]
  },
  {
   "cell_type": "code",
   "execution_count": null,
   "metadata": {},
   "outputs": [],
   "source": [
    "print('배트맨'+'슈퍼맨'+'아이언맨'+'원더우먼'+'홍길동')"
   ]
  },
  {
   "cell_type": "code",
   "execution_count": null,
   "metadata": {},
   "outputs": [],
   "source": [
    "print('배트맨', '슈퍼맨', '아이언맨', '원더우먼', '홍길동')"
   ]
  },
  {
   "cell_type": "code",
   "execution_count": null,
   "metadata": {},
   "outputs": [],
   "source": [
    "print('배트맨',1, '슈퍼맨',3, '아이언맨',2, '원더우먼', 4,'홍길동',5)"
   ]
  },
  {
   "cell_type": "code",
   "execution_count": null,
   "metadata": {},
   "outputs": [],
   "source": [
    "print('배트맨', '슈퍼맨', '아이언맨', '원더우먼', '홍길동',sep=' | ')"
   ]
  },
  {
   "cell_type": "code",
   "execution_count": null,
   "metadata": {},
   "outputs": [],
   "source": [
    "print('배트맨')\n",
    "print('슈퍼맨')\n",
    "print('아이언맨')\n",
    "print('원더우먼')\n",
    "print('홍길동')\n"
   ]
  },
  {
   "cell_type": "code",
   "execution_count": null,
   "metadata": {},
   "outputs": [],
   "source": [
    "print('배트맨',end=' ')\n",
    "print('슈퍼맨',end=' ' )\n",
    "print('아이언맨',end=' ')\n",
    "print('원더우먼',end=' ')\n",
    "print('홍길동')\n"
   ]
  },
  {
   "cell_type": "markdown",
   "metadata": {},
   "source": [
    "#도전과제 \n",
    "## 다음의 키워드만 써서 풀기 input, pirnt, +, int\n"
   ]
  },
  {
   "cell_type": "code",
   "execution_count": null,
   "metadata": {},
   "outputs": [],
   "source": [
    "name = input('당신의 이름은?->')\n",
    "age = int(input('당신의 나이는?->'))\n",
    "print(name, '님은 5년 후에', age+5,'\\b살 입니다')"
   ]
  },
  {
   "cell_type": "code",
   "execution_count": null,
   "metadata": {},
   "outputs": [],
   "source": []
  }
 ],
 "metadata": {
  "kernelspec": {
   "display_name": "Python 3",
   "language": "python",
   "name": "python3"
  },
  "language_info": {
   "codemirror_mode": {
    "name": "ipython",
    "version": 3
   },
   "file_extension": ".py",
   "mimetype": "text/x-python",
   "name": "python",
   "nbconvert_exporter": "python",
   "pygments_lexer": "ipython3",
   "version": "3.6.2"
  }
 },
 "nbformat": 4,
 "nbformat_minor": 2
}
