{
 "cells": [
  {
   "cell_type": "markdown",
   "metadata": {},
   "source": [
    "# 변수의 유효범위\n",
    "\n",
    "프로그래밍에서는 어떠한 객체에 접근하기 위한 범위가 설정됨, 범위에 따라서 변수의 이름을 통해 접근할 수 있는 위치가 달라진다. 일반적인 C 언어에서는 블록단위를 사용하게 된다. 하지만 파이썬에서는 { } 과 같은 범위를 사용하지 않음으로,  단 두가지의 영역만이 존재한다.\n",
    "전역과 지역이 바로 그 두가지 영역이다.\n",
    "그렇다면 이 지역과 전역을 확인해 보도록 하자\n",
    "\n",
    "\n",
    "\n",
    "\n"
   ]
  },
  {
   "cell_type": "code",
   "execution_count": 2,
   "metadata": {},
   "outputs": [
    {
     "data": {
      "text/plain": [
       "{'In': ['', 'globals()', 'globals()'],\n",
       " 'Out': {1: {...}},\n",
       " '_': {...},\n",
       " '_1': {...},\n",
       " '__': '',\n",
       " '___': '',\n",
       " '__builtin__': <module 'builtins' (built-in)>,\n",
       " '__builtins__': <module 'builtins' (built-in)>,\n",
       " '__doc__': 'Automatically created module for IPython interactive environment',\n",
       " '__loader__': None,\n",
       " '__name__': '__main__',\n",
       " '__package__': None,\n",
       " '__spec__': None,\n",
       " '_dh': ['D:\\\\Dev\\\\pyWorks\\\\python\\\\python\\\\EP_14_scope'],\n",
       " '_i': 'globals()',\n",
       " '_i1': 'globals()',\n",
       " '_i2': 'globals()',\n",
       " '_ih': ['', 'globals()', 'globals()'],\n",
       " '_ii': '',\n",
       " '_iii': '',\n",
       " '_oh': {1: {...}},\n",
       " 'exit': <IPython.core.autocall.ZMQExitAutocall at 0x4a87990>,\n",
       " 'get_ipython': <bound method InteractiveShell.get_ipython of <ipykernel.zmqshell.ZMQInteractiveShell object at 0x04A77730>>,\n",
       " 'quit': <IPython.core.autocall.ZMQExitAutocall at 0x4a87990>}"
      ]
     },
     "execution_count": 2,
     "metadata": {},
     "output_type": "execute_result"
    }
   ],
   "source": [
    "globals()"
   ]
  },
  {
   "cell_type": "code",
   "execution_count": 2,
   "metadata": {},
   "outputs": [
    {
     "name": "stdout",
     "output_type": "stream",
     "text": [
      "{'__name__': '__main__', '__doc__': '14', '__package__': None, '__loader__': None, '__spec__': None, '__builtin__': <module 'builtins' (built-in)>, '__builtins__': <module 'builtins' (built-in)>, '_ih': ['', \"x = 'global x'\\n'14'\\nprint(globals())\\nprint(locals())\", \"x = 'global x'\\n'14'\\nprint(globals())\\nprint(locals())\"], '_oh': {}, '_dh': ['D:\\\\Dev\\\\pyWorks\\\\python\\\\python\\\\EP_14_scope'], 'In': ['', \"x = 'global x'\\n'14'\\nprint(globals())\\nprint(locals())\", \"x = 'global x'\\n'14'\\nprint(globals())\\nprint(locals())\"], 'Out': {}, 'get_ipython': <bound method InteractiveShell.get_ipython of <ipykernel.zmqshell.ZMQInteractiveShell object at 0x04337730>>, 'exit': <IPython.core.autocall.ZMQExitAutocall object at 0x050A0A30>, 'quit': <IPython.core.autocall.ZMQExitAutocall object at 0x050A0A30>, '_': '', '__': '', '___': '', '_i': \"x = 'global x'\\n'14'\\nprint(globals())\\nprint(locals())\", '_ii': '', '_iii': '', '_i1': \"x = 'global x'\\n'14'\\nprint(globals())\\nprint(locals())\", 'x': 'global x', '_i2': \"x = 'global x'\\n'14'\\nprint(globals())\\nprint(locals())\"}\n",
      "{'__name__': '__main__', '__doc__': '14', '__package__': None, '__loader__': None, '__spec__': None, '__builtin__': <module 'builtins' (built-in)>, '__builtins__': <module 'builtins' (built-in)>, '_ih': ['', \"x = 'global x'\\n'14'\\nprint(globals())\\nprint(locals())\", \"x = 'global x'\\n'14'\\nprint(globals())\\nprint(locals())\"], '_oh': {}, '_dh': ['D:\\\\Dev\\\\pyWorks\\\\python\\\\python\\\\EP_14_scope'], 'In': ['', \"x = 'global x'\\n'14'\\nprint(globals())\\nprint(locals())\", \"x = 'global x'\\n'14'\\nprint(globals())\\nprint(locals())\"], 'Out': {}, 'get_ipython': <bound method InteractiveShell.get_ipython of <ipykernel.zmqshell.ZMQInteractiveShell object at 0x04337730>>, 'exit': <IPython.core.autocall.ZMQExitAutocall object at 0x050A0A30>, 'quit': <IPython.core.autocall.ZMQExitAutocall object at 0x050A0A30>, '_': '', '__': '', '___': '', '_i': \"x = 'global x'\\n'14'\\nprint(globals())\\nprint(locals())\", '_ii': '', '_iii': '', '_i1': \"x = 'global x'\\n'14'\\nprint(globals())\\nprint(locals())\", 'x': 'global x', '_i2': \"x = 'global x'\\n'14'\\nprint(globals())\\nprint(locals())\"}\n"
     ]
    }
   ],
   "source": [
    "x = 'global x'\n",
    "'14'\n",
    "print(globals())\n",
    "print(locals())"
   ]
  },
  {
   "cell_type": "code",
   "execution_count": 3,
   "metadata": {},
   "outputs": [
    {
     "data": {
      "text/plain": [
       "{'In': ['',\n",
       "  \"x = 'global x'\\n'14'\\nprint(globals())\\nprint(locals())\",\n",
       "  \"x = 'global x'\\n'14'\\nprint(globals())\\nprint(locals())\",\n",
       "  'def my_func():\\n    pass\\nglobals()'],\n",
       " 'Out': {},\n",
       " '_': '',\n",
       " '__': '',\n",
       " '___': '',\n",
       " '__builtin__': <module 'builtins' (built-in)>,\n",
       " '__builtins__': <module 'builtins' (built-in)>,\n",
       " '__doc__': '14',\n",
       " '__loader__': None,\n",
       " '__name__': '__main__',\n",
       " '__package__': None,\n",
       " '__spec__': None,\n",
       " '_dh': ['D:\\\\Dev\\\\pyWorks\\\\python\\\\python\\\\EP_14_scope'],\n",
       " '_i': \"x = 'global x'\\n'14'\\nprint(globals())\\nprint(locals())\",\n",
       " '_i1': \"x = 'global x'\\n'14'\\nprint(globals())\\nprint(locals())\",\n",
       " '_i2': \"x = 'global x'\\n'14'\\nprint(globals())\\nprint(locals())\",\n",
       " '_i3': 'def my_func():\\n    pass\\nglobals()',\n",
       " '_ih': ['',\n",
       "  \"x = 'global x'\\n'14'\\nprint(globals())\\nprint(locals())\",\n",
       "  \"x = 'global x'\\n'14'\\nprint(globals())\\nprint(locals())\",\n",
       "  'def my_func():\\n    pass\\nglobals()'],\n",
       " '_ii': \"x = 'global x'\\n'14'\\nprint(globals())\\nprint(locals())\",\n",
       " '_iii': '',\n",
       " '_oh': {},\n",
       " 'exit': <IPython.core.autocall.ZMQExitAutocall at 0x50a0a30>,\n",
       " 'get_ipython': <bound method InteractiveShell.get_ipython of <ipykernel.zmqshell.ZMQInteractiveShell object at 0x04337730>>,\n",
       " 'my_func': <function __main__.my_func>,\n",
       " 'quit': <IPython.core.autocall.ZMQExitAutocall at 0x50a0a30>,\n",
       " 'x': 'global x'}"
      ]
     },
     "execution_count": 3,
     "metadata": {},
     "output_type": "execute_result"
    }
   ],
   "source": [
    "def my_func():\n",
    "    pass\n",
    "globals()"
   ]
  },
  {
   "cell_type": "code",
   "execution_count": 10,
   "metadata": {},
   "outputs": [
    {
     "name": "stdout",
     "output_type": "stream",
     "text": [
      "global x\n"
     ]
    }
   ],
   "source": [
    "x = 'global x'\n",
    "\n",
    "def test():\n",
    "    print(x)\n",
    "test()\n"
   ]
  },
  {
   "cell_type": "code",
   "execution_count": 12,
   "metadata": {},
   "outputs": [
    {
     "name": "stdout",
     "output_type": "stream",
     "text": [
      "local x\n",
      "global x\n"
     ]
    }
   ],
   "source": [
    "def test():\n",
    "    l = 'local x'\n",
    "    print(l)\n",
    "test()\n",
    "print(l)"
   ]
  },
  {
   "cell_type": "markdown",
   "metadata": {},
   "source": [
    "## 2. Shawdoing\n",
    "내부 이름으로 접근하는 경우 외부 변수가 가려지게 됨"
   ]
  },
  {
   "cell_type": "code",
   "execution_count": 9,
   "metadata": {},
   "outputs": [
    {
     "name": "stdout",
     "output_type": "stream",
     "text": [
      "{'x': 'local y'}\n",
      "local y\n"
     ]
    }
   ],
   "source": [
    "x = 'global x'\n",
    "def my_func():\n",
    "    x = 'local y'\n",
    "    print(locals())\n",
    "    print(x)\n",
    "my_func()"
   ]
  },
  {
   "cell_type": "code",
   "execution_count": 18,
   "metadata": {},
   "outputs": [
    {
     "name": "stdout",
     "output_type": "stream",
     "text": [
      "inner x\n",
      "inner x\n",
      "global x\n"
     ]
    }
   ],
   "source": [
    "x = 'global x'\n",
    "def outer():\n",
    "#     global x\n",
    "    x = 'outer x'\n",
    "    def inner():\n",
    "        nonlocal x\n",
    "        x = 'inner x'\n",
    "        print(x)\n",
    "    inner()\n",
    "    print(x)\n",
    "outer()\n",
    "print(x)"
   ]
  },
  {
   "cell_type": "code",
   "execution_count": 19,
   "metadata": {},
   "outputs": [
    {
     "name": "stdout",
     "output_type": "stream",
     "text": [
      "1\n"
     ]
    },
    {
     "ename": "TypeError",
     "evalue": "min() takes 0 positional arguments but 1 was given",
     "output_type": "error",
     "traceback": [
      "\u001b[1;31m---------------------------------------------------------------------------\u001b[0m",
      "\u001b[1;31mTypeError\u001b[0m                                 Traceback (most recent call last)",
      "\u001b[1;32m<ipython-input-19-39672b69515f>\u001b[0m in \u001b[0;36m<module>\u001b[1;34m()\u001b[0m\n\u001b[0;32m      3\u001b[0m \u001b[1;32mdef\u001b[0m \u001b[0mmin\u001b[0m\u001b[1;33m(\u001b[0m\u001b[1;33m)\u001b[0m\u001b[1;33m:\u001b[0m\u001b[1;33m\u001b[0m\u001b[0m\n\u001b[0;32m      4\u001b[0m     \u001b[1;32mpass\u001b[0m\u001b[1;33m\u001b[0m\u001b[0m\n\u001b[1;32m----> 5\u001b[1;33m \u001b[0mm\u001b[0m \u001b[1;33m=\u001b[0m \u001b[0mmin\u001b[0m\u001b[1;33m(\u001b[0m\u001b[1;33m[\u001b[0m\u001b[1;36m1\u001b[0m\u001b[1;33m,\u001b[0m\u001b[1;36m54\u001b[0m\u001b[1;33m,\u001b[0m\u001b[1;36m51\u001b[0m\u001b[1;33m,\u001b[0m\u001b[1;36m25\u001b[0m\u001b[1;33m,\u001b[0m\u001b[1;36m2\u001b[0m\u001b[1;33m,\u001b[0m\u001b[1;36m1\u001b[0m\u001b[1;33m]\u001b[0m\u001b[1;33m)\u001b[0m\u001b[1;33m\u001b[0m\u001b[0m\n\u001b[0m\u001b[0;32m      6\u001b[0m \u001b[0mprint\u001b[0m\u001b[1;33m(\u001b[0m\u001b[0mm\u001b[0m\u001b[1;33m)\u001b[0m\u001b[1;33m\u001b[0m\u001b[0m\n",
      "\u001b[1;31mTypeError\u001b[0m: min() takes 0 positional arguments but 1 was given"
     ]
    }
   ],
   "source": [
    "m = min([1,54,51,25,2,1])\n",
    "print(m)\n",
    "def min():\n",
    "    pass\n",
    "m = min([1,54,51,25,2,1])\n",
    "print(m)\n"
   ]
  },
  {
   "cell_type": "code",
   "execution_count": 21,
   "metadata": {},
   "outputs": [
    {
     "name": "stdout",
     "output_type": "stream",
     "text": [
      "global x\n"
     ]
    }
   ],
   "source": [
    "x = 'global x'\n",
    "def outer():\n",
    "    def inner():\n",
    "        x = 'inner x'\n",
    "    inner()\n",
    "    print(x)\n",
    "outer()\n"
   ]
  }
 ],
 "metadata": {
  "kernelspec": {
   "display_name": "Python 3",
   "language": "python",
   "name": "python3"
  },
  "language_info": {
   "codemirror_mode": {
    "name": "ipython",
    "version": 3
   },
   "file_extension": ".py",
   "mimetype": "text/x-python",
   "name": "python",
   "nbconvert_exporter": "python",
   "pygments_lexer": "ipython3",
   "version": "3.6.2"
  }
 },
 "nbformat": 4,
 "nbformat_minor": 2
}
